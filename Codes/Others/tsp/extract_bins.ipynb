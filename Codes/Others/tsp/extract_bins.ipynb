{
 "cells": [
  {
   "cell_type": "code",
   "execution_count": null,
   "id": "82219d27-7c40-4410-8a44-18f75ac881ad",
   "metadata": {},
   "outputs": [],
   "source": [
    "import pandas as pd\n",
    "import numpy as np\n",
    "import json\n",
    "\n",
    "\n",
    "df = pd.read_csv('ts_ft.csv')\n",
    "\n",
    "metrics = ['solution_time_ms', 'peak_memory_kb', 'optimality_gap']\n",
    "\n",
    "bin_edges = {}\n",
    "\n",
    "for m in metrics:\n",
    "    min_val = df[m].min()\n",
    "    max_val = df[m].max()\n",
    "    \n",
    "    if min_val == max_val:\n",
    "        edges = [min_val, max_val]\n",
    "        df[f'{m}_bin'] = 0\n",
    "    else:\n",
    "        #6 edge‐points for 5 equal‐width bins\n",
    "        edges = np.linspace(min_val, max_val, num=6)\n",
    "        df[f'{m}_bin'] = pd.cut(\n",
    "            df[m],\n",
    "            bins=edges,\n",
    "            labels=False,\n",
    "            include_lowest=True,\n",
    "            duplicates='drop'\n",
    "        )\n",
    "    \n",
    "    bin_edges[m] = [float(e) for e in edges]\n",
    "\n",
    "print(\"Bin edges for each metric:\")\n",
    "for m, edges in bin_edges.items():\n",
    "    print(f\"  {m}: {edges}\")\n",
    "\n",
    "\n",
    "\n",
    "with open('ts_ft_bins.json', 'w') as f:\n",
    "    json.dump(bin_edges, f, indent=2)\n",
    "\n",
    "df.to_csv('ts_ft_with_bins.csv', index=False)"
   ]
  },
  {
   "cell_type": "code",
   "execution_count": null,
   "id": "f352f400-5f77-47ea-96df-702e41d43958",
   "metadata": {},
   "outputs": [],
   "source": []
  }
 ],
 "metadata": {
  "kernelspec": {
   "display_name": "Python 3 (ipykernel)",
   "language": "python",
   "name": "python3"
  },
  "language_info": {
   "codemirror_mode": {
    "name": "ipython",
    "version": 3
   },
   "file_extension": ".py",
   "mimetype": "text/x-python",
   "name": "python",
   "nbconvert_exporter": "python",
   "pygments_lexer": "ipython3",
   "version": "3.12.7"
  }
 },
 "nbformat": 4,
 "nbformat_minor": 5
}
