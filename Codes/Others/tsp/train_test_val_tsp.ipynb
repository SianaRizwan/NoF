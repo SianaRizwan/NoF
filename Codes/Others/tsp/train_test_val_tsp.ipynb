{
 "cells": [
  {
   "cell_type": "code",
   "execution_count": null,
   "id": "fa9bd49c-fd31-40b1-9cc4-c35981c458f7",
   "metadata": {},
   "outputs": [],
   "source": [
    "import pandas as pd\n",
    "from sklearn.model_selection import train_test_split\n",
    "\n",
    "# Input / output paths\n",
    "input_csv         = \"ts_ft.csv\"\n",
    "output_train_csv  = \"ts_ft_train.csv\"\n",
    "output_test_csv   = \"ts_ft_test.csv\"\n",
    "output_val_csv    = \"ts_ft_val.csv\"\n",
    "\n",
    "\n",
    "df = pd.read_csv(input_csv)\n",
    "\n",
    "\n",
    "group_key     = \"tsp_file\"\n",
    "unique_files  = df[group_key].drop_duplicates().tolist()\n",
    "\n",
    "#Split 60% train, 20% val, 20% test\n",
    "train_files, temp_files = train_test_split(unique_files, test_size=0.4, random_state=42)\n",
    "val_files, test_files  = train_test_split(temp_files,  test_size=0.5, random_state=42)\n",
    "\n",
    "train_df = df[df[group_key].isin(train_files)]\n",
    "val_df   = df[df[group_key].isin(val_files)]\n",
    "test_df  = df[df[group_key].isin(test_files)]\n",
    "\n",
    "\n",
    "train_df.to_csv(output_train_csv, index=False)\n",
    "val_df.to_csv(output_val_csv,   index=False)\n",
    "test_df.to_csv(output_test_csv, index=False)\n",
    "\n"
   ]
  },
  {
   "cell_type": "code",
   "execution_count": null,
   "id": "f0fb287d-bdfd-457e-b8b5-5d41b7a52b92",
   "metadata": {},
   "outputs": [],
   "source": []
  }
 ],
 "metadata": {
  "kernelspec": {
   "display_name": "Python 3 (ipykernel)",
   "language": "python",
   "name": "python3"
  },
  "language_info": {
   "codemirror_mode": {
    "name": "ipython",
    "version": 3
   },
   "file_extension": ".py",
   "mimetype": "text/x-python",
   "name": "python",
   "nbconvert_exporter": "python",
   "pygments_lexer": "ipython3",
   "version": "3.12.7"
  }
 },
 "nbformat": 4,
 "nbformat_minor": 5
}
