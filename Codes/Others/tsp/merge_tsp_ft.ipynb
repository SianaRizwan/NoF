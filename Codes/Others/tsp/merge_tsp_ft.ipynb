{
 "cells": [
  {
   "cell_type": "code",
   "execution_count": null,
   "id": "23a513b9-775b-46c6-8b27-f49538a7a3af",
   "metadata": {},
   "outputs": [],
   "source": [
    "import pandas as pd\n",
    "\n",
    "\n",
    "algo     = pd.read_csv('ts.csv')\n",
    "feat   = pd.read_csv('tsp_features.csv')\n",
    "\n",
    "merged = pd.merge(\n",
    "    algo,\n",
    "    feat,\n",
    "    left_on='tsp_file',\n",
    "    right_on='instance_filename',\n",
    "    how='inner'\n",
    ")\n",
    "\n",
    "# Drop the duplicate column\n",
    "merged.drop(columns=['instance_filename'], inplace=True)\n",
    "merged.to_csv('ts_ft.csv', index=False)"
   ]
  },
  {
   "cell_type": "code",
   "execution_count": null,
   "id": "fc600aaf-0fb4-40b0-b6d4-7009f13e8a4f",
   "metadata": {},
   "outputs": [],
   "source": []
  }
 ],
 "metadata": {
  "kernelspec": {
   "display_name": "Python 3 (ipykernel)",
   "language": "python",
   "name": "python3"
  },
  "language_info": {
   "codemirror_mode": {
    "name": "ipython",
    "version": 3
   },
   "file_extension": ".py",
   "mimetype": "text/x-python",
   "name": "python",
   "nbconvert_exporter": "python",
   "pygments_lexer": "ipython3",
   "version": "3.12.7"
  }
 },
 "nbformat": 4,
 "nbformat_minor": 5
}
