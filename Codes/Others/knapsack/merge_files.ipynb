{
 "cells": [
  {
   "cell_type": "code",
   "execution_count": null,
   "id": "41ee56a1",
   "metadata": {},
   "outputs": [],
   "source": [
    "import os\n",
    "import pandas as pd\n",
    "\n",
    "input_folder = 'algorithm_folder' #Specify the path containing all the output files for a specific algorithm run under varied settings  \n",
    "output_file = 'bb_final.csv'  #Specify the name of the output file for this notebook\n",
    "\n",
    "def merge_csv_files(folder_path, output_path):\n",
    "    all_files = [os.path.join(folder_path, f) for f in os.listdir(folder_path) if f.endswith('.csv')]\n",
    "\n",
    "    if not all_files:\n",
    "        print(\"No csv found\")\n",
    "        return\n",
    "\n",
    "    combined_df = pd.concat((pd.read_csv(f) for f in all_files), ignore_index=True)\n",
    "\n",
    "    combined_df.to_csv(output_path, index=False)\n",
    "    print(f\"Merged {len(all_files)} files to {output_path}\")\n",
    "\n",
    "merge_csv_files(input_folder, output_file)"
   ]
  },
  {
   "cell_type": "code",
   "execution_count": null,
   "id": "11b44a60",
   "metadata": {},
   "outputs": [],
   "source": []
  }
 ],
 "metadata": {
  "kernelspec": {
   "display_name": "Python [conda env:ollama_gpu]",
   "language": "python",
   "name": "conda-env-ollama_gpu-py"
  },
  "language_info": {
   "codemirror_mode": {
    "name": "ipython",
    "version": 3
   },
   "file_extension": ".py",
   "mimetype": "text/x-python",
   "name": "python",
   "nbconvert_exporter": "python",
   "pygments_lexer": "ipython3",
   "version": "3.12.8"
  }
 },
 "nbformat": 4,
 "nbformat_minor": 5
}
