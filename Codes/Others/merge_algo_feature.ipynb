{
 "cells": [
  {
   "cell_type": "code",
   "execution_count": 2,
   "id": "1f56c973-e348-417c-88d2-0dde1d3ec1a0",
   "metadata": {},
   "outputs": [
    {
     "name": "stdout",
     "output_type": "stream",
     "text": [
      "Saved merged data to merged_output_features.csv.  Total rows: 200\n",
      "   number_of_elements      capacity    max_weight  min_weight   mean_weight  \\\n",
      "0                 400  1.006611e+08  6.008873e+07    1.035661  6.650471e+06   \n",
      "1                 800  8.965018e+07  6.594156e+07    1.070952  4.505903e+07   \n",
      "2                 600  9.343622e+05  7.179036e+05    3.048906  1.390299e+05   \n",
      "3                1200  1.106368e+08  7.663524e+07    1.884656  5.376799e+07   \n",
      "4                1000  9.159128e+09  6.327815e+09    0.897452  1.373721e+09   \n",
      "\n",
      "   median_weight    std_weight  weight_range    max_profit  min_profit  ...  \\\n",
      "0   4.102967e+05  1.332959e+07  6.008873e+07  5.864483e+07    2.604070  ...   \n",
      "1   4.945506e+07  1.582290e+07  6.594156e+07  6.729195e+07    1.958196  ...   \n",
      "2   1.051974e+05  1.480748e+05  7.179006e+05  7.143450e+05    0.955763  ...   \n",
      "3   5.881690e+07  1.877597e+07  7.663524e+07  8.321972e+07    0.967189  ...   \n",
      "4   6.206483e+08  1.718506e+09  6.327815e+09  6.373276e+09    0.912149  ...   \n",
      "\n",
      "   capacity_mean_weight_ratio  capacity_median_weight_ratio  \\\n",
      "0                   15.135941                    245.337386   \n",
      "1                    1.989616                      1.812761   \n",
      "2                    6.720586                      8.881987   \n",
      "3                    2.057671                      1.881038   \n",
      "4                    6.667388                     14.757356   \n",
      "\n",
      "   capacity_std_weight_ratio  std_weight_profit_ratio  \\\n",
      "0                   7.551704                 0.989499   \n",
      "1                   5.665849                 1.000110   \n",
      "2                   6.310069                 1.013600   \n",
      "3                   5.892467                 0.998571   \n",
      "4                   5.329703                 0.999930   \n",
      "\n",
      "   weight_profit_correlation  total_profit  solution_time  ram  cpu_cores  \\\n",
      "0                   0.986607  1.316721e+08          0.067  256         32   \n",
      "1                   0.897325  1.244831e+08          0.146  256         32   \n",
      "2                   0.976401  1.282870e+06          0.103  256         32   \n",
      "3                   0.901891  1.565550e+08          0.225  256         32   \n",
      "4                   0.983006  1.322253e+10          0.192  256         32   \n",
      "\n",
      "   peak_memory  \n",
      "0         6144  \n",
      "1         6144  \n",
      "2         6144  \n",
      "3         6144  \n",
      "4         6144  \n",
      "\n",
      "[5 rows x 27 columns]\n"
     ]
    }
   ],
   "source": [
    "import pandas as pd\n",
    "\n",
    "output_df   = pd.read_csv('output.csv')         \n",
    "features_df = pd.read_csv('features_kp.csv')    \n",
    "\n",
    "merged_df = pd.merge(\n",
    "    features_df,\n",
    "    output_df,\n",
    "    on=['number_of_elements', 'capacity'],\n",
    "    how='left' \n",
    ")\n",
    "\n",
    "merged_df.to_csv('merged_file.csv', index=False) #Specify the output file name"
   ]
  },
  {
   "cell_type": "code",
   "execution_count": null,
   "id": "bea232d8-f17b-4627-ab2a-fc466ca623ba",
   "metadata": {},
   "outputs": [],
   "source": []
  }
 ],
 "metadata": {
  "kernelspec": {
   "display_name": "Python [conda env:ollama_gpu]",
   "language": "python",
   "name": "conda-env-ollama_gpu-py"
  },
  "language_info": {
   "codemirror_mode": {
    "name": "ipython",
    "version": 3
   },
   "file_extension": ".py",
   "mimetype": "text/x-python",
   "name": "python",
   "nbconvert_exporter": "python",
   "pygments_lexer": "ipython3",
   "version": "3.12.8"
  }
 },
 "nbformat": 4,
 "nbformat_minor": 5
}
