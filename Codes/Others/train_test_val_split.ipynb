{
 "cells": [
  {
   "cell_type": "code",
   "execution_count": null,
   "id": "e6efb83f",
   "metadata": {},
   "outputs": [],
   "source": [
    "import pandas as pd\n",
    "from sklearn.model_selection import train_test_split\n",
    "\n",
    "\n",
    "input_csv = \"or_min.csv\"\n",
    "output_train_csv = \"or_min_train.csv\"\n",
    "output_test_csv = \"or_min_test.csv\"\n",
    "output_val_csv = \"or_min_val.csv\"\n",
    "\n",
    "\n",
    "df = pd.read_csv(input_csv)\n",
    "\n",
    "\n",
    "instance_features = [\n",
    "    \"number_of_elements\", \"capacity\", \"max_weight\", \"min_weight\", \"mean_weight\",\n",
    "    \"median_weight\", \"std_weight\", \"weight_range\", \"max_profit\", \"min_profit\", \"mean_profit\",\n",
    "    \"median_profit\", \"std_profit\", \"profit_range\", \"renting_ratio\", \"mean_weight_profit_ratio\",\n",
    "    \"median_weight_profit_ratio\", \"capacity_mean_weight_ratio\", \"capacity_median_weight_ratio\",\n",
    "    \"capacity_std_weight_ratio\", \"std_weight_profit_ratio\", \"weight_profit_correlation\"\n",
    "]\n",
    "\n",
    "\n",
    "df[instance_features] = df[instance_features].round(6)\n",
    "\n",
    "\n",
    "df['instance_id'] = df[instance_features].astype(str).agg('-'.join, axis=1)\n",
    "\n",
    "\n",
    "unique_ids = df['instance_id'].drop_duplicates().tolist()\n",
    "\n",
    "train_ids, temp_ids = train_test_split(unique_ids, test_size=0.4, random_state=42)\n",
    "val_ids, test_ids = train_test_split(temp_ids, test_size=0.5, random_state=42)\n",
    "\n",
    "\n",
    "train_df = df[df['instance_id'].isin(train_ids)].drop(columns=['instance_id'])\n",
    "test_df = df[df['instance_id'].isin(test_ids)].drop(columns=['instance_id'])\n",
    "val_df = df[df['instance_id'].isin(val_ids)].drop(columns=['instance_id'])\n",
    "\n",
    "\n",
    "train_df.to_csv(output_train_csv, index=False)\n",
    "test_df.to_csv(output_test_csv, index=False)\n",
    "val_df.to_csv(output_val_csv, index=False)\n",
    "\n",
    "print(f\"Split complete:\\n- Train: {len(train_df)} rows\\n- Test: {len(test_df)} rows\\n- Val: {len(val_df)} rows\")"
   ]
  },
  {
   "cell_type": "code",
   "execution_count": null,
   "id": "3b793b41",
   "metadata": {},
   "outputs": [],
   "source": [
    "counts = df['instance_id'].value_counts()\n",
    "print(counts.value_counts())"
   ]
  },
  {
   "cell_type": "code",
   "execution_count": null,
   "id": "c6fc4aa8",
   "metadata": {},
   "outputs": [],
   "source": []
  }
 ],
 "metadata": {
  "kernelspec": {
   "display_name": "Python [conda env:ollama_gpu]",
   "language": "python",
   "name": "conda-env-ollama_gpu-py"
  },
  "language_info": {
   "codemirror_mode": {
    "name": "ipython",
    "version": 3
   },
   "file_extension": ".py",
   "mimetype": "text/x-python",
   "name": "python",
   "nbconvert_exporter": "python",
   "pygments_lexer": "ipython3",
   "version": "3.12.8"
  }
 },
 "nbformat": 4,
 "nbformat_minor": 5
}
