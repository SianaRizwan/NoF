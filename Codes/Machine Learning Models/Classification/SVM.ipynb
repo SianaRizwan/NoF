{
 "cells": [
  {
   "cell_type": "code",
   "execution_count": 1,
   "id": "90ec4354",
   "metadata": {},
   "outputs": [
    {
     "name": "stdout",
     "output_type": "stream",
     "text": [
      "Requirement already satisfied: shap in /home/jovyan/conda-envs/torch-gpu/lib/python3.12/site-packages (0.47.2)\n",
      "Requirement already satisfied: numpy in /home/jovyan/conda-envs/torch-gpu/lib/python3.12/site-packages (from shap) (2.1.3)\n",
      "Requirement already satisfied: scipy in /home/jovyan/conda-envs/torch-gpu/lib/python3.12/site-packages (from shap) (1.15.2)\n",
      "Requirement already satisfied: scikit-learn in /home/jovyan/conda-envs/torch-gpu/lib/python3.12/site-packages (from shap) (1.6.1)\n",
      "Requirement already satisfied: pandas in /home/jovyan/conda-envs/torch-gpu/lib/python3.12/site-packages (from shap) (2.2.3)\n",
      "Requirement already satisfied: tqdm>=4.27.0 in /home/jovyan/conda-envs/torch-gpu/lib/python3.12/site-packages (from shap) (4.67.1)\n",
      "Requirement already satisfied: packaging>20.9 in /home/jovyan/conda-envs/torch-gpu/lib/python3.12/site-packages (from shap) (24.2)\n",
      "Requirement already satisfied: slicer==0.0.8 in /home/jovyan/conda-envs/torch-gpu/lib/python3.12/site-packages (from shap) (0.0.8)\n",
      "Requirement already satisfied: numba>=0.54 in /home/jovyan/conda-envs/torch-gpu/lib/python3.12/site-packages (from shap) (0.61.2)\n",
      "Requirement already satisfied: cloudpickle in /home/jovyan/conda-envs/torch-gpu/lib/python3.12/site-packages (from shap) (3.1.1)\n",
      "Requirement already satisfied: typing-extensions in /home/jovyan/conda-envs/torch-gpu/lib/python3.12/site-packages (from shap) (4.12.2)\n",
      "Requirement already satisfied: llvmlite<0.45,>=0.44.0dev0 in /home/jovyan/conda-envs/torch-gpu/lib/python3.12/site-packages (from numba>=0.54->shap) (0.44.0)\n",
      "Requirement already satisfied: python-dateutil>=2.8.2 in /home/jovyan/conda-envs/torch-gpu/lib/python3.12/site-packages (from pandas->shap) (2.9.0.post0)\n",
      "Requirement already satisfied: pytz>=2020.1 in /home/jovyan/conda-envs/torch-gpu/lib/python3.12/site-packages (from pandas->shap) (2024.2)\n",
      "Requirement already satisfied: tzdata>=2022.7 in /home/jovyan/conda-envs/torch-gpu/lib/python3.12/site-packages (from pandas->shap) (2025.1)\n",
      "Requirement already satisfied: joblib>=1.2.0 in /home/jovyan/conda-envs/torch-gpu/lib/python3.12/site-packages (from scikit-learn->shap) (1.4.2)\n",
      "Requirement already satisfied: threadpoolctl>=3.1.0 in /home/jovyan/conda-envs/torch-gpu/lib/python3.12/site-packages (from scikit-learn->shap) (3.6.0)\n",
      "Requirement already satisfied: six>=1.5 in /home/jovyan/conda-envs/torch-gpu/lib/python3.12/site-packages (from python-dateutil>=2.8.2->pandas->shap) (1.16.0)\n",
      "Note: you may need to restart the kernel to use updated packages.\n"
     ]
    }
   ],
   "source": [
    "%pip install shap\n",
    "\n",
    "from sklearn.svm import SVC\n",
    "from sklearn.preprocessing import StandardScaler\n",
    "from sklearn.metrics import accuracy_score, precision_score, recall_score, f1_score\n",
    "from sklearn.model_selection import ParameterGrid\n",
    "import pandas as pd\n",
    "import numpy as np\n",
    "import shap\n",
    "import os\n",
    "import json\n",
    "import joblib"
   ]
  },
  {
   "cell_type": "code",
   "execution_count": 2,
   "id": "01145ec6",
   "metadata": {},
   "outputs": [],
   "source": [
    "def evaluate_classification(y_true, y_pred, results, solver_name, label):\n",
    "    acc = accuracy_score(y_true, y_pred)\n",
    "    prec = precision_score(y_true, y_pred, average='macro', zero_division=0)\n",
    "    rec = recall_score(y_true, y_pred, average='macro', zero_division=0)\n",
    "    f1 = f1_score(y_true, y_pred, average='macro', zero_division=0)\n",
    "\n",
    "    print(f\"{label} | Acc: {acc:.4f}, Prec: {prec:.4f}, Rec: {rec:.4f}, F1: {f1:.4f}\")\n",
    "\n",
    "    results.append({\n",
    "        \"Solver\": solver_name,\n",
    "        \"Dataset\": label,\n",
    "        \"Accuracy\": acc,\n",
    "        \"Precision\": prec,\n",
    "        \"Recall\": rec,\n",
    "        \"F1-Score\": f1\n",
    "    })"
   ]
  },
  {
   "cell_type": "code",
   "execution_count": null,
   "id": "530c4bb0",
   "metadata": {},
   "outputs": [],
   "source": [
    "import os\n",
    "import numpy as np\n",
    "import pandas as pd\n",
    "import shap\n",
    "\n",
    "def log_shap_and_importance_classification(model, X_val, y_val, pred_val, features, solver_name, target):\n",
    "\n",
    "    background = shap.sample(X_val, min(100, X_val.shape[0]), random_state=42)\n",
    "\n",
    "    try:\n",
    "        explainer   = shap.KernelExplainer(model.predict_proba, background)\n",
    "        shap_values = explainer.shap_values(X_val, nsamples=100)\n",
    "\n",
    "        # normalize into (n_samples, n_features)\n",
    "        arrs = shap_values if isinstance(shap_values, list) else [shap_values]\n",
    "        proc = []\n",
    "        for a in arrs:\n",
    "            a = np.array(a)\n",
    "            if a.ndim == 4:\n",
    "                a = np.squeeze(a)\n",
    "            if a.ndim == 3:\n",
    "                a = a.mean(axis=-1)\n",
    "            \n",
    "            if a.ndim != 2:\n",
    "                raise ValueError(f\"Error shap array shape {a.shape}\")\n",
    "            proc.append(a)\n",
    "\n",
    "        # stack to (n_samples, n_features, n_classes)\n",
    "        arr = np.stack(proc, axis=-1)\n",
    "\n",
    "       \n",
    "        feat_imp = np.mean(np.abs(arr), axis=(0,2))\n",
    "        assert feat_imp.shape[0] == len(features)\n",
    "        shap_row = feat_imp[np.newaxis, :]\n",
    "\n",
    "   \n",
    "        shap_df = pd.DataFrame(shap_row, columns=features)\n",
    "        shap_df[\"target\"] = target\n",
    "        shap_df[\"solver\"] = solver_name\n",
    "        out_dir = \"./svm_class/svm_shap_values\"\n",
    "        os.makedirs(out_dir, exist_ok=True)\n",
    "        shap_df.to_csv(\n",
    "            f\"{out_dir}/shap_{solver_name}_{target}_classification.csv\",\n",
    "            index=False\n",
    "        )\n",
    "\n",
    "       \n",
    "        if hasattr(model, \"coef_\"):\n",
    "            coefs = np.abs(model.coef_)\n",
    "            coef_imp = coefs.mean(axis=0) if coefs.ndim == 2 else coefs.flatten()\n",
    "        else:\n",
    "            coef_imp = np.zeros(len(features))\n",
    "\n",
    "        imp_df = pd.DataFrame({\n",
    "            \"feature\": features,\n",
    "            \"model_importance\": coef_imp,\n",
    "            \"target\": target,\n",
    "            \"solver\": solver_name\n",
    "        })\n",
    "        imp_dir = \"./svm_class/svm_feature_importance\"\n",
    "        os.makedirs(imp_dir, exist_ok=True)\n",
    "        imp_df.to_csv(\n",
    "            f\"{imp_dir}/svm_feature_importance_classification.csv\",\n",
    "            mode='a', index=False,\n",
    "            header=not os.path.exists(f\"{imp_dir}/svm_feature_importance_classification.csv\")\n",
    "        )\n",
    "\n",
    "        # Top-5\n",
    "        top5 = imp_df.nlargest(5, \"model_importance\")\n",
    "        top5.to_csv(\n",
    "            f\"{imp_dir}/svm_top5_feature_importance_classification.csv\",\n",
    "            mode='a', index=False,\n",
    "            header=not os.path.exists(f\"{imp_dir}/svm_top5_feature_importance_classification.csv\")\n",
    "        )\n",
    "\n",
    "        print(f\"SHAP saved for {solver_name}-{target}.\")\n",
    "\n",
    "    except Exception as e:\n",
    "        print(f\"SHAP failed for {solver_name}-{target}: {e}\")"
   ]
  },
  {
   "cell_type": "code",
   "execution_count": null,
   "id": "01445fc2",
   "metadata": {},
   "outputs": [],
   "source": [
    "def train_svm_classifier_for_solver(solver_name, train_file, test_file, val_file):\n",
    "    print(f\"\\nSolver: {solver_name}\")\n",
    "\n",
    "    df_train = pd.read_csv(train_file).dropna()\n",
    "    df_test  = pd.read_csv(test_file).dropna()\n",
    "    df_val   = pd.read_csv(val_file).dropna()\n",
    "\n",
    "    features = [\n",
    "        \"number_of_elements\",\"capacity\",\"max_weight\",\"min_weight\",\"mean_weight\",\n",
    "        \"median_weight\",\"std_weight\",\"weight_range\",\"max_profit\",\"min_profit\",\"mean_profit\",\n",
    "        \"median_profit\",\"std_profit\",\"profit_range\",\"renting_ratio\",\"mean_weight_profit_ratio\",\n",
    "        \"median_weight_profit_ratio\",\"capacity_mean_weight_ratio\",\"capacity_median_weight_ratio\",\n",
    "        \"capacity_std_weight_ratio\",\"std_weight_profit_ratio\",\"weight_profit_correlation\",\n",
    "        \"ram\",\"cpu_cores\"\n",
    "    ]\n",
    "    target_cols = [\"solution_time\", \"optimality_gap\", \"peak_memory\"]\n",
    "\n",
    " \n",
    "    bins_dir = os.path.join(BINS_BASE_DIR, f\"{solver_name}_bins\")\n",
    "    if not os.path.isdir(bins_dir):\n",
    "        raise FileNotFoundError(f\"No bins directory: {bins_dir}\")\n",
    "    json_files = [f for f in os.listdir(bins_dir) if f.endswith(\"_bins.json\")]\n",
    "    if len(json_files) != 1:\n",
    "        raise FileNotFoundError(f\"Expected one json in {bins_dir}, found: {json_files}\")\n",
    "    bin_path = os.path.join(bins_dir, json_files[0])\n",
    "    with open(bin_path, \"r\") as f:\n",
    "        bin_edges_dict = json.load(f)\n",
    "\n",
    "    \n",
    "    scaler = StandardScaler().fit(df_train[features])\n",
    "    X_train = scaler.transform(df_train[features])\n",
    "    X_test  = scaler.transform(df_test[features])\n",
    "    X_val   = scaler.transform(df_val[features])\n",
    "\n",
    "\n",
    "    base_out = \"./svm_class\"\n",
    "    os.makedirs(f\"{base_out}/svm_tuning\", exist_ok=True)\n",
    "    os.makedirs(f\"{base_out}/svm_configs\", exist_ok=True)\n",
    "    os.makedirs(f\"{base_out}/svm_classifier_models\", exist_ok=True)\n",
    "\n",
    "    results = []\n",
    "    for target in target_cols:\n",
    "        if target not in bin_edges_dict:\n",
    "            print(f\" No bins for '{target}'.\")\n",
    "            continue\n",
    "        edges = bin_edges_dict[target]\n",
    "\n",
    "        \n",
    "        def to_bins(arr, edges):\n",
    "            labels = np.digitize(arr, edges[:-1], right=False) - 1\n",
    "            return np.clip(labels, 0, len(edges) - 2)\n",
    "\n",
    "        y_train = to_bins(df_train[target].values, edges)\n",
    "        y_test  = to_bins(df_test [target].values, edges)\n",
    "        y_val   = to_bins(df_val  [target].values, edges)\n",
    "\n",
    "       \n",
    "        max_train = y_train.max()\n",
    "        y_test = np.clip(y_test, 0, max_train)\n",
    "        y_val  = np.clip(y_val,   0, max_train)\n",
    "\n",
    "        #  Skip if only one class in train\n",
    "        cls_train = np.unique(y_train)\n",
    "        if len(cls_train) < 2:\n",
    "            print(f\"Skipping '{target}': only one class {cls_train}\")\n",
    "            continue\n",
    "\n",
    "        # Hyperparameter grid search\n",
    "        param_grid = {\n",
    "            \"C\": [0.1, 1, 10],\n",
    "            \"kernel\": [\"linear\", \"rbf\"]\n",
    "        }\n",
    "        best_f1     = -np.inf\n",
    "        tuning_logs = []\n",
    "        best_model  = None\n",
    "\n",
    "        for params in ParameterGrid(param_grid):\n",
    "            model = SVC(**params, probability=True, random_state=42)\n",
    "            model.fit(X_train, y_train)\n",
    "            pred_val = model.predict(X_val)\n",
    "            f1 = f1_score(y_val, pred_val, average='weighted')\n",
    "            tuning_logs.append({**params, \"f1_score\": f1})\n",
    "\n",
    "            if f1 > best_f1:\n",
    "                best_f1       = f1\n",
    "                best_model    = model\n",
    "                best_params   = params\n",
    "                best_y_test    = y_test\n",
    "                best_y_val     = y_val\n",
    "                best_pred_test = model.predict(X_test)\n",
    "                best_pred_val  = pred_val\n",
    "\n",
    "        if best_model is None:\n",
    "            print(f\"No valid found '{target}'\")\n",
    "            continue\n",
    "\n",
    "        # Save tuning logs & config\n",
    "        pd.DataFrame(tuning_logs).to_csv(\n",
    "            f\"{base_out}/svm_tuning/tuning_svm_{solver_name}_{target}.csv\", index=False\n",
    "        ) \n",
    "        with open(f\"{base_out}/svm_configs/best_svm_{solver_name}_{target}.json\", \"w\") as f:\n",
    "            json.dump(best_params, f, indent=4)\n",
    "\n",
    "        # Evaluate \n",
    "        print(f\"[{target} Test]\")\n",
    "        evaluate_classification(best_y_test,    best_pred_test, results,\n",
    "                                solver_name, target)\n",
    "        print(f\"[{target} Val]\")\n",
    "        evaluate_classification(best_y_val,     best_pred_val,  results,\n",
    "                                solver_name, target)\n",
    "\n",
    "      \n",
    "        model_path = f\"{base_out}/svm_classifier_models/svm_{solver_name}_{target}.joblib\"\n",
    "        joblib.dump(best_model, model_path)\n",
    "        print(f\"Saved model{model_path}\")\n",
    "\n",
    "        \n",
    "        log_shap_and_importance_classification(\n",
    "            best_model, X_val, best_y_val, best_pred_val,\n",
    "            features, solver_name, target\n",
    "        )\n",
    "\n",
    "  \n",
    "    pd.DataFrame(results).to_csv(\n",
    "        f\"{base_out}/svm_evaluation_results_classification.csv\",\n",
    "        mode='a', index=False,\n",
    "        header=not os.path.exists(f\"{base_out}/svm_evaluation_results_classification.csv\")\n",
    "    )"
   ]
  },
  {
   "cell_type": "code",
   "execution_count": 5,
   "id": "7f2ab7cc",
   "metadata": {},
   "outputs": [],
   "source": [
    "def run_all_models(base_folder):\n",
    "    for root, dirs, files in os.walk(base_folder):\n",
    "        for folder in dirs:\n",
    "            folder_path = os.path.join(root, folder)\n",
    "            csv_files = os.listdir(folder_path)\n",
    "\n",
    "            train_file = [f for f in csv_files if f.endswith(\"_train.csv\")]\n",
    "            test_file = [f for f in csv_files if f.endswith(\"_test.csv\")]\n",
    "            val_file = [f for f in csv_files if f.endswith(\"_val.csv\")]\n",
    "\n",
    "            if train_file and test_file and val_file:\n",
    "                train_fp = os.path.join(folder_path, train_file[0])\n",
    "                test_fp = os.path.join(folder_path, test_file[0])\n",
    "                val_fp = os.path.join(folder_path, val_file[0])\n",
    "\n",
    "                solver_name = folder  \n",
    "                train_svm_classifier_for_solver(solver_name, train_fp, test_fp, val_fp)"
   ]
  },
  {
   "cell_type": "code",
   "execution_count": null,
   "id": "eda143d5-866b-4a5d-9734-4531e057c9bb",
   "metadata": {},
   "outputs": [
    {
     "name": "stdout",
     "output_type": "stream",
     "text": [
      "\n",
      "Solver: or_min\n",
      "[solution_time → Test]\n",
      "solution_time | Acc: 1.0000, Prec: 1.0000, Rec: 1.0000, F1: 1.0000\n",
      "[solution_time → Val]\n",
      "solution_time | Acc: 1.0000, Prec: 1.0000, Rec: 1.0000, F1: 1.0000\n",
      "  • saved SVM model → ./binres_min_kp/svm_class/svm_classifier_models/svm_or_min_solution_time.joblib\n"
     ]
    },
    {
     "data": {
      "application/vnd.jupyter.widget-view+json": {
       "model_id": "693f2b5ff3ed4872926bafc71a9d609e",
       "version_major": 2,
       "version_minor": 0
      },
      "text/plain": [
       "  0%|          | 0/560 [00:00<?, ?it/s]"
      ]
     },
     "metadata": {},
     "output_type": "display_data"
    },
    {
     "name": "stdout",
     "output_type": "stream",
     "text": [
      "SHAP & coefficient importances saved for or_min-solution_time.\n",
      "[optimality_gap → Test]\n",
      "optimality_gap | Acc: 1.0000, Prec: 1.0000, Rec: 1.0000, F1: 1.0000\n",
      "[optimality_gap → Val]\n",
      "optimality_gap | Acc: 0.9500, Prec: 0.4750, Rec: 0.5000, F1: 0.4872\n",
      "  • saved SVM model → ./binres_min_kp/svm_class/svm_classifier_models/svm_or_min_optimality_gap.joblib\n"
     ]
    },
    {
     "data": {
      "application/vnd.jupyter.widget-view+json": {
       "model_id": "1cbad83eeebd4090bd9077aecbb7981b",
       "version_major": 2,
       "version_minor": 0
      },
      "text/plain": [
       "  0%|          | 0/560 [00:00<?, ?it/s]"
      ]
     },
     "metadata": {},
     "output_type": "display_data"
    },
    {
     "name": "stdout",
     "output_type": "stream",
     "text": [
      "SHAP & coefficient importances saved for or_min-optimality_gap.\n",
      "[peak_memory → Test]\n",
      "peak_memory | Acc: 0.9393, Prec: 0.5827, Rec: 0.5359, F1: 0.5551\n",
      "[peak_memory → Val]\n",
      "peak_memory | Acc: 0.9536, Prec: 0.5374, Rec: 0.5744, F1: 0.5542\n",
      "  • saved SVM model → ./binres_min_kp/svm_class/svm_classifier_models/svm_or_min_peak_memory.joblib\n"
     ]
    },
    {
     "data": {
      "application/vnd.jupyter.widget-view+json": {
       "model_id": "68127c71bebd4e1bb8ee79901804488e",
       "version_major": 2,
       "version_minor": 0
      },
      "text/plain": [
       "  0%|          | 0/560 [00:00<?, ?it/s]"
      ]
     },
     "metadata": {},
     "output_type": "display_data"
    },
    {
     "name": "stdout",
     "output_type": "stream",
     "text": [
      "SHAP & coefficient importances saved for or_min-peak_memory.\n",
      "\n",
      "Solver: gurobi_min\n",
      "[solution_time → Test]\n",
      "solution_time | Acc: 0.7857, Prec: 0.4336, Rec: 0.3623, F1: 0.3561\n",
      "[solution_time → Val]\n",
      "solution_time | Acc: 0.8839, Prec: 0.5519, Rec: 0.4496, F1: 0.4772\n",
      "  • saved SVM model → ./binres_min_kp/svm_class/svm_classifier_models/svm_gurobi_min_solution_time.joblib\n"
     ]
    },
    {
     "data": {
      "application/vnd.jupyter.widget-view+json": {
       "model_id": "ec1886c2f53b4f079bc227e6ca8c5196",
       "version_major": 2,
       "version_minor": 0
      },
      "text/plain": [
       "  0%|          | 0/560 [00:00<?, ?it/s]"
      ]
     },
     "metadata": {},
     "output_type": "display_data"
    },
    {
     "name": "stdout",
     "output_type": "stream",
     "text": [
      "SHAP & coefficient importances saved for gurobi_min-solution_time.\n",
      "  • skipping 'optimality_gap': only one class [0]\n",
      "[peak_memory → Test]\n",
      "peak_memory | Acc: 0.2732, Prec: 0.2441, Rec: 0.2544, F1: 0.2406\n",
      "[peak_memory → Val]\n",
      "peak_memory | Acc: 0.4179, Prec: 0.4337, Rec: 0.3723, F1: 0.3727\n",
      "  • saved SVM model → ./binres_min_kp/svm_class/svm_classifier_models/svm_gurobi_min_peak_memory.joblib\n"
     ]
    },
    {
     "data": {
      "application/vnd.jupyter.widget-view+json": {
       "model_id": "0705642de7d34931840e300de191687e",
       "version_major": 2,
       "version_minor": 0
      },
      "text/plain": [
       "  0%|          | 0/560 [00:00<?, ?it/s]"
      ]
     },
     "metadata": {},
     "output_type": "display_data"
    },
    {
     "name": "stdout",
     "output_type": "stream",
     "text": [
      "SHAP & coefficient importances saved for gurobi_min-peak_memory.\n",
      "\n",
      "Solver: greedy_min\n",
      "[solution_time → Test]\n",
      "solution_time | Acc: 0.9964, Prec: 0.9968, Rec: 0.9867, F1: 0.9915\n",
      "[solution_time → Val]\n",
      "solution_time | Acc: 0.8964, Prec: 0.8299, Rec: 0.9066, F1: 0.8507\n",
      "  • saved SVM model → ./binres_min_kp/svm_class/svm_classifier_models/svm_greedy_min_solution_time.joblib\n"
     ]
    },
    {
     "data": {
      "application/vnd.jupyter.widget-view+json": {
       "model_id": "ec0c9e5af3aa410fa9bdd08bc51d5ac0",
       "version_major": 2,
       "version_minor": 0
      },
      "text/plain": [
       "  0%|          | 0/560 [00:00<?, ?it/s]"
      ]
     },
     "metadata": {},
     "output_type": "display_data"
    },
    {
     "name": "stdout",
     "output_type": "stream",
     "text": [
      "SHAP & coefficient importances saved for greedy_min-solution_time.\n",
      "[optimality_gap → Test]\n",
      "optimality_gap | Acc: 0.7750, Prec: 0.2583, Rec: 0.3333, F1: 0.2911\n",
      "[optimality_gap → Val]\n",
      "optimality_gap | Acc: 0.8250, Prec: 0.2750, Rec: 0.3333, F1: 0.3014\n",
      "  • saved SVM model → ./binres_min_kp/svm_class/svm_classifier_models/svm_greedy_min_optimality_gap.joblib\n"
     ]
    },
    {
     "data": {
      "application/vnd.jupyter.widget-view+json": {
       "model_id": "9f6c9b90db194023ae76428722046e8f",
       "version_major": 2,
       "version_minor": 0
      },
      "text/plain": [
       "  0%|          | 0/560 [00:00<?, ?it/s]"
      ]
     },
     "metadata": {},
     "output_type": "display_data"
    },
    {
     "name": "stdout",
     "output_type": "stream",
     "text": [
      "SHAP & coefficient importances saved for greedy_min-optimality_gap.\n",
      "  • skipping 'peak_memory': only one class [0]\n",
      "\n",
      "Solver: ga_min\n",
      "[solution_time → Test]\n",
      "solution_time | Acc: 0.9875, Prec: 0.9857, Rec: 0.9778, F1: 0.9808\n",
      "[solution_time → Val]\n",
      "solution_time | Acc: 0.9375, Prec: 0.9300, Rec: 0.9405, F1: 0.9346\n",
      "  • saved SVM model → ./binres_min_kp/svm_class/svm_classifier_models/svm_ga_min_solution_time.joblib\n"
     ]
    },
    {
     "data": {
      "application/vnd.jupyter.widget-view+json": {
       "model_id": "a407ba8847d74a65b11232b38bc0d675",
       "version_major": 2,
       "version_minor": 0
      },
      "text/plain": [
       "  0%|          | 0/560 [00:00<?, ?it/s]"
      ]
     },
     "metadata": {},
     "output_type": "display_data"
    },
    {
     "name": "stdout",
     "output_type": "stream",
     "text": [
      "SHAP & coefficient importances saved for ga_min-solution_time.\n",
      "  • skipping 'optimality_gap': only one class [0]\n",
      "[peak_memory → Test]\n",
      "peak_memory | Acc: 1.0000, Prec: 1.0000, Rec: 1.0000, F1: 1.0000\n",
      "[peak_memory → Val]\n",
      "peak_memory | Acc: 1.0000, Prec: 1.0000, Rec: 1.0000, F1: 1.0000\n",
      "  • saved SVM model → ./binres_min_kp/svm_class/svm_classifier_models/svm_ga_min_peak_memory.joblib\n"
     ]
    },
    {
     "data": {
      "application/vnd.jupyter.widget-view+json": {
       "model_id": "96f77c1983ba41afb3238af2bb51178e",
       "version_major": 2,
       "version_minor": 0
      },
      "text/plain": [
       "  0%|          | 0/560 [00:00<?, ?it/s]"
      ]
     },
     "metadata": {},
     "output_type": "display_data"
    },
    {
     "name": "stdout",
     "output_type": "stream",
     "text": [
      "SHAP & coefficient importances saved for ga_min-peak_memory.\n",
      "\n",
      "Solver: dp_min\n",
      "[solution_time → Test]\n",
      "solution_time | Acc: 0.8107, Prec: 0.6394, Rec: 0.6550, F1: 0.6430\n",
      "[solution_time → Val]\n",
      "solution_time | Acc: 0.7339, Prec: 0.7788, Rec: 0.7805, F1: 0.7775\n",
      "  • saved SVM model → ./binres_min_kp/svm_class/svm_classifier_models/svm_dp_min_solution_time.joblib\n"
     ]
    },
    {
     "data": {
      "application/vnd.jupyter.widget-view+json": {
       "model_id": "a36b442181ca4b9cba6a656db8945286",
       "version_major": 2,
       "version_minor": 0
      },
      "text/plain": [
       "  0%|          | 0/560 [00:00<?, ?it/s]"
      ]
     },
     "metadata": {},
     "output_type": "display_data"
    },
    {
     "name": "stdout",
     "output_type": "stream",
     "text": [
      "SHAP & coefficient importances saved for dp_min-solution_time.\n",
      "[optimality_gap → Test]\n",
      "optimality_gap | Acc: 1.0000, Prec: 1.0000, Rec: 1.0000, F1: 1.0000\n",
      "[optimality_gap → Val]\n",
      "optimality_gap | Acc: 0.9500, Prec: 0.4750, Rec: 0.5000, F1: 0.4872\n",
      "  • saved SVM model → ./binres_min_kp/svm_class/svm_classifier_models/svm_dp_min_optimality_gap.joblib\n"
     ]
    },
    {
     "data": {
      "application/vnd.jupyter.widget-view+json": {
       "model_id": "364b823d1f5a4ff6add2531be87b291c",
       "version_major": 2,
       "version_minor": 0
      },
      "text/plain": [
       "  0%|          | 0/560 [00:00<?, ?it/s]"
      ]
     },
     "metadata": {},
     "output_type": "display_data"
    },
    {
     "name": "stdout",
     "output_type": "stream",
     "text": [
      "SHAP & coefficient importances saved for dp_min-optimality_gap.\n",
      "[peak_memory → Test]\n",
      "peak_memory | Acc: 0.9286, Prec: 0.6410, Rec: 0.6667, F1: 0.6533\n",
      "[peak_memory → Val]\n",
      "peak_memory | Acc: 0.9286, Prec: 0.6410, Rec: 0.6667, F1: 0.6533\n",
      "  • saved SVM model → ./binres_min_kp/svm_class/svm_classifier_models/svm_dp_min_peak_memory.joblib\n"
     ]
    },
    {
     "data": {
      "application/vnd.jupyter.widget-view+json": {
       "model_id": "a16c6b9d8faf4b6e984f2ec801680ff4",
       "version_major": 2,
       "version_minor": 0
      },
      "text/plain": [
       "  0%|          | 0/560 [00:00<?, ?it/s]"
      ]
     },
     "metadata": {},
     "output_type": "display_data"
    },
    {
     "name": "stdout",
     "output_type": "stream",
     "text": [
      "SHAP & coefficient importances saved for dp_min-peak_memory.\n",
      "\n",
      "Solver: bb_min\n",
      "[solution_time → Test]\n",
      "solution_time | Acc: 0.9839, Prec: 0.9866, Rec: 0.9535, F1: 0.9671\n",
      "[solution_time → Val]\n",
      "solution_time | Acc: 0.9196, Prec: 0.8951, Rec: 0.9097, F1: 0.9010\n",
      "  • saved SVM model → ./binres_min_kp/svm_class/svm_classifier_models/svm_bb_min_solution_time.joblib\n"
     ]
    },
    {
     "data": {
      "application/vnd.jupyter.widget-view+json": {
       "model_id": "05d3a4dfd593425188de54d2432ebb81",
       "version_major": 2,
       "version_minor": 0
      },
      "text/plain": [
       "  0%|          | 0/560 [00:00<?, ?it/s]"
      ]
     },
     "metadata": {},
     "output_type": "display_data"
    },
    {
     "name": "stdout",
     "output_type": "stream",
     "text": [
      "SHAP & coefficient importances saved for bb_min-solution_time.\n",
      "[optimality_gap → Test]\n",
      "optimality_gap | Acc: 0.8625, Prec: 0.3969, Rec: 0.6439, F1: 0.4526\n",
      "[optimality_gap → Val]\n",
      "optimality_gap | Acc: 0.7000, Prec: 0.4286, Rec: 0.3252, F1: 0.3152\n",
      "  • saved SVM model → ./binres_min_kp/svm_class/svm_classifier_models/svm_bb_min_optimality_gap.joblib\n"
     ]
    },
    {
     "data": {
      "application/vnd.jupyter.widget-view+json": {
       "model_id": "95877fe18db749208f5d9525b2c82b05",
       "version_major": 2,
       "version_minor": 0
      },
      "text/plain": [
       "  0%|          | 0/560 [00:00<?, ?it/s]"
      ]
     },
     "metadata": {},
     "output_type": "display_data"
    },
    {
     "name": "stdout",
     "output_type": "stream",
     "text": [
      "SHAP & coefficient importances saved for bb_min-optimality_gap.\n",
      "  • skipping 'peak_memory': only one class [0]\n"
     ]
    }
   ],
   "source": [
    "base_folder = \"./trainingData/final_td_min/td_models\" #Path to training data\n",
    "BINS_BASE_DIR = \"./trainingData/final_td_min/td_bindata\" #Path to bin data\n",
    "run_all_models(base_folder)"
   ]
  },
  {
   "cell_type": "code",
   "execution_count": null,
   "id": "73e84922",
   "metadata": {},
   "outputs": [],
   "source": []
  }
 ],
 "metadata": {
  "kernelspec": {
   "display_name": "Python [conda env:torch-gpu]",
   "language": "python",
   "name": "conda-env-torch-gpu-py"
  },
  "language_info": {
   "codemirror_mode": {
    "name": "ipython",
    "version": 3
   },
   "file_extension": ".py",
   "mimetype": "text/x-python",
   "name": "python",
   "nbconvert_exporter": "python",
   "pygments_lexer": "ipython3",
   "version": "3.12.8"
  }
 },
 "nbformat": 4,
 "nbformat_minor": 5
}
