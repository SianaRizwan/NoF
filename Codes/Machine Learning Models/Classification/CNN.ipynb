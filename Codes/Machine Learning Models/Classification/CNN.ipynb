{
 "cells": [
  {
   "cell_type": "code",
   "execution_count": 1,
   "id": "8911fe9a",
   "metadata": {},
   "outputs": [
    {
     "name": "stdout",
     "output_type": "stream",
     "text": [
      "Requirement already satisfied: shap in /home/jovyan/conda-envs/torch-gpu/lib/python3.12/site-packages (0.47.2)\n",
      "Requirement already satisfied: numpy in /home/jovyan/conda-envs/torch-gpu/lib/python3.12/site-packages (from shap) (2.1.3)\n",
      "Requirement already satisfied: scipy in /home/jovyan/conda-envs/torch-gpu/lib/python3.12/site-packages (from shap) (1.15.2)\n",
      "Requirement already satisfied: scikit-learn in /home/jovyan/conda-envs/torch-gpu/lib/python3.12/site-packages (from shap) (1.6.1)\n",
      "Requirement already satisfied: pandas in /home/jovyan/conda-envs/torch-gpu/lib/python3.12/site-packages (from shap) (2.2.3)\n",
      "Requirement already satisfied: tqdm>=4.27.0 in /home/jovyan/conda-envs/torch-gpu/lib/python3.12/site-packages (from shap) (4.67.1)\n",
      "Requirement already satisfied: packaging>20.9 in /home/jovyan/conda-envs/torch-gpu/lib/python3.12/site-packages (from shap) (24.2)\n",
      "Requirement already satisfied: slicer==0.0.8 in /home/jovyan/conda-envs/torch-gpu/lib/python3.12/site-packages (from shap) (0.0.8)\n",
      "Requirement already satisfied: numba>=0.54 in /home/jovyan/conda-envs/torch-gpu/lib/python3.12/site-packages (from shap) (0.61.2)\n",
      "Requirement already satisfied: cloudpickle in /home/jovyan/conda-envs/torch-gpu/lib/python3.12/site-packages (from shap) (3.1.1)\n",
      "Requirement already satisfied: typing-extensions in /home/jovyan/conda-envs/torch-gpu/lib/python3.12/site-packages (from shap) (4.12.2)\n",
      "Requirement already satisfied: llvmlite<0.45,>=0.44.0dev0 in /home/jovyan/conda-envs/torch-gpu/lib/python3.12/site-packages (from numba>=0.54->shap) (0.44.0)\n",
      "Requirement already satisfied: python-dateutil>=2.8.2 in /home/jovyan/conda-envs/torch-gpu/lib/python3.12/site-packages (from pandas->shap) (2.9.0.post0)\n",
      "Requirement already satisfied: pytz>=2020.1 in /home/jovyan/conda-envs/torch-gpu/lib/python3.12/site-packages (from pandas->shap) (2024.2)\n",
      "Requirement already satisfied: tzdata>=2022.7 in /home/jovyan/conda-envs/torch-gpu/lib/python3.12/site-packages (from pandas->shap) (2025.1)\n",
      "Requirement already satisfied: joblib>=1.2.0 in /home/jovyan/conda-envs/torch-gpu/lib/python3.12/site-packages (from scikit-learn->shap) (1.4.2)\n",
      "Requirement already satisfied: threadpoolctl>=3.1.0 in /home/jovyan/conda-envs/torch-gpu/lib/python3.12/site-packages (from scikit-learn->shap) (3.6.0)\n",
      "Requirement already satisfied: six>=1.5 in /home/jovyan/conda-envs/torch-gpu/lib/python3.12/site-packages (from python-dateutil>=2.8.2->pandas->shap) (1.16.0)\n",
      "Note: you may need to restart the kernel to use updated packages.\n"
     ]
    },
    {
     "name": "stderr",
     "output_type": "stream",
     "text": [
      "2025-05-30 00:05:30.037447: E external/local_xla/xla/stream_executor/cuda/cuda_fft.cc:467] Unable to register cuFFT factory: Attempting to register factory for plugin cuFFT when one has already been registered\n",
      "WARNING: All log messages before absl::InitializeLog() is called are written to STDERR\n",
      "E0000 00:00:1748563530.060879 1184804 cuda_dnn.cc:8579] Unable to register cuDNN factory: Attempting to register factory for plugin cuDNN when one has already been registered\n",
      "E0000 00:00:1748563530.068301 1184804 cuda_blas.cc:1407] Unable to register cuBLAS factory: Attempting to register factory for plugin cuBLAS when one has already been registered\n",
      "W0000 00:00:1748563530.089969 1184804 computation_placer.cc:177] computation placer already registered. Please check linkage and avoid linking the same target more than once.\n",
      "W0000 00:00:1748563530.089992 1184804 computation_placer.cc:177] computation placer already registered. Please check linkage and avoid linking the same target more than once.\n",
      "W0000 00:00:1748563530.089995 1184804 computation_placer.cc:177] computation placer already registered. Please check linkage and avoid linking the same target more than once.\n",
      "W0000 00:00:1748563530.089997 1184804 computation_placer.cc:177] computation placer already registered. Please check linkage and avoid linking the same target more than once.\n",
      "2025-05-30 00:05:30.096162: I tensorflow/core/platform/cpu_feature_guard.cc:210] This TensorFlow binary is optimized to use available CPU instructions in performance-critical operations.\n",
      "To enable the following instructions: AVX2 FMA, in other operations, rebuild TensorFlow with the appropriate compiler flags.\n"
     ]
    }
   ],
   "source": [
    "%pip install shap\n",
    "\n",
    "import json\n",
    "import pandas as pd\n",
    "import numpy as np\n",
    "import shap\n",
    "from sklearn.preprocessing import StandardScaler\n",
    "from sklearn.metrics import accuracy_score, precision_score, recall_score, f1_score\n",
    "from sklearn.model_selection import ParameterGrid\n",
    "from sklearn.metrics import f1_score\n",
    "from tensorflow.keras.models import Sequential\n",
    "from tensorflow.keras.layers import Dense, Dropout\n",
    "from tensorflow.keras.optimizers import Adam\n",
    "from tensorflow.keras.utils import to_categorical"
   ]
  },
  {
   "cell_type": "code",
   "execution_count": 2,
   "id": "96d0b3af",
   "metadata": {},
   "outputs": [],
   "source": [
    "import os\n",
    "os.environ[\"CUDA_VISIBLE_DEVICES\"] = \"-1\""
   ]
  },
  {
   "cell_type": "code",
   "execution_count": 3,
   "id": "1f46b2ce",
   "metadata": {},
   "outputs": [],
   "source": [
    "def evaluate_classification(y_true, y_pred, results, solver_name, label):\n",
    "    acc = accuracy_score(y_true, y_pred)\n",
    "    prec = precision_score(y_true, y_pred, average='macro', zero_division=0)\n",
    "    rec = recall_score(y_true, y_pred, average='macro', zero_division=0)\n",
    "    f1 = f1_score(y_true, y_pred, average='macro', zero_division=0)\n",
    "\n",
    "    print(f\"{label} | Acc: {acc:.4f}, Prec: {prec:.4f}, Rec: {rec:.4f}, F1: {f1:.4f}\")\n",
    "\n",
    "    results.append({\n",
    "        \"Solver\": solver_name,\n",
    "        \"Dataset\": label,\n",
    "        \"Accuracy\": acc,\n",
    "        \"Precision\": prec,\n",
    "        \"Recall\": rec,\n",
    "        \"F1-Score\": f1\n",
    "    })"
   ]
  },
  {
   "cell_type": "code",
   "execution_count": null,
   "id": "9c83e8e8-8ab3-4825-ae6f-f9447309bf66",
   "metadata": {},
   "outputs": [],
   "source": []
  },
  {
   "cell_type": "code",
   "execution_count": null,
   "id": "c2afde5a",
   "metadata": {},
   "outputs": [],
   "source": [
    "import shap\n",
    "import numpy as np\n",
    "import pandas as pd\n",
    "import os\n",
    "\n",
    "def log_shap_and_importance_classification(model, X_val, y_val, pred_val,features, solver_name, target):\n",
    "\n",
    "    # background in the same shape as X_val\n",
    "    if X_val.ndim == 3:\n",
    "        idx = np.random.choice(X_val.shape[0], min(100, X_val.shape[0]), replace=False)\n",
    "        background = X_val[idx, :, :]   # (b, f, 1)\n",
    "        shap_input = X_val               # (n, f, 1)\n",
    "    else:\n",
    "        # non-CNN: 2D\n",
    "        idx = np.random.choice(X_val.shape[0], min(100, X_val.shape[0]), replace=False)\n",
    "        background = X_val[idx, :]       # (b, f)\n",
    "        shap_input = X_val               # (n, f)\n",
    "\n",
    "  \n",
    "    try:\n",
    "        explainer = shap.GradientExplainer(model, background)\n",
    "        shap_values = explainer.shap_values(shap_input)\n",
    "    except Exception as e:\n",
    "        print(f\"SHAP failed for {target}, error: {e}\")\n",
    "        return\n",
    "\n",
    "    # Normalize to a single numpy array of shape (n, f, 1, c) or list-of-arrays\n",
    "    if isinstance(shap_values, list):\n",
    "        # list of arrays for shape (n, f, 1) or (n, f)\n",
    "        # stack to (c, n, f, 1) or (c, n, f)\n",
    "        array = np.stack(shap_values, axis=0)\n",
    "        # now array.shape = (c, n, f[, 1])\n",
    "        abs_mean = np.mean(np.abs(array), axis=0)  # (n, f[, 1])\n",
    "    else:\n",
    "        # shap_values itself is an array, maybe shape (n, f, 1, c) or (n, f, c)\n",
    "        arr = np.array(shap_values)\n",
    "        if arr.ndim == 4:\n",
    "            # (n, f, 1, c) to (n, f, c)\n",
    "            arr = arr.squeeze(axis=2)\n",
    "        #  arr is (n, f, c) or (n, f)\n",
    "        if arr.ndim == 3:\n",
    "            # average over the classes axis\n",
    "            abs_mean = np.mean(np.abs(arr), axis=2)  # (n, f)\n",
    "        else:\n",
    "            # arr is already (n, f)\n",
    "            abs_mean = np.abs(arr)\n",
    "\n",
    "    # abs_mean is (n_samples, n_features)\n",
    "    n, f = abs_mean.shape\n",
    "    assert f == len(features), f\"Expected {len(features)} features, got {f}\"\n",
    "\n",
    "\n",
    "    shap_df = pd.DataFrame(abs_mean, columns=features)\n",
    "    shap_df[\"predicted_value\"] = pred_val\n",
    "    shap_df[\"actual_value\"]    = y_val\n",
    "    shap_df[\"target\"]          = target\n",
    "    shap_df[\"solver\"]          = solver_name\n",
    "\n",
    "    os.makedirs(\"./cnn_class/cnn_shap_values\", exist_ok=True)\n",
    "    shap_filename = f\"./cnn_class/cnn_shap_values/shap_{solver_name}_{target}_classification.csv\"\n",
    "    shap_df.to_csv(shap_filename, index=False)\n",
    "\n",
    "    \n",
    "    feature_importance = abs_mean.mean(axis=0) \n",
    "    importance_df = pd.DataFrame({\n",
    "        \"feature\": features,\n",
    "        \"shap_importance\": feature_importance,\n",
    "        \"target\": target,\n",
    "        \"solver\": solver_name\n",
    "    })\n",
    "\n",
    "    os.makedirs(\"./cnn_class/cnn_feature_importance\", exist_ok=True)\n",
    "    imp_file = \"./cnn_class/cnn_feature_importance/cnn_feature_importance_classification.csv\"\n",
    "    importance_df.to_csv(imp_file, mode='a', index=False,\n",
    "                         header=not os.path.exists(imp_file))\n",
    "\n",
    "    # Top-5 features\n",
    "    top5 = importance_df.nlargest(5, \"shap_importance\")\n",
    "    top5_file = \"./cnn_class/cnn_feature_importance/cnn_top5_feature_importance_classification.csv\"\n",
    "    top5.to_csv(top5_file, mode='a', index=False,\n",
    "                header=not os.path.exists(top5_file))\n",
    "\n",
    "    print(f\"SHAP saved for {solver_name}-{target}.\")\n"
   ]
  },
  {
   "cell_type": "code",
   "execution_count": 5,
   "id": "e71cb78f",
   "metadata": {},
   "outputs": [],
   "source": [
    "def build_1d_cnn_classifier(input_dim, num_classes=5, learning_rate=0.001):\n",
    "    from tensorflow.keras.models import Sequential\n",
    "    from tensorflow.keras.layers import Conv1D, MaxPooling1D, Flatten, Dense, Dropout, BatchNormalization, Input\n",
    "    from tensorflow.keras.optimizers import Adam\n",
    "\n",
    "    model = Sequential([\n",
    "        Input(shape=(input_dim, 1)),  # Reshape features for Conv1D\n",
    "        Conv1D(filters=64, kernel_size=3, activation='relu', padding='same'),\n",
    "        BatchNormalization(),\n",
    "        MaxPooling1D(pool_size=2),\n",
    "        Dropout(0.3),\n",
    "\n",
    "        Conv1D(filters=128, kernel_size=3, activation='relu', padding='same'),\n",
    "        BatchNormalization(),\n",
    "        MaxPooling1D(pool_size=2),\n",
    "        Dropout(0.3),\n",
    "\n",
    "        Flatten(),\n",
    "        Dense(64, activation='relu'),\n",
    "        Dropout(0.3),\n",
    "        Dense(num_classes, activation='softmax')\n",
    "    ])\n",
    "\n",
    "    model.compile(optimizer=Adam(learning_rate=learning_rate), loss='categorical_crossentropy', metrics=['accuracy'])\n",
    "    return model"
   ]
  },
  {
   "cell_type": "code",
   "execution_count": null,
   "id": "4722b640",
   "metadata": {},
   "outputs": [],
   "source": [
    "def train_cnn_classifier_for_solver(solver_name, train_file, test_file, val_file):\n",
    "    print(f\"\\nSolver: {solver_name}\")\n",
    "    \n",
    "    df_train = pd.read_csv(train_file).dropna()\n",
    "    df_test  = pd.read_csv(test_file).dropna()\n",
    "    df_val   = pd.read_csv(val_file).dropna()\n",
    "\n",
    "    features = [\n",
    "        \"number_of_elements\",\"capacity\",\"max_weight\",\"min_weight\",\"mean_weight\",\n",
    "        \"median_weight\",\"std_weight\",\"weight_range\",\"max_profit\",\"min_profit\",\"mean_profit\",\n",
    "        \"median_profit\",\"std_profit\",\"profit_range\",\"renting_ratio\",\"mean_weight_profit_ratio\",\n",
    "        \"median_weight_profit_ratio\",\"capacity_mean_weight_ratio\",\"capacity_median_weight_ratio\",\n",
    "        \"capacity_std_weight_ratio\",\"std_weight_profit_ratio\",\"weight_profit_correlation\",\n",
    "        \"ram\",\"cpu_cores\"\n",
    "    ]\n",
    "    target_cols = [\"solution_time\", \"optimality_gap\", \"peak_memory\"]\n",
    "\n",
    "    # Load the solver's bin edges \n",
    "    bins_dir = os.path.join(BINS_BASE_DIR, f\"{solver_name}_bins\")\n",
    "    if not os.path.isdir(bins_dir):\n",
    "        raise FileNotFoundError(f\"No bins directory: {bins_dir}\")\n",
    "    json_files = [f for f in os.listdir(bins_dir) if f.endswith(\"_bins.json\")]\n",
    "    if len(json_files) != 1:\n",
    "        raise FileNotFoundError(f\"Expected one json in {bins_dir}, found: {json_files}\")\n",
    "    bin_path = os.path.join(bins_dir, json_files[0])\n",
    "    with open(bin_path, \"r\") as f:\n",
    "        bin_edges_dict = json.load(f)\n",
    "\n",
    "    # Scale features\n",
    "    scaler = StandardScaler().fit(df_train[features])\n",
    "    X_train = scaler.transform(df_train[features])\n",
    "    X_test  = scaler.transform(df_test[features])\n",
    "    X_val   = scaler.transform(df_val[features])\n",
    "\n",
    "    # Reshape for CNN input\n",
    "    X_train_cnn = X_train.reshape((-1, X_train.shape[1], 1))\n",
    "    X_test_cnn  = X_test .reshape((-1, X_test .shape[1], 1))\n",
    "    X_val_cnn   = X_val  .reshape((-1, X_val  .shape[1], 1))\n",
    "\n",
    "   \n",
    "    os.makedirs(\"./cnn_class/cnn_classifier_models\", exist_ok=True)\n",
    "    results = []\n",
    "\n",
    "    for target in target_cols:\n",
    "        if target not in bin_edges_dict:\n",
    "            print(f\" No bins for '{target}'\")\n",
    "            continue\n",
    "        edges = bin_edges_dict[target]\n",
    "\n",
    "        # Labels to 0..n_bins-1\n",
    "        def to_bins(arr):\n",
    "            labels = np.digitize(arr, edges[:-1], right=False) - 1\n",
    "            return np.clip(labels, 0, len(edges) - 2)\n",
    "\n",
    "        y_train = to_bins(df_train[target].values)\n",
    "        y_test  = to_bins(df_test [target].values)\n",
    "        y_val   = to_bins(df_val  [target].values)\n",
    "\n",
    "        \n",
    "        max_train = y_train.max()\n",
    "        y_test = np.clip(y_test, 0, max_train)\n",
    "        y_val  = np.clip(y_val, 0, max_train)\n",
    "\n",
    "        \n",
    "        if len(np.unique(y_train)) < 2:\n",
    "            print(f\"  skipping '{target}': only one class in train\")\n",
    "            continue\n",
    "\n",
    "        \n",
    "        num_classes = int(max_train) + 1\n",
    "\n",
    "        # one‐hot encode\n",
    "        y_train_cat = to_categorical(y_train, num_classes=num_classes)\n",
    "        y_val_cat   = to_categorical(y_val,   num_classes=num_classes)\n",
    "        y_test_cat  = to_categorical(y_test,  num_classes=num_classes)\n",
    "\n",
    "        # debug \n",
    "        print(f\"\\n=== {target} → num_classes={num_classes} ===\")\n",
    "        print(\" train bins:\", np.unique(y_train))\n",
    "        print(\"  val bins:\", np.unique(y_val))\n",
    "        print(\" test bins:\", np.unique(y_test))\n",
    "\n",
    "        # Train & evaluate for each epoch \n",
    "        for epochs in [50, 100]:\n",
    "            print(f\"\\nTraining CNN for '{target}' ({epochs} epochs)\")\n",
    "            model = build_1d_cnn_classifier(\n",
    "                input_dim=X_train.shape[1],\n",
    "                num_classes=num_classes,\n",
    "                learning_rate=0.001\n",
    "            )\n",
    "            history = model.fit(\n",
    "                X_train_cnn, y_train_cat,\n",
    "                validation_data=(X_val_cnn, y_val_cat),\n",
    "                epochs=epochs,\n",
    "                batch_size=64,\n",
    "                verbose=0\n",
    "            )\n",
    "\n",
    "            # predict\n",
    "            pred_test_probs = model.predict(X_test_cnn)\n",
    "            pred_val_probs  = model.predict(X_val_cnn)\n",
    "            best_pred_test  = np.argmax(pred_test_probs, axis=1)\n",
    "            best_pred_val   = np.argmax(pred_val_probs,  axis=1)\n",
    "\n",
    "            print(\"[TEST]\")\n",
    "            evaluate_classification(y_test, best_pred_test, results,\n",
    "                                    solver_name, f\"{target} (Test) - {epochs}e\")\n",
    "            print(\"[VAL]\")\n",
    "            evaluate_classification(y_val, best_pred_val,  results,\n",
    "                                    solver_name, f\"{target} (Val)  - {epochs}e\")\n",
    "\n",
    "            # save model\n",
    "            out_path = (f\"./cnn_class/\"\n",
    "                        f\"cnn_classifier_{solver_name}_{target}_{epochs}e.h5\")\n",
    "            model.save(out_path)\n",
    "            print(f\"  • saved CNN model → {out_path}\")\n",
    "\n",
    "            #SHAP & importance \n",
    "            log_shap_and_importance_classification(\n",
    "                model=model,\n",
    "                X_val=X_val_cnn,\n",
    "                y_val=y_val,\n",
    "                pred_val=best_pred_val,\n",
    "                features=features,\n",
    "                solver_name=solver_name,\n",
    "                target=target\n",
    "            )\n",
    "\n",
    "    \n",
    "    pd.DataFrame(results).to_csv(\n",
    "        \"./cnn_evaluation_results_classification.csv\",\n",
    "        mode='a', index=False,\n",
    "        header=not os.path.exists(\"./cnn_evaluation_results_classification.csv\")\n",
    "    )"
   ]
  },
  {
   "cell_type": "code",
   "execution_count": 7,
   "id": "d0d4c1ad",
   "metadata": {},
   "outputs": [],
   "source": [
    "def run_all_models(base_folder):\n",
    "    for root, dirs, files in os.walk(base_folder):\n",
    "        for folder in dirs:\n",
    "            folder_path = os.path.join(root, folder)\n",
    "            csv_files = os.listdir(folder_path)\n",
    "\n",
    "            train_file = [f for f in csv_files if f.endswith(\"_train.csv\")]\n",
    "            test_file = [f for f in csv_files if f.endswith(\"_test.csv\")]\n",
    "            val_file = [f for f in csv_files if f.endswith(\"_val.csv\")]\n",
    "\n",
    "            if train_file and test_file and val_file:\n",
    "                train_fp = os.path.join(folder_path, train_file[0])\n",
    "                test_fp = os.path.join(folder_path, test_file[0])\n",
    "                val_fp = os.path.join(folder_path, val_file[0])\n",
    "\n",
    "                solver_name = folder  \n",
    "                train_cnn_classifier_for_solver(solver_name, train_fp, test_fp, val_fp)"
   ]
  },
  {
   "cell_type": "code",
   "execution_count": null,
   "id": "43d2f72b",
   "metadata": {},
   "outputs": [
    {
     "name": "stdout",
     "output_type": "stream",
     "text": [
      "\n",
      "Solver: or_min\n",
      "\n",
      "=== solution_time → num_classes=2 ===\n",
      " train bins: [0 1]\n",
      "  val bins: [0]\n",
      " test bins: [0]\n",
      "\n",
      "Training CNN for 'solution_time' (50 epochs)...\n"
     ]
    },
    {
     "name": "stderr",
     "output_type": "stream",
     "text": [
      "2025-05-30 00:05:32.172787: E external/local_xla/xla/stream_executor/cuda/cuda_platform.cc:51] failed call to cuInit: INTERNAL: CUDA error: Failed call to cuInit: CUDA_ERROR_NO_DEVICE: no CUDA-capable device is detected\n"
     ]
    },
    {
     "name": "stdout",
     "output_type": "stream",
     "text": [
      "\u001b[1m18/18\u001b[0m \u001b[32m━━━━━━━━━━━━━━━━━━━━\u001b[0m\u001b[37m\u001b[0m \u001b[1m0s\u001b[0m 9ms/step\n",
      "\u001b[1m18/18\u001b[0m \u001b[32m━━━━━━━━━━━━━━━━━━━━\u001b[0m\u001b[37m\u001b[0m \u001b[1m0s\u001b[0m 5ms/step \n",
      "[TEST]\n",
      "solution_time (Test) - 50e | Acc: 0.9750, Prec: 0.5000, Rec: 0.4875, F1: 0.4937\n",
      "[VAL]\n"
     ]
    },
    {
     "name": "stderr",
     "output_type": "stream",
     "text": [
      "WARNING:absl:You are saving your model as an HDF5 file via `model.save()` or `keras.saving.save_model(model)`. This file format is considered legacy. We recommend using instead the native Keras format, e.g. `model.save('my_model.keras')` or `keras.saving.save_model(model, 'my_model.keras')`. \n"
     ]
    },
    {
     "name": "stdout",
     "output_type": "stream",
     "text": [
      "solution_time (Val)  - 50e | Acc: 1.0000, Prec: 1.0000, Rec: 1.0000, F1: 1.0000\n",
      "  • saved CNN model → ./binres_min_kp/cnn_class/cnn_classifier_or_min_solution_time_50e.h5\n"
     ]
    },
    {
     "name": "stderr",
     "output_type": "stream",
     "text": [
      "/home/jovyan/conda-envs/torch-gpu/lib/python3.12/site-packages/keras/src/models/functional.py:238: UserWarning: The structure of `inputs` doesn't match the expected structure.\n",
      "Expected: keras_tensor\n",
      "Received: inputs=['Tensor(shape=(560, 24, 1))']\n",
      "  warnings.warn(msg)\n",
      "/home/jovyan/conda-envs/torch-gpu/lib/python3.12/site-packages/keras/src/models/functional.py:238: UserWarning: The structure of `inputs` doesn't match the expected structure.\n",
      "Expected: keras_tensor\n",
      "Received: inputs=['Tensor(shape=(50, 24, 1))']\n",
      "  warnings.warn(msg)\n"
     ]
    },
    {
     "name": "stdout",
     "output_type": "stream",
     "text": [
      "Gradient SHAP values and feature importances saved for or_min-solution_time.\n",
      "\n",
      "Training CNN for 'solution_time' (100 epochs)...\n",
      "\u001b[1m18/18\u001b[0m \u001b[32m━━━━━━━━━━━━━━━━━━━━\u001b[0m\u001b[37m\u001b[0m \u001b[1m0s\u001b[0m 9ms/step\n",
      "\u001b[1m18/18\u001b[0m \u001b[32m━━━━━━━━━━━━━━━━━━━━\u001b[0m\u001b[37m\u001b[0m \u001b[1m0s\u001b[0m 4ms/step \n"
     ]
    },
    {
     "name": "stderr",
     "output_type": "stream",
     "text": [
      "WARNING:absl:You are saving your model as an HDF5 file via `model.save()` or `keras.saving.save_model(model)`. This file format is considered legacy. We recommend using instead the native Keras format, e.g. `model.save('my_model.keras')` or `keras.saving.save_model(model, 'my_model.keras')`. \n"
     ]
    },
    {
     "name": "stdout",
     "output_type": "stream",
     "text": [
      "[TEST]\n",
      "solution_time (Test) - 100e | Acc: 1.0000, Prec: 1.0000, Rec: 1.0000, F1: 1.0000\n",
      "[VAL]\n",
      "solution_time (Val)  - 100e | Acc: 1.0000, Prec: 1.0000, Rec: 1.0000, F1: 1.0000\n",
      "  • saved CNN model → ./binres_min_kp/cnn_class/cnn_classifier_or_min_solution_time_100e.h5\n"
     ]
    },
    {
     "name": "stderr",
     "output_type": "stream",
     "text": [
      "/home/jovyan/conda-envs/torch-gpu/lib/python3.12/site-packages/keras/src/models/functional.py:238: UserWarning: The structure of `inputs` doesn't match the expected structure.\n",
      "Expected: keras_tensor_13\n",
      "Received: inputs=['Tensor(shape=(560, 24, 1))']\n",
      "  warnings.warn(msg)\n",
      "/home/jovyan/conda-envs/torch-gpu/lib/python3.12/site-packages/keras/src/models/functional.py:238: UserWarning: The structure of `inputs` doesn't match the expected structure.\n",
      "Expected: keras_tensor_13\n",
      "Received: inputs=['Tensor(shape=(50, 24, 1))']\n",
      "  warnings.warn(msg)\n"
     ]
    },
    {
     "name": "stdout",
     "output_type": "stream",
     "text": [
      "Gradient SHAP values and feature importances saved for or_min-solution_time.\n",
      "\n",
      "=== optimality_gap → num_classes=2 ===\n",
      " train bins: [0 1]\n",
      "  val bins: [0 1]\n",
      " test bins: [0]\n",
      "\n",
      "Training CNN for 'optimality_gap' (50 epochs)...\n",
      "\u001b[1m18/18\u001b[0m \u001b[32m━━━━━━━━━━━━━━━━━━━━\u001b[0m\u001b[37m\u001b[0m \u001b[1m0s\u001b[0m 9ms/step\n",
      "\u001b[1m18/18\u001b[0m \u001b[32m━━━━━━━━━━━━━━━━━━━━\u001b[0m\u001b[37m\u001b[0m \u001b[1m0s\u001b[0m 4ms/step \n"
     ]
    },
    {
     "name": "stderr",
     "output_type": "stream",
     "text": [
      "WARNING:absl:You are saving your model as an HDF5 file via `model.save()` or `keras.saving.save_model(model)`. This file format is considered legacy. We recommend using instead the native Keras format, e.g. `model.save('my_model.keras')` or `keras.saving.save_model(model, 'my_model.keras')`. \n"
     ]
    },
    {
     "name": "stdout",
     "output_type": "stream",
     "text": [
      "[TEST]\n",
      "optimality_gap (Test) - 50e | Acc: 1.0000, Prec: 1.0000, Rec: 1.0000, F1: 1.0000\n",
      "[VAL]\n",
      "optimality_gap (Val)  - 50e | Acc: 0.9357, Prec: 0.4746, Rec: 0.4925, F1: 0.4834\n",
      "  • saved CNN model → ./binres_min_kp/cnn_class/cnn_classifier_or_min_optimality_gap_50e.h5\n"
     ]
    },
    {
     "name": "stderr",
     "output_type": "stream",
     "text": [
      "/home/jovyan/conda-envs/torch-gpu/lib/python3.12/site-packages/keras/src/models/functional.py:238: UserWarning: The structure of `inputs` doesn't match the expected structure.\n",
      "Expected: keras_tensor_26\n",
      "Received: inputs=['Tensor(shape=(560, 24, 1))']\n",
      "  warnings.warn(msg)\n",
      "/home/jovyan/conda-envs/torch-gpu/lib/python3.12/site-packages/keras/src/models/functional.py:238: UserWarning: The structure of `inputs` doesn't match the expected structure.\n",
      "Expected: keras_tensor_26\n",
      "Received: inputs=['Tensor(shape=(50, 24, 1))']\n",
      "  warnings.warn(msg)\n"
     ]
    },
    {
     "name": "stdout",
     "output_type": "stream",
     "text": [
      "Gradient SHAP values and feature importances saved for or_min-optimality_gap.\n",
      "\n",
      "Training CNN for 'optimality_gap' (100 epochs)...\n",
      "\u001b[1m18/18\u001b[0m \u001b[32m━━━━━━━━━━━━━━━━━━━━\u001b[0m\u001b[37m\u001b[0m \u001b[1m0s\u001b[0m 8ms/step\n",
      "\u001b[1m18/18\u001b[0m \u001b[32m━━━━━━━━━━━━━━━━━━━━\u001b[0m\u001b[37m\u001b[0m \u001b[1m0s\u001b[0m 4ms/step \n"
     ]
    },
    {
     "name": "stderr",
     "output_type": "stream",
     "text": [
      "WARNING:absl:You are saving your model as an HDF5 file via `model.save()` or `keras.saving.save_model(model)`. This file format is considered legacy. We recommend using instead the native Keras format, e.g. `model.save('my_model.keras')` or `keras.saving.save_model(model, 'my_model.keras')`. \n"
     ]
    },
    {
     "name": "stdout",
     "output_type": "stream",
     "text": [
      "[TEST]\n",
      "optimality_gap (Test) - 100e | Acc: 0.9750, Prec: 0.5000, Rec: 0.4875, F1: 0.4937\n",
      "[VAL]\n",
      "optimality_gap (Val)  - 100e | Acc: 0.8750, Prec: 0.4730, Rec: 0.4605, F1: 0.4667\n",
      "  • saved CNN model → ./binres_min_kp/cnn_class/cnn_classifier_or_min_optimality_gap_100e.h5\n"
     ]
    },
    {
     "name": "stderr",
     "output_type": "stream",
     "text": [
      "/home/jovyan/conda-envs/torch-gpu/lib/python3.12/site-packages/keras/src/models/functional.py:238: UserWarning: The structure of `inputs` doesn't match the expected structure.\n",
      "Expected: keras_tensor_39\n",
      "Received: inputs=['Tensor(shape=(560, 24, 1))']\n",
      "  warnings.warn(msg)\n",
      "/home/jovyan/conda-envs/torch-gpu/lib/python3.12/site-packages/keras/src/models/functional.py:238: UserWarning: The structure of `inputs` doesn't match the expected structure.\n",
      "Expected: keras_tensor_39\n",
      "Received: inputs=['Tensor(shape=(50, 24, 1))']\n",
      "  warnings.warn(msg)\n"
     ]
    },
    {
     "name": "stdout",
     "output_type": "stream",
     "text": [
      "Gradient SHAP values and feature importances saved for or_min-optimality_gap.\n",
      "\n",
      "=== peak_memory → num_classes=5 ===\n",
      " train bins: [0 1 2 4]\n",
      "  val bins: [0 1 2]\n",
      " test bins: [0 1 2]\n",
      "\n",
      "Training CNN for 'peak_memory' (50 epochs)...\n",
      "\u001b[1m18/18\u001b[0m \u001b[32m━━━━━━━━━━━━━━━━━━━━\u001b[0m\u001b[37m\u001b[0m \u001b[1m0s\u001b[0m 9ms/step\n",
      "\u001b[1m18/18\u001b[0m \u001b[32m━━━━━━━━━━━━━━━━━━━━\u001b[0m\u001b[37m\u001b[0m \u001b[1m0s\u001b[0m 4ms/step \n",
      "[TEST]\n",
      "peak_memory (Test) - 50e | Acc: 0.9071, Prec: 0.3062, Rec: 0.3294, F1: 0.3174\n",
      "[VAL]\n"
     ]
    },
    {
     "name": "stderr",
     "output_type": "stream",
     "text": [
      "WARNING:absl:You are saving your model as an HDF5 file via `model.save()` or `keras.saving.save_model(model)`. This file format is considered legacy. We recommend using instead the native Keras format, e.g. `model.save('my_model.keras')` or `keras.saving.save_model(model, 'my_model.keras')`. \n"
     ]
    },
    {
     "name": "stdout",
     "output_type": "stream",
     "text": [
      "peak_memory (Val)  - 50e | Acc: 0.9089, Prec: 0.3172, Rec: 0.3049, F1: 0.3095\n",
      "  • saved CNN model → ./binres_min_kp/cnn_class/cnn_classifier_or_min_peak_memory_50e.h5\n"
     ]
    },
    {
     "name": "stderr",
     "output_type": "stream",
     "text": [
      "/home/jovyan/conda-envs/torch-gpu/lib/python3.12/site-packages/keras/src/models/functional.py:238: UserWarning: The structure of `inputs` doesn't match the expected structure.\n",
      "Expected: keras_tensor_52\n",
      "Received: inputs=['Tensor(shape=(560, 24, 1))']\n",
      "  warnings.warn(msg)\n",
      "/home/jovyan/conda-envs/torch-gpu/lib/python3.12/site-packages/keras/src/models/functional.py:238: UserWarning: The structure of `inputs` doesn't match the expected structure.\n",
      "Expected: keras_tensor_52\n",
      "Received: inputs=['Tensor(shape=(50, 24, 1))']\n",
      "  warnings.warn(msg)\n"
     ]
    },
    {
     "name": "stdout",
     "output_type": "stream",
     "text": [
      "Gradient SHAP values and feature importances saved for or_min-peak_memory.\n",
      "\n",
      "Training CNN for 'peak_memory' (100 epochs)...\n",
      "\u001b[1m18/18\u001b[0m \u001b[32m━━━━━━━━━━━━━━━━━━━━\u001b[0m\u001b[37m\u001b[0m \u001b[1m0s\u001b[0m 9ms/step\n",
      "\u001b[1m18/18\u001b[0m \u001b[32m━━━━━━━━━━━━━━━━━━━━\u001b[0m\u001b[37m\u001b[0m \u001b[1m0s\u001b[0m 5ms/step \n"
     ]
    },
    {
     "name": "stderr",
     "output_type": "stream",
     "text": [
      "WARNING:absl:You are saving your model as an HDF5 file via `model.save()` or `keras.saving.save_model(model)`. This file format is considered legacy. We recommend using instead the native Keras format, e.g. `model.save('my_model.keras')` or `keras.saving.save_model(model, 'my_model.keras')`. \n"
     ]
    },
    {
     "name": "stdout",
     "output_type": "stream",
     "text": [
      "[TEST]\n",
      "peak_memory (Test) - 100e | Acc: 0.9179, Prec: 0.3060, Rec: 0.3333, F1: 0.3191\n",
      "[VAL]\n",
      "peak_memory (Val)  - 100e | Acc: 0.9357, Prec: 0.3119, Rec: 0.3333, F1: 0.3223\n",
      "  • saved CNN model → ./binres_min_kp/cnn_class/cnn_classifier_or_min_peak_memory_100e.h5\n"
     ]
    },
    {
     "name": "stderr",
     "output_type": "stream",
     "text": [
      "/home/jovyan/conda-envs/torch-gpu/lib/python3.12/site-packages/keras/src/models/functional.py:238: UserWarning: The structure of `inputs` doesn't match the expected structure.\n",
      "Expected: keras_tensor_65\n",
      "Received: inputs=['Tensor(shape=(560, 24, 1))']\n",
      "  warnings.warn(msg)\n",
      "/home/jovyan/conda-envs/torch-gpu/lib/python3.12/site-packages/keras/src/models/functional.py:238: UserWarning: The structure of `inputs` doesn't match the expected structure.\n",
      "Expected: keras_tensor_65\n",
      "Received: inputs=['Tensor(shape=(50, 24, 1))']\n",
      "  warnings.warn(msg)\n"
     ]
    },
    {
     "name": "stdout",
     "output_type": "stream",
     "text": [
      "Gradient SHAP values and feature importances saved for or_min-peak_memory.\n",
      "\n",
      "Solver: gurobi_min\n",
      "\n",
      "=== solution_time → num_classes=5 ===\n",
      " train bins: [0 1 2 3 4]\n",
      "  val bins: [0 1 2]\n",
      " test bins: [0 1 2]\n",
      "\n",
      "Training CNN for 'solution_time' (50 epochs)...\n",
      "\u001b[1m18/18\u001b[0m \u001b[32m━━━━━━━━━━━━━━━━━━━━\u001b[0m\u001b[37m\u001b[0m \u001b[1m0s\u001b[0m 9ms/step\n",
      "\u001b[1m18/18\u001b[0m \u001b[32m━━━━━━━━━━━━━━━━━━━━\u001b[0m\u001b[37m\u001b[0m \u001b[1m0s\u001b[0m 5ms/step \n"
     ]
    },
    {
     "name": "stderr",
     "output_type": "stream",
     "text": [
      "WARNING:absl:You are saving your model as an HDF5 file via `model.save()` or `keras.saving.save_model(model)`. This file format is considered legacy. We recommend using instead the native Keras format, e.g. `model.save('my_model.keras')` or `keras.saving.save_model(model, 'my_model.keras')`. \n"
     ]
    },
    {
     "name": "stdout",
     "output_type": "stream",
     "text": [
      "[TEST]\n",
      "solution_time (Test) - 50e | Acc: 0.6857, Prec: 0.3888, Rec: 0.3798, F1: 0.3838\n",
      "[VAL]\n",
      "solution_time (Val)  - 50e | Acc: 0.8411, Prec: 0.5163, Rec: 0.8090, F1: 0.5125\n",
      "  • saved CNN model → ./binres_min_kp/cnn_class/cnn_classifier_gurobi_min_solution_time_50e.h5\n"
     ]
    },
    {
     "name": "stderr",
     "output_type": "stream",
     "text": [
      "/home/jovyan/conda-envs/torch-gpu/lib/python3.12/site-packages/keras/src/models/functional.py:238: UserWarning: The structure of `inputs` doesn't match the expected structure.\n",
      "Expected: keras_tensor_78\n",
      "Received: inputs=['Tensor(shape=(560, 24, 1))']\n",
      "  warnings.warn(msg)\n",
      "/home/jovyan/conda-envs/torch-gpu/lib/python3.12/site-packages/keras/src/models/functional.py:238: UserWarning: The structure of `inputs` doesn't match the expected structure.\n",
      "Expected: keras_tensor_78\n",
      "Received: inputs=['Tensor(shape=(50, 24, 1))']\n",
      "  warnings.warn(msg)\n"
     ]
    },
    {
     "name": "stdout",
     "output_type": "stream",
     "text": [
      "Gradient SHAP values and feature importances saved for gurobi_min-solution_time.\n",
      "\n",
      "Training CNN for 'solution_time' (100 epochs)...\n",
      "\u001b[1m18/18\u001b[0m \u001b[32m━━━━━━━━━━━━━━━━━━━━\u001b[0m\u001b[37m\u001b[0m \u001b[1m0s\u001b[0m 8ms/step\n",
      "\u001b[1m18/18\u001b[0m \u001b[32m━━━━━━━━━━━━━━━━━━━━\u001b[0m\u001b[37m\u001b[0m \u001b[1m0s\u001b[0m 4ms/step \n"
     ]
    },
    {
     "name": "stderr",
     "output_type": "stream",
     "text": [
      "WARNING:absl:You are saving your model as an HDF5 file via `model.save()` or `keras.saving.save_model(model)`. This file format is considered legacy. We recommend using instead the native Keras format, e.g. `model.save('my_model.keras')` or `keras.saving.save_model(model, 'my_model.keras')`. \n"
     ]
    },
    {
     "name": "stdout",
     "output_type": "stream",
     "text": [
      "[TEST]\n",
      "solution_time (Test) - 100e | Acc: 0.6625, Prec: 0.3845, Rec: 0.3720, F1: 0.3773\n",
      "[VAL]\n",
      "solution_time (Val)  - 100e | Acc: 0.7875, Prec: 0.4347, Rec: 0.4114, F1: 0.4227\n",
      "  • saved CNN model → ./binres_min_kp/cnn_class/cnn_classifier_gurobi_min_solution_time_100e.h5\n"
     ]
    },
    {
     "name": "stderr",
     "output_type": "stream",
     "text": [
      "/home/jovyan/conda-envs/torch-gpu/lib/python3.12/site-packages/keras/src/models/functional.py:238: UserWarning: The structure of `inputs` doesn't match the expected structure.\n",
      "Expected: keras_tensor_91\n",
      "Received: inputs=['Tensor(shape=(560, 24, 1))']\n",
      "  warnings.warn(msg)\n",
      "/home/jovyan/conda-envs/torch-gpu/lib/python3.12/site-packages/keras/src/models/functional.py:238: UserWarning: The structure of `inputs` doesn't match the expected structure.\n",
      "Expected: keras_tensor_91\n",
      "Received: inputs=['Tensor(shape=(50, 24, 1))']\n",
      "  warnings.warn(msg)\n"
     ]
    },
    {
     "name": "stdout",
     "output_type": "stream",
     "text": [
      "Gradient SHAP values and feature importances saved for gurobi_min-solution_time.\n",
      "  skipping 'optimality_gap': only one class in train\n",
      "\n",
      "=== peak_memory → num_classes=5 ===\n",
      " train bins: [0 1 2 3 4]\n",
      "  val bins: [0 1 2 3 4]\n",
      " test bins: [0 1 2 3 4]\n",
      "\n",
      "Training CNN for 'peak_memory' (50 epochs)...\n",
      "\u001b[1m18/18\u001b[0m \u001b[32m━━━━━━━━━━━━━━━━━━━━\u001b[0m\u001b[37m\u001b[0m \u001b[1m0s\u001b[0m 8ms/step\n",
      "\u001b[1m18/18\u001b[0m \u001b[32m━━━━━━━━━━━━━━━━━━━━\u001b[0m\u001b[37m\u001b[0m \u001b[1m0s\u001b[0m 6ms/step \n"
     ]
    },
    {
     "name": "stderr",
     "output_type": "stream",
     "text": [
      "WARNING:absl:You are saving your model as an HDF5 file via `model.save()` or `keras.saving.save_model(model)`. This file format is considered legacy. We recommend using instead the native Keras format, e.g. `model.save('my_model.keras')` or `keras.saving.save_model(model, 'my_model.keras')`. \n"
     ]
    },
    {
     "name": "stdout",
     "output_type": "stream",
     "text": [
      "[TEST]\n",
      "peak_memory (Test) - 50e | Acc: 0.2964, Prec: 0.2632, Rec: 0.2946, F1: 0.2615\n",
      "[VAL]\n",
      "peak_memory (Val)  - 50e | Acc: 0.4000, Prec: 0.4964, Rec: 0.3553, F1: 0.3544\n",
      "  • saved CNN model → ./binres_min_kp/cnn_class/cnn_classifier_gurobi_min_peak_memory_50e.h5\n"
     ]
    },
    {
     "name": "stderr",
     "output_type": "stream",
     "text": [
      "/home/jovyan/conda-envs/torch-gpu/lib/python3.12/site-packages/keras/src/models/functional.py:238: UserWarning: The structure of `inputs` doesn't match the expected structure.\n",
      "Expected: keras_tensor_104\n",
      "Received: inputs=['Tensor(shape=(560, 24, 1))']\n",
      "  warnings.warn(msg)\n",
      "/home/jovyan/conda-envs/torch-gpu/lib/python3.12/site-packages/keras/src/models/functional.py:238: UserWarning: The structure of `inputs` doesn't match the expected structure.\n",
      "Expected: keras_tensor_104\n",
      "Received: inputs=['Tensor(shape=(50, 24, 1))']\n",
      "  warnings.warn(msg)\n"
     ]
    },
    {
     "name": "stdout",
     "output_type": "stream",
     "text": [
      "Gradient SHAP values and feature importances saved for gurobi_min-peak_memory.\n",
      "\n",
      "Training CNN for 'peak_memory' (100 epochs)...\n",
      "\u001b[1m18/18\u001b[0m \u001b[32m━━━━━━━━━━━━━━━━━━━━\u001b[0m\u001b[37m\u001b[0m \u001b[1m0s\u001b[0m 9ms/step\n",
      "\u001b[1m18/18\u001b[0m \u001b[32m━━━━━━━━━━━━━━━━━━━━\u001b[0m\u001b[37m\u001b[0m \u001b[1m0s\u001b[0m 5ms/step \n",
      "[TEST]\n",
      "peak_memory (Test) - 100e | Acc: 0.2732, Prec: 0.2503, Rec: 0.2755, F1: 0.2503\n",
      "[VAL]\n"
     ]
    },
    {
     "name": "stderr",
     "output_type": "stream",
     "text": [
      "WARNING:absl:You are saving your model as an HDF5 file via `model.save()` or `keras.saving.save_model(model)`. This file format is considered legacy. We recommend using instead the native Keras format, e.g. `model.save('my_model.keras')` or `keras.saving.save_model(model, 'my_model.keras')`. \n"
     ]
    },
    {
     "name": "stdout",
     "output_type": "stream",
     "text": [
      "peak_memory (Val)  - 100e | Acc: 0.3857, Prec: 0.4172, Rec: 0.3485, F1: 0.3564\n",
      "  • saved CNN model → ./binres_min_kp/cnn_class/cnn_classifier_gurobi_min_peak_memory_100e.h5\n"
     ]
    },
    {
     "name": "stderr",
     "output_type": "stream",
     "text": [
      "/home/jovyan/conda-envs/torch-gpu/lib/python3.12/site-packages/keras/src/models/functional.py:238: UserWarning: The structure of `inputs` doesn't match the expected structure.\n",
      "Expected: keras_tensor_117\n",
      "Received: inputs=['Tensor(shape=(560, 24, 1))']\n",
      "  warnings.warn(msg)\n",
      "/home/jovyan/conda-envs/torch-gpu/lib/python3.12/site-packages/keras/src/models/functional.py:238: UserWarning: The structure of `inputs` doesn't match the expected structure.\n",
      "Expected: keras_tensor_117\n",
      "Received: inputs=['Tensor(shape=(50, 24, 1))']\n",
      "  warnings.warn(msg)\n"
     ]
    },
    {
     "name": "stdout",
     "output_type": "stream",
     "text": [
      "Gradient SHAP values and feature importances saved for gurobi_min-peak_memory.\n",
      "\n",
      "Solver: greedy_min\n",
      "\n",
      "=== solution_time → num_classes=5 ===\n",
      " train bins: [0 1 2 3 4]\n",
      "  val bins: [0 1 2 3 4]\n",
      " test bins: [0 1 2 3 4]\n",
      "\n",
      "Training CNN for 'solution_time' (50 epochs)...\n",
      "\u001b[1m18/18\u001b[0m \u001b[32m━━━━━━━━━━━━━━━━━━━━\u001b[0m\u001b[37m\u001b[0m \u001b[1m0s\u001b[0m 9ms/step\n",
      "\u001b[1m18/18\u001b[0m \u001b[32m━━━━━━━━━━━━━━━━━━━━\u001b[0m\u001b[37m\u001b[0m \u001b[1m0s\u001b[0m 5ms/step \n",
      "[TEST]\n",
      "solution_time (Test) - 50e | Acc: 0.9714, Prec: 0.9771, Rec: 0.8933, F1: 0.9152\n",
      "[VAL]\n"
     ]
    },
    {
     "name": "stderr",
     "output_type": "stream",
     "text": [
      "WARNING:absl:You are saving your model as an HDF5 file via `model.save()` or `keras.saving.save_model(model)`. This file format is considered legacy. We recommend using instead the native Keras format, e.g. `model.save('my_model.keras')` or `keras.saving.save_model(model, 'my_model.keras')`. \n"
     ]
    },
    {
     "name": "stdout",
     "output_type": "stream",
     "text": [
      "solution_time (Val)  - 50e | Acc: 0.8964, Prec: 0.8388, Rec: 0.9158, F1: 0.8549\n",
      "  • saved CNN model → ./binres_min_kp/cnn_class/cnn_classifier_greedy_min_solution_time_50e.h5\n"
     ]
    },
    {
     "name": "stderr",
     "output_type": "stream",
     "text": [
      "/home/jovyan/conda-envs/torch-gpu/lib/python3.12/site-packages/keras/src/models/functional.py:238: UserWarning: The structure of `inputs` doesn't match the expected structure.\n",
      "Expected: keras_tensor_130\n",
      "Received: inputs=['Tensor(shape=(560, 24, 1))']\n",
      "  warnings.warn(msg)\n",
      "/home/jovyan/conda-envs/torch-gpu/lib/python3.12/site-packages/keras/src/models/functional.py:238: UserWarning: The structure of `inputs` doesn't match the expected structure.\n",
      "Expected: keras_tensor_130\n",
      "Received: inputs=['Tensor(shape=(50, 24, 1))']\n",
      "  warnings.warn(msg)\n"
     ]
    },
    {
     "name": "stdout",
     "output_type": "stream",
     "text": [
      "Gradient SHAP values and feature importances saved for greedy_min-solution_time.\n",
      "\n",
      "Training CNN for 'solution_time' (100 epochs)...\n",
      "\u001b[1m18/18\u001b[0m \u001b[32m━━━━━━━━━━━━━━━━━━━━\u001b[0m\u001b[37m\u001b[0m \u001b[1m0s\u001b[0m 9ms/step\n",
      "\u001b[1m18/18\u001b[0m \u001b[32m━━━━━━━━━━━━━━━━━━━━\u001b[0m\u001b[37m\u001b[0m \u001b[1m0s\u001b[0m 5ms/step \n",
      "[TEST]\n",
      "solution_time (Test) - 100e | Acc: 0.9946, Prec: 0.9961, Rec: 0.9846, F1: 0.9901\n",
      "[VAL]\n"
     ]
    },
    {
     "name": "stderr",
     "output_type": "stream",
     "text": [
      "WARNING:absl:You are saving your model as an HDF5 file via `model.save()` or `keras.saving.save_model(model)`. This file format is considered legacy. We recommend using instead the native Keras format, e.g. `model.save('my_model.keras')` or `keras.saving.save_model(model, 'my_model.keras')`. \n"
     ]
    },
    {
     "name": "stdout",
     "output_type": "stream",
     "text": [
      "solution_time (Val)  - 100e | Acc: 0.9179, Prec: 0.8621, Rec: 0.9299, F1: 0.8754\n",
      "  • saved CNN model → ./binres_min_kp/cnn_class/cnn_classifier_greedy_min_solution_time_100e.h5\n"
     ]
    },
    {
     "name": "stderr",
     "output_type": "stream",
     "text": [
      "/home/jovyan/conda-envs/torch-gpu/lib/python3.12/site-packages/keras/src/models/functional.py:238: UserWarning: The structure of `inputs` doesn't match the expected structure.\n",
      "Expected: keras_tensor_143\n",
      "Received: inputs=['Tensor(shape=(560, 24, 1))']\n",
      "  warnings.warn(msg)\n",
      "/home/jovyan/conda-envs/torch-gpu/lib/python3.12/site-packages/keras/src/models/functional.py:238: UserWarning: The structure of `inputs` doesn't match the expected structure.\n",
      "Expected: keras_tensor_143\n",
      "Received: inputs=['Tensor(shape=(50, 24, 1))']\n",
      "  warnings.warn(msg)\n"
     ]
    },
    {
     "name": "stdout",
     "output_type": "stream",
     "text": [
      "Gradient SHAP values and feature importances saved for greedy_min-solution_time.\n",
      "\n",
      "=== optimality_gap → num_classes=3 ===\n",
      " train bins: [0 1 2]\n",
      "  val bins: [0 1 2]\n",
      " test bins: [0 1 2]\n",
      "\n",
      "Training CNN for 'optimality_gap' (50 epochs)...\n",
      "\u001b[1m18/18\u001b[0m \u001b[32m━━━━━━━━━━━━━━━━━━━━\u001b[0m\u001b[37m\u001b[0m \u001b[1m0s\u001b[0m 9ms/step\n",
      "\u001b[1m18/18\u001b[0m \u001b[32m━━━━━━━━━━━━━━━━━━━━\u001b[0m\u001b[37m\u001b[0m \u001b[1m0s\u001b[0m 4ms/step \n",
      "[TEST]\n",
      "optimality_gap (Test) - 50e | Acc: 0.5857, Prec: 0.2805, Rec: 0.2967, F1: 0.2862\n",
      "[VAL]\n"
     ]
    },
    {
     "name": "stderr",
     "output_type": "stream",
     "text": [
      "WARNING:absl:You are saving your model as an HDF5 file via `model.save()` or `keras.saving.save_model(model)`. This file format is considered legacy. We recommend using instead the native Keras format, e.g. `model.save('my_model.keras')` or `keras.saving.save_model(model, 'my_model.keras')`. \n"
     ]
    },
    {
     "name": "stdout",
     "output_type": "stream",
     "text": [
      "optimality_gap (Val)  - 50e | Acc: 0.6929, Prec: 0.3240, Rec: 0.3365, F1: 0.3293\n",
      "  • saved CNN model → ./binres_min_kp/cnn_class/cnn_classifier_greedy_min_optimality_gap_50e.h5\n"
     ]
    },
    {
     "name": "stderr",
     "output_type": "stream",
     "text": [
      "/home/jovyan/conda-envs/torch-gpu/lib/python3.12/site-packages/keras/src/models/functional.py:238: UserWarning: The structure of `inputs` doesn't match the expected structure.\n",
      "Expected: keras_tensor_156\n",
      "Received: inputs=['Tensor(shape=(560, 24, 1))']\n",
      "  warnings.warn(msg)\n",
      "/home/jovyan/conda-envs/torch-gpu/lib/python3.12/site-packages/keras/src/models/functional.py:238: UserWarning: The structure of `inputs` doesn't match the expected structure.\n",
      "Expected: keras_tensor_156\n",
      "Received: inputs=['Tensor(shape=(50, 24, 1))']\n",
      "  warnings.warn(msg)\n"
     ]
    },
    {
     "name": "stdout",
     "output_type": "stream",
     "text": [
      "Gradient SHAP values and feature importances saved for greedy_min-optimality_gap.\n",
      "\n",
      "Training CNN for 'optimality_gap' (100 epochs)...\n",
      "\u001b[1m18/18\u001b[0m \u001b[32m━━━━━━━━━━━━━━━━━━━━\u001b[0m\u001b[37m\u001b[0m \u001b[1m0s\u001b[0m 8ms/step\n",
      "\u001b[1m18/18\u001b[0m \u001b[32m━━━━━━━━━━━━━━━━━━━━\u001b[0m\u001b[37m\u001b[0m \u001b[1m0s\u001b[0m 4ms/step \n"
     ]
    },
    {
     "name": "stderr",
     "output_type": "stream",
     "text": [
      "WARNING:absl:You are saving your model as an HDF5 file via `model.save()` or `keras.saving.save_model(model)`. This file format is considered legacy. We recommend using instead the native Keras format, e.g. `model.save('my_model.keras')` or `keras.saving.save_model(model, 'my_model.keras')`. \n"
     ]
    },
    {
     "name": "stdout",
     "output_type": "stream",
     "text": [
      "[TEST]\n",
      "optimality_gap (Test) - 100e | Acc: 0.5982, Prec: 0.2873, Rec: 0.3021, F1: 0.2935\n",
      "[VAL]\n",
      "optimality_gap (Val)  - 100e | Acc: 0.7000, Prec: 0.3276, Rec: 0.3394, F1: 0.3329\n",
      "  • saved CNN model → ./binres_min_kp/cnn_class/cnn_classifier_greedy_min_optimality_gap_100e.h5\n"
     ]
    },
    {
     "name": "stderr",
     "output_type": "stream",
     "text": [
      "/home/jovyan/conda-envs/torch-gpu/lib/python3.12/site-packages/keras/src/models/functional.py:238: UserWarning: The structure of `inputs` doesn't match the expected structure.\n",
      "Expected: keras_tensor_169\n",
      "Received: inputs=['Tensor(shape=(560, 24, 1))']\n",
      "  warnings.warn(msg)\n",
      "/home/jovyan/conda-envs/torch-gpu/lib/python3.12/site-packages/keras/src/models/functional.py:238: UserWarning: The structure of `inputs` doesn't match the expected structure.\n",
      "Expected: keras_tensor_169\n",
      "Received: inputs=['Tensor(shape=(50, 24, 1))']\n",
      "  warnings.warn(msg)\n"
     ]
    },
    {
     "name": "stdout",
     "output_type": "stream",
     "text": [
      "Gradient SHAP values and feature importances saved for greedy_min-optimality_gap.\n",
      "  skipping 'peak_memory': only one class in train\n",
      "\n",
      "Solver: ga_min\n",
      "\n",
      "=== solution_time → num_classes=5 ===\n",
      " train bins: [0 1 2 3 4]\n",
      "  val bins: [0 1 2 3 4]\n",
      " test bins: [0 1 2 3 4]\n",
      "\n",
      "Training CNN for 'solution_time' (50 epochs)...\n",
      "\u001b[1m18/18\u001b[0m \u001b[32m━━━━━━━━━━━━━━━━━━━━\u001b[0m\u001b[37m\u001b[0m \u001b[1m0s\u001b[0m 9ms/step\n",
      "\u001b[1m18/18\u001b[0m \u001b[32m━━━━━━━━━━━━━━━━━━━━\u001b[0m\u001b[37m\u001b[0m \u001b[1m0s\u001b[0m 5ms/step \n"
     ]
    },
    {
     "name": "stderr",
     "output_type": "stream",
     "text": [
      "WARNING:absl:You are saving your model as an HDF5 file via `model.save()` or `keras.saving.save_model(model)`. This file format is considered legacy. We recommend using instead the native Keras format, e.g. `model.save('my_model.keras')` or `keras.saving.save_model(model, 'my_model.keras')`. \n"
     ]
    },
    {
     "name": "stdout",
     "output_type": "stream",
     "text": [
      "[TEST]\n",
      "solution_time (Test) - 50e | Acc: 0.9161, Prec: 0.8981, Rec: 0.9008, F1: 0.8935\n",
      "[VAL]\n",
      "solution_time (Val)  - 50e | Acc: 0.8589, Prec: 0.8412, Rec: 0.8346, F1: 0.8346\n",
      "  • saved CNN model → ./binres_min_kp/cnn_class/cnn_classifier_ga_min_solution_time_50e.h5\n"
     ]
    },
    {
     "name": "stderr",
     "output_type": "stream",
     "text": [
      "/home/jovyan/conda-envs/torch-gpu/lib/python3.12/site-packages/keras/src/models/functional.py:238: UserWarning: The structure of `inputs` doesn't match the expected structure.\n",
      "Expected: keras_tensor_182\n",
      "Received: inputs=['Tensor(shape=(560, 24, 1))']\n",
      "  warnings.warn(msg)\n",
      "/home/jovyan/conda-envs/torch-gpu/lib/python3.12/site-packages/keras/src/models/functional.py:238: UserWarning: The structure of `inputs` doesn't match the expected structure.\n",
      "Expected: keras_tensor_182\n",
      "Received: inputs=['Tensor(shape=(50, 24, 1))']\n",
      "  warnings.warn(msg)\n"
     ]
    },
    {
     "name": "stdout",
     "output_type": "stream",
     "text": [
      "Gradient SHAP values and feature importances saved for ga_min-solution_time.\n",
      "\n",
      "Training CNN for 'solution_time' (100 epochs)...\n",
      "\u001b[1m18/18\u001b[0m \u001b[32m━━━━━━━━━━━━━━━━━━━━\u001b[0m\u001b[37m\u001b[0m \u001b[1m0s\u001b[0m 9ms/step\n",
      "\u001b[1m18/18\u001b[0m \u001b[32m━━━━━━━━━━━━━━━━━━━━\u001b[0m\u001b[37m\u001b[0m \u001b[1m0s\u001b[0m 6ms/step \n"
     ]
    },
    {
     "name": "stderr",
     "output_type": "stream",
     "text": [
      "WARNING:absl:You are saving your model as an HDF5 file via `model.save()` or `keras.saving.save_model(model)`. This file format is considered legacy. We recommend using instead the native Keras format, e.g. `model.save('my_model.keras')` or `keras.saving.save_model(model, 'my_model.keras')`. \n"
     ]
    },
    {
     "name": "stdout",
     "output_type": "stream",
     "text": [
      "[TEST]\n",
      "solution_time (Test) - 100e | Acc: 0.9179, Prec: 0.8982, Rec: 0.8903, F1: 0.8866\n",
      "[VAL]\n",
      "solution_time (Val)  - 100e | Acc: 0.8268, Prec: 0.8190, Rec: 0.8355, F1: 0.8157\n",
      "  • saved CNN model → ./binres_min_kp/cnn_class/cnn_classifier_ga_min_solution_time_100e.h5\n"
     ]
    },
    {
     "name": "stderr",
     "output_type": "stream",
     "text": [
      "/home/jovyan/conda-envs/torch-gpu/lib/python3.12/site-packages/keras/src/models/functional.py:238: UserWarning: The structure of `inputs` doesn't match the expected structure.\n",
      "Expected: keras_tensor_195\n",
      "Received: inputs=['Tensor(shape=(560, 24, 1))']\n",
      "  warnings.warn(msg)\n",
      "/home/jovyan/conda-envs/torch-gpu/lib/python3.12/site-packages/keras/src/models/functional.py:238: UserWarning: The structure of `inputs` doesn't match the expected structure.\n",
      "Expected: keras_tensor_195\n",
      "Received: inputs=['Tensor(shape=(50, 24, 1))']\n",
      "  warnings.warn(msg)\n"
     ]
    },
    {
     "name": "stdout",
     "output_type": "stream",
     "text": [
      "Gradient SHAP values and feature importances saved for ga_min-solution_time.\n",
      "  skipping 'optimality_gap': only one class in train\n",
      "\n",
      "=== peak_memory → num_classes=5 ===\n",
      " train bins: [0 4]\n",
      "  val bins: [0 4]\n",
      " test bins: [0 4]\n",
      "\n",
      "Training CNN for 'peak_memory' (50 epochs)...\n",
      "\u001b[1m18/18\u001b[0m \u001b[32m━━━━━━━━━━━━━━━━━━━━\u001b[0m\u001b[37m\u001b[0m \u001b[1m0s\u001b[0m 9ms/step\n",
      "\u001b[1m18/18\u001b[0m \u001b[32m━━━━━━━━━━━━━━━━━━━━\u001b[0m\u001b[37m\u001b[0m \u001b[1m0s\u001b[0m 5ms/step \n",
      "[TEST]\n",
      "peak_memory (Test) - 50e | Acc: 0.9679, Prec: 0.8682, Rec: 0.9019, F1: 0.8842\n",
      "[VAL]\n"
     ]
    },
    {
     "name": "stderr",
     "output_type": "stream",
     "text": [
      "WARNING:absl:You are saving your model as an HDF5 file via `model.save()` or `keras.saving.save_model(model)`. This file format is considered legacy. We recommend using instead the native Keras format, e.g. `model.save('my_model.keras')` or `keras.saving.save_model(model, 'my_model.keras')`. \n"
     ]
    },
    {
     "name": "stdout",
     "output_type": "stream",
     "text": [
      "peak_memory (Val)  - 50e | Acc: 0.9554, Prec: 0.8429, Rec: 0.8029, F1: 0.8214\n",
      "  • saved CNN model → ./binres_min_kp/cnn_class/cnn_classifier_ga_min_peak_memory_50e.h5\n"
     ]
    },
    {
     "name": "stderr",
     "output_type": "stream",
     "text": [
      "/home/jovyan/conda-envs/torch-gpu/lib/python3.12/site-packages/keras/src/models/functional.py:238: UserWarning: The structure of `inputs` doesn't match the expected structure.\n",
      "Expected: keras_tensor_208\n",
      "Received: inputs=['Tensor(shape=(560, 24, 1))']\n",
      "  warnings.warn(msg)\n",
      "/home/jovyan/conda-envs/torch-gpu/lib/python3.12/site-packages/keras/src/models/functional.py:238: UserWarning: The structure of `inputs` doesn't match the expected structure.\n",
      "Expected: keras_tensor_208\n",
      "Received: inputs=['Tensor(shape=(50, 24, 1))']\n",
      "  warnings.warn(msg)\n"
     ]
    },
    {
     "name": "stdout",
     "output_type": "stream",
     "text": [
      "Gradient SHAP values and feature importances saved for ga_min-peak_memory.\n",
      "\n",
      "Training CNN for 'peak_memory' (100 epochs)...\n",
      "\u001b[1m18/18\u001b[0m \u001b[32m━━━━━━━━━━━━━━━━━━━━\u001b[0m\u001b[37m\u001b[0m \u001b[1m0s\u001b[0m 8ms/step\n",
      "\u001b[1m18/18\u001b[0m \u001b[32m━━━━━━━━━━━━━━━━━━━━\u001b[0m\u001b[37m\u001b[0m \u001b[1m0s\u001b[0m 5ms/step \n"
     ]
    },
    {
     "name": "stderr",
     "output_type": "stream",
     "text": [
      "WARNING:absl:You are saving your model as an HDF5 file via `model.save()` or `keras.saving.save_model(model)`. This file format is considered legacy. We recommend using instead the native Keras format, e.g. `model.save('my_model.keras')` or `keras.saving.save_model(model, 'my_model.keras')`. \n"
     ]
    },
    {
     "name": "stdout",
     "output_type": "stream",
     "text": [
      "[TEST]\n",
      "peak_memory (Test) - 100e | Acc: 0.9821, Prec: 0.9759, Rec: 0.8865, F1: 0.9258\n",
      "[VAL]\n",
      "peak_memory (Val)  - 100e | Acc: 0.9679, Prec: 0.9833, Rec: 0.7750, F1: 0.8463\n",
      "  • saved CNN model → ./binres_min_kp/cnn_class/cnn_classifier_ga_min_peak_memory_100e.h5\n"
     ]
    },
    {
     "name": "stderr",
     "output_type": "stream",
     "text": [
      "/home/jovyan/conda-envs/torch-gpu/lib/python3.12/site-packages/keras/src/models/functional.py:238: UserWarning: The structure of `inputs` doesn't match the expected structure.\n",
      "Expected: keras_tensor_221\n",
      "Received: inputs=['Tensor(shape=(560, 24, 1))']\n",
      "  warnings.warn(msg)\n",
      "/home/jovyan/conda-envs/torch-gpu/lib/python3.12/site-packages/keras/src/models/functional.py:238: UserWarning: The structure of `inputs` doesn't match the expected structure.\n",
      "Expected: keras_tensor_221\n",
      "Received: inputs=['Tensor(shape=(50, 24, 1))']\n",
      "  warnings.warn(msg)\n"
     ]
    },
    {
     "name": "stdout",
     "output_type": "stream",
     "text": [
      "Gradient SHAP values and feature importances saved for ga_min-peak_memory.\n",
      "\n",
      "Solver: dp_min\n",
      "\n",
      "=== solution_time → num_classes=5 ===\n",
      " train bins: [0 1 2 3 4]\n",
      "  val bins: [0 1 2 3 4]\n",
      " test bins: [0 1 2 3 4]\n",
      "\n",
      "Training CNN for 'solution_time' (50 epochs)...\n",
      "\u001b[1m18/18\u001b[0m \u001b[32m━━━━━━━━━━━━━━━━━━━━\u001b[0m\u001b[37m\u001b[0m \u001b[1m0s\u001b[0m 9ms/step\n",
      "\u001b[1m18/18\u001b[0m \u001b[32m━━━━━━━━━━━━━━━━━━━━\u001b[0m\u001b[37m\u001b[0m \u001b[1m0s\u001b[0m 4ms/step \n"
     ]
    },
    {
     "name": "stderr",
     "output_type": "stream",
     "text": [
      "WARNING:absl:You are saving your model as an HDF5 file via `model.save()` or `keras.saving.save_model(model)`. This file format is considered legacy. We recommend using instead the native Keras format, e.g. `model.save('my_model.keras')` or `keras.saving.save_model(model, 'my_model.keras')`. \n"
     ]
    },
    {
     "name": "stdout",
     "output_type": "stream",
     "text": [
      "[TEST]\n",
      "solution_time (Test) - 50e | Acc: 0.8000, Prec: 0.6308, Rec: 0.6616, F1: 0.6379\n",
      "[VAL]\n",
      "solution_time (Val)  - 50e | Acc: 0.6875, Prec: 0.6782, Rec: 0.7165, F1: 0.6947\n",
      "  • saved CNN model → ./binres_min_kp/cnn_class/cnn_classifier_dp_min_solution_time_50e.h5\n"
     ]
    },
    {
     "name": "stderr",
     "output_type": "stream",
     "text": [
      "/home/jovyan/conda-envs/torch-gpu/lib/python3.12/site-packages/keras/src/models/functional.py:238: UserWarning: The structure of `inputs` doesn't match the expected structure.\n",
      "Expected: keras_tensor_234\n",
      "Received: inputs=['Tensor(shape=(560, 24, 1))']\n",
      "  warnings.warn(msg)\n",
      "/home/jovyan/conda-envs/torch-gpu/lib/python3.12/site-packages/keras/src/models/functional.py:238: UserWarning: The structure of `inputs` doesn't match the expected structure.\n",
      "Expected: keras_tensor_234\n",
      "Received: inputs=['Tensor(shape=(50, 24, 1))']\n",
      "  warnings.warn(msg)\n"
     ]
    },
    {
     "name": "stdout",
     "output_type": "stream",
     "text": [
      "Gradient SHAP values and feature importances saved for dp_min-solution_time.\n",
      "\n",
      "Training CNN for 'solution_time' (100 epochs)...\n",
      "\u001b[1m18/18\u001b[0m \u001b[32m━━━━━━━━━━━━━━━━━━━━\u001b[0m\u001b[37m\u001b[0m \u001b[1m0s\u001b[0m 9ms/step\n",
      "\u001b[1m18/18\u001b[0m \u001b[32m━━━━━━━━━━━━━━━━━━━━\u001b[0m\u001b[37m\u001b[0m \u001b[1m0s\u001b[0m 5ms/step \n"
     ]
    },
    {
     "name": "stderr",
     "output_type": "stream",
     "text": [
      "WARNING:absl:You are saving your model as an HDF5 file via `model.save()` or `keras.saving.save_model(model)`. This file format is considered legacy. We recommend using instead the native Keras format, e.g. `model.save('my_model.keras')` or `keras.saving.save_model(model, 'my_model.keras')`. \n"
     ]
    },
    {
     "name": "stdout",
     "output_type": "stream",
     "text": [
      "[TEST]\n",
      "solution_time (Test) - 100e | Acc: 0.7982, Prec: 0.6432, Rec: 0.6623, F1: 0.6472\n",
      "[VAL]\n",
      "solution_time (Val)  - 100e | Acc: 0.7321, Prec: 0.7290, Rec: 0.7278, F1: 0.7270\n",
      "  • saved CNN model → ./binres_min_kp/cnn_class/cnn_classifier_dp_min_solution_time_100e.h5\n"
     ]
    },
    {
     "name": "stderr",
     "output_type": "stream",
     "text": [
      "/home/jovyan/conda-envs/torch-gpu/lib/python3.12/site-packages/keras/src/models/functional.py:238: UserWarning: The structure of `inputs` doesn't match the expected structure.\n",
      "Expected: keras_tensor_247\n",
      "Received: inputs=['Tensor(shape=(560, 24, 1))']\n",
      "  warnings.warn(msg)\n",
      "/home/jovyan/conda-envs/torch-gpu/lib/python3.12/site-packages/keras/src/models/functional.py:238: UserWarning: The structure of `inputs` doesn't match the expected structure.\n",
      "Expected: keras_tensor_247\n",
      "Received: inputs=['Tensor(shape=(50, 24, 1))']\n",
      "  warnings.warn(msg)\n"
     ]
    },
    {
     "name": "stdout",
     "output_type": "stream",
     "text": [
      "Gradient SHAP values and feature importances saved for dp_min-solution_time.\n",
      "\n",
      "=== optimality_gap → num_classes=2 ===\n",
      " train bins: [0 1]\n",
      "  val bins: [0 1]\n",
      " test bins: [0]\n",
      "\n",
      "Training CNN for 'optimality_gap' (50 epochs)...\n",
      "\u001b[1m18/18\u001b[0m \u001b[32m━━━━━━━━━━━━━━━━━━━━\u001b[0m\u001b[37m\u001b[0m \u001b[1m0s\u001b[0m 9ms/step\n",
      "\u001b[1m18/18\u001b[0m \u001b[32m━━━━━━━━━━━━━━━━━━━━\u001b[0m\u001b[37m\u001b[0m \u001b[1m0s\u001b[0m 4ms/step \n"
     ]
    },
    {
     "name": "stderr",
     "output_type": "stream",
     "text": [
      "WARNING:absl:You are saving your model as an HDF5 file via `model.save()` or `keras.saving.save_model(model)`. This file format is considered legacy. We recommend using instead the native Keras format, e.g. `model.save('my_model.keras')` or `keras.saving.save_model(model, 'my_model.keras')`. \n"
     ]
    },
    {
     "name": "stdout",
     "output_type": "stream",
     "text": [
      "[TEST]\n",
      "optimality_gap (Test) - 50e | Acc: 1.0000, Prec: 1.0000, Rec: 1.0000, F1: 1.0000\n",
      "[VAL]\n",
      "optimality_gap (Val)  - 50e | Acc: 0.9250, Prec: 0.4744, Rec: 0.4868, F1: 0.4805\n",
      "  • saved CNN model → ./binres_min_kp/cnn_class/cnn_classifier_dp_min_optimality_gap_50e.h5\n"
     ]
    },
    {
     "name": "stderr",
     "output_type": "stream",
     "text": [
      "/home/jovyan/conda-envs/torch-gpu/lib/python3.12/site-packages/keras/src/models/functional.py:238: UserWarning: The structure of `inputs` doesn't match the expected structure.\n",
      "Expected: keras_tensor_260\n",
      "Received: inputs=['Tensor(shape=(560, 24, 1))']\n",
      "  warnings.warn(msg)\n",
      "/home/jovyan/conda-envs/torch-gpu/lib/python3.12/site-packages/keras/src/models/functional.py:238: UserWarning: The structure of `inputs` doesn't match the expected structure.\n",
      "Expected: keras_tensor_260\n",
      "Received: inputs=['Tensor(shape=(50, 24, 1))']\n",
      "  warnings.warn(msg)\n"
     ]
    },
    {
     "name": "stdout",
     "output_type": "stream",
     "text": [
      "Gradient SHAP values and feature importances saved for dp_min-optimality_gap.\n",
      "\n",
      "Training CNN for 'optimality_gap' (100 epochs)...\n",
      "\u001b[1m18/18\u001b[0m \u001b[32m━━━━━━━━━━━━━━━━━━━━\u001b[0m\u001b[37m\u001b[0m \u001b[1m0s\u001b[0m 9ms/step\n",
      "\u001b[1m18/18\u001b[0m \u001b[32m━━━━━━━━━━━━━━━━━━━━\u001b[0m\u001b[37m\u001b[0m \u001b[1m0s\u001b[0m 4ms/step \n"
     ]
    },
    {
     "name": "stderr",
     "output_type": "stream",
     "text": [
      "WARNING:absl:You are saving your model as an HDF5 file via `model.save()` or `keras.saving.save_model(model)`. This file format is considered legacy. We recommend using instead the native Keras format, e.g. `model.save('my_model.keras')` or `keras.saving.save_model(model, 'my_model.keras')`. \n"
     ]
    },
    {
     "name": "stdout",
     "output_type": "stream",
     "text": [
      "[TEST]\n",
      "optimality_gap (Test) - 100e | Acc: 1.0000, Prec: 1.0000, Rec: 1.0000, F1: 1.0000\n",
      "[VAL]\n",
      "optimality_gap (Val)  - 100e | Acc: 0.9250, Prec: 0.4744, Rec: 0.4868, F1: 0.4805\n",
      "  • saved CNN model → ./binres_min_kp/cnn_class/cnn_classifier_dp_min_optimality_gap_100e.h5\n"
     ]
    },
    {
     "name": "stderr",
     "output_type": "stream",
     "text": [
      "/home/jovyan/conda-envs/torch-gpu/lib/python3.12/site-packages/keras/src/models/functional.py:238: UserWarning: The structure of `inputs` doesn't match the expected structure.\n",
      "Expected: keras_tensor_273\n",
      "Received: inputs=['Tensor(shape=(560, 24, 1))']\n",
      "  warnings.warn(msg)\n",
      "/home/jovyan/conda-envs/torch-gpu/lib/python3.12/site-packages/keras/src/models/functional.py:238: UserWarning: The structure of `inputs` doesn't match the expected structure.\n",
      "Expected: keras_tensor_273\n",
      "Received: inputs=['Tensor(shape=(50, 24, 1))']\n",
      "  warnings.warn(msg)\n"
     ]
    },
    {
     "name": "stdout",
     "output_type": "stream",
     "text": [
      "Gradient SHAP values and feature importances saved for dp_min-optimality_gap.\n",
      "\n",
      "=== peak_memory → num_classes=5 ===\n",
      " train bins: [0 2 4]\n",
      "  val bins: [0 2 4]\n",
      " test bins: [0 2 4]\n",
      "\n",
      "Training CNN for 'peak_memory' (50 epochs)...\n",
      "\u001b[1m18/18\u001b[0m \u001b[32m━━━━━━━━━━━━━━━━━━━━\u001b[0m\u001b[37m\u001b[0m \u001b[1m0s\u001b[0m 10ms/step\n",
      "\u001b[1m18/18\u001b[0m \u001b[32m━━━━━━━━━━━━━━━━━━━━\u001b[0m\u001b[37m\u001b[0m \u001b[1m0s\u001b[0m 4ms/step \n"
     ]
    },
    {
     "name": "stderr",
     "output_type": "stream",
     "text": [
      "WARNING:absl:You are saving your model as an HDF5 file via `model.save()` or `keras.saving.save_model(model)`. This file format is considered legacy. We recommend using instead the native Keras format, e.g. `model.save('my_model.keras')` or `keras.saving.save_model(model, 'my_model.keras')`. \n"
     ]
    },
    {
     "name": "stdout",
     "output_type": "stream",
     "text": [
      "[TEST]\n",
      "peak_memory (Test) - 50e | Acc: 0.9964, Prec: 0.9986, Rec: 0.9833, F1: 0.9908\n",
      "[VAL]\n",
      "peak_memory (Val)  - 50e | Acc: 0.9929, Prec: 0.9972, Rec: 0.9667, F1: 0.9814\n",
      "  • saved CNN model → ./binres_min_kp/cnn_class/cnn_classifier_dp_min_peak_memory_50e.h5\n"
     ]
    },
    {
     "name": "stderr",
     "output_type": "stream",
     "text": [
      "/home/jovyan/conda-envs/torch-gpu/lib/python3.12/site-packages/keras/src/models/functional.py:238: UserWarning: The structure of `inputs` doesn't match the expected structure.\n",
      "Expected: keras_tensor_286\n",
      "Received: inputs=['Tensor(shape=(560, 24, 1))']\n",
      "  warnings.warn(msg)\n",
      "/home/jovyan/conda-envs/torch-gpu/lib/python3.12/site-packages/keras/src/models/functional.py:238: UserWarning: The structure of `inputs` doesn't match the expected structure.\n",
      "Expected: keras_tensor_286\n",
      "Received: inputs=['Tensor(shape=(50, 24, 1))']\n",
      "  warnings.warn(msg)\n"
     ]
    },
    {
     "name": "stdout",
     "output_type": "stream",
     "text": [
      "Gradient SHAP values and feature importances saved for dp_min-peak_memory.\n",
      "\n",
      "Training CNN for 'peak_memory' (100 epochs)...\n",
      "\u001b[1m18/18\u001b[0m \u001b[32m━━━━━━━━━━━━━━━━━━━━\u001b[0m\u001b[37m\u001b[0m \u001b[1m0s\u001b[0m 9ms/step\n",
      "\u001b[1m18/18\u001b[0m \u001b[32m━━━━━━━━━━━━━━━━━━━━\u001b[0m\u001b[37m\u001b[0m \u001b[1m0s\u001b[0m 5ms/step \n"
     ]
    },
    {
     "name": "stderr",
     "output_type": "stream",
     "text": [
      "WARNING:absl:You are saving your model as an HDF5 file via `model.save()` or `keras.saving.save_model(model)`. This file format is considered legacy. We recommend using instead the native Keras format, e.g. `model.save('my_model.keras')` or `keras.saving.save_model(model, 'my_model.keras')`. \n"
     ]
    },
    {
     "name": "stdout",
     "output_type": "stream",
     "text": [
      "[TEST]\n",
      "peak_memory (Test) - 100e | Acc: 0.9982, Prec: 0.9993, Rec: 0.9917, F1: 0.9954\n",
      "[VAL]\n",
      "peak_memory (Val)  - 100e | Acc: 0.9911, Prec: 0.9966, Rec: 0.9583, F1: 0.9767\n",
      "  • saved CNN model → ./binres_min_kp/cnn_class/cnn_classifier_dp_min_peak_memory_100e.h5\n"
     ]
    },
    {
     "name": "stderr",
     "output_type": "stream",
     "text": [
      "/home/jovyan/conda-envs/torch-gpu/lib/python3.12/site-packages/keras/src/models/functional.py:238: UserWarning: The structure of `inputs` doesn't match the expected structure.\n",
      "Expected: keras_tensor_299\n",
      "Received: inputs=['Tensor(shape=(560, 24, 1))']\n",
      "  warnings.warn(msg)\n",
      "/home/jovyan/conda-envs/torch-gpu/lib/python3.12/site-packages/keras/src/models/functional.py:238: UserWarning: The structure of `inputs` doesn't match the expected structure.\n",
      "Expected: keras_tensor_299\n",
      "Received: inputs=['Tensor(shape=(50, 24, 1))']\n",
      "  warnings.warn(msg)\n"
     ]
    },
    {
     "name": "stdout",
     "output_type": "stream",
     "text": [
      "Gradient SHAP values and feature importances saved for dp_min-peak_memory.\n",
      "\n",
      "Solver: bb_min\n",
      "\n",
      "=== solution_time → num_classes=5 ===\n",
      " train bins: [0 1 2 3 4]\n",
      "  val bins: [0 1 2 3 4]\n",
      " test bins: [0 1 2 3 4]\n",
      "\n",
      "Training CNN for 'solution_time' (50 epochs)...\n",
      "\u001b[1m18/18\u001b[0m \u001b[32m━━━━━━━━━━━━━━━━━━━━\u001b[0m\u001b[37m\u001b[0m \u001b[1m0s\u001b[0m 9ms/step\n",
      "\u001b[1m18/18\u001b[0m \u001b[32m━━━━━━━━━━━━━━━━━━━━\u001b[0m\u001b[37m\u001b[0m \u001b[1m0s\u001b[0m 4ms/step \n"
     ]
    },
    {
     "name": "stderr",
     "output_type": "stream",
     "text": [
      "WARNING:absl:You are saving your model as an HDF5 file via `model.save()` or `keras.saving.save_model(model)`. This file format is considered legacy. We recommend using instead the native Keras format, e.g. `model.save('my_model.keras')` or `keras.saving.save_model(model, 'my_model.keras')`. \n"
     ]
    },
    {
     "name": "stdout",
     "output_type": "stream",
     "text": [
      "[TEST]\n",
      "solution_time (Test) - 50e | Acc: 0.9839, Prec: 0.9866, Rec: 0.9535, F1: 0.9671\n",
      "[VAL]\n",
      "solution_time (Val)  - 50e | Acc: 0.8946, Prec: 0.8816, Rec: 0.8836, F1: 0.8785\n",
      "  • saved CNN model → ./binres_min_kp/cnn_class/cnn_classifier_bb_min_solution_time_50e.h5\n"
     ]
    },
    {
     "name": "stderr",
     "output_type": "stream",
     "text": [
      "/home/jovyan/conda-envs/torch-gpu/lib/python3.12/site-packages/keras/src/models/functional.py:238: UserWarning: The structure of `inputs` doesn't match the expected structure.\n",
      "Expected: keras_tensor_312\n",
      "Received: inputs=['Tensor(shape=(560, 24, 1))']\n",
      "  warnings.warn(msg)\n",
      "/home/jovyan/conda-envs/torch-gpu/lib/python3.12/site-packages/keras/src/models/functional.py:238: UserWarning: The structure of `inputs` doesn't match the expected structure.\n",
      "Expected: keras_tensor_312\n",
      "Received: inputs=['Tensor(shape=(50, 24, 1))']\n",
      "  warnings.warn(msg)\n"
     ]
    },
    {
     "name": "stdout",
     "output_type": "stream",
     "text": [
      "Gradient SHAP values and feature importances saved for bb_min-solution_time.\n",
      "\n",
      "Training CNN for 'solution_time' (100 epochs)...\n",
      "\u001b[1m18/18\u001b[0m \u001b[32m━━━━━━━━━━━━━━━━━━━━\u001b[0m\u001b[37m\u001b[0m \u001b[1m0s\u001b[0m 8ms/step\n",
      "\u001b[1m18/18\u001b[0m \u001b[32m━━━━━━━━━━━━━━━━━━━━\u001b[0m\u001b[37m\u001b[0m \u001b[1m0s\u001b[0m 4ms/step \n"
     ]
    },
    {
     "name": "stderr",
     "output_type": "stream",
     "text": [
      "WARNING:absl:You are saving your model as an HDF5 file via `model.save()` or `keras.saving.save_model(model)`. This file format is considered legacy. We recommend using instead the native Keras format, e.g. `model.save('my_model.keras')` or `keras.saving.save_model(model, 'my_model.keras')`. \n"
     ]
    },
    {
     "name": "stdout",
     "output_type": "stream",
     "text": [
      "[TEST]\n",
      "solution_time (Test) - 100e | Acc: 0.9714, Prec: 0.9466, Rec: 0.9485, F1: 0.9423\n",
      "[VAL]\n",
      "solution_time (Val)  - 100e | Acc: 0.8661, Prec: 0.8613, Rec: 0.8637, F1: 0.8532\n",
      "  • saved CNN model → ./binres_min_kp/cnn_class/cnn_classifier_bb_min_solution_time_100e.h5\n"
     ]
    },
    {
     "name": "stderr",
     "output_type": "stream",
     "text": [
      "/home/jovyan/conda-envs/torch-gpu/lib/python3.12/site-packages/keras/src/models/functional.py:238: UserWarning: The structure of `inputs` doesn't match the expected structure.\n",
      "Expected: keras_tensor_325\n",
      "Received: inputs=['Tensor(shape=(560, 24, 1))']\n",
      "  warnings.warn(msg)\n",
      "/home/jovyan/conda-envs/torch-gpu/lib/python3.12/site-packages/keras/src/models/functional.py:238: UserWarning: The structure of `inputs` doesn't match the expected structure.\n",
      "Expected: keras_tensor_325\n",
      "Received: inputs=['Tensor(shape=(50, 24, 1))']\n",
      "  warnings.warn(msg)\n"
     ]
    },
    {
     "name": "stdout",
     "output_type": "stream",
     "text": [
      "Gradient SHAP values and feature importances saved for bb_min-solution_time.\n",
      "\n",
      "=== optimality_gap → num_classes=5 ===\n",
      " train bins: [0 1 2 3 4]\n",
      "  val bins: [0 1 2 3 4]\n",
      " test bins: [0 1 2 3 4]\n",
      "\n",
      "Training CNN for 'optimality_gap' (50 epochs)...\n",
      "\u001b[1m18/18\u001b[0m \u001b[32m━━━━━━━━━━━━━━━━━━━━\u001b[0m\u001b[37m\u001b[0m \u001b[1m0s\u001b[0m 9ms/step\n",
      "\u001b[1m18/18\u001b[0m \u001b[32m━━━━━━━━━━━━━━━━━━━━\u001b[0m\u001b[37m\u001b[0m \u001b[1m0s\u001b[0m 5ms/step \n",
      "[TEST]\n"
     ]
    },
    {
     "name": "stderr",
     "output_type": "stream",
     "text": [
      "WARNING:absl:You are saving your model as an HDF5 file via `model.save()` or `keras.saving.save_model(model)`. This file format is considered legacy. We recommend using instead the native Keras format, e.g. `model.save('my_model.keras')` or `keras.saving.save_model(model, 'my_model.keras')`. \n"
     ]
    },
    {
     "name": "stdout",
     "output_type": "stream",
     "text": [
      "optimality_gap (Test) - 50e | Acc: 0.8643, Prec: 0.3880, Rec: 0.5511, F1: 0.4431\n",
      "[VAL]\n",
      "optimality_gap (Val)  - 50e | Acc: 0.7250, Prec: 0.5685, Rec: 0.4752, F1: 0.4585\n",
      "  • saved CNN model → ./binres_min_kp/cnn_class/cnn_classifier_bb_min_optimality_gap_50e.h5\n"
     ]
    },
    {
     "name": "stderr",
     "output_type": "stream",
     "text": [
      "/home/jovyan/conda-envs/torch-gpu/lib/python3.12/site-packages/keras/src/models/functional.py:238: UserWarning: The structure of `inputs` doesn't match the expected structure.\n",
      "Expected: keras_tensor_338\n",
      "Received: inputs=['Tensor(shape=(560, 24, 1))']\n",
      "  warnings.warn(msg)\n",
      "/home/jovyan/conda-envs/torch-gpu/lib/python3.12/site-packages/keras/src/models/functional.py:238: UserWarning: The structure of `inputs` doesn't match the expected structure.\n",
      "Expected: keras_tensor_338\n",
      "Received: inputs=['Tensor(shape=(50, 24, 1))']\n",
      "  warnings.warn(msg)\n"
     ]
    },
    {
     "name": "stdout",
     "output_type": "stream",
     "text": [
      "Gradient SHAP values and feature importances saved for bb_min-optimality_gap.\n",
      "\n",
      "Training CNN for 'optimality_gap' (100 epochs)...\n",
      "\u001b[1m18/18\u001b[0m \u001b[32m━━━━━━━━━━━━━━━━━━━━\u001b[0m\u001b[37m\u001b[0m \u001b[1m0s\u001b[0m 9ms/step\n",
      "\u001b[1m18/18\u001b[0m \u001b[32m━━━━━━━━━━━━━━━━━━━━\u001b[0m\u001b[37m\u001b[0m \u001b[1m0s\u001b[0m 5ms/step \n"
     ]
    },
    {
     "name": "stderr",
     "output_type": "stream",
     "text": [
      "WARNING:absl:You are saving your model as an HDF5 file via `model.save()` or `keras.saving.save_model(model)`. This file format is considered legacy. We recommend using instead the native Keras format, e.g. `model.save('my_model.keras')` or `keras.saving.save_model(model, 'my_model.keras')`. \n"
     ]
    },
    {
     "name": "stdout",
     "output_type": "stream",
     "text": [
      "[TEST]\n",
      "optimality_gap (Test) - 100e | Acc: 0.8714, Prec: 0.4093, Rec: 0.5931, F1: 0.4721\n",
      "[VAL]\n",
      "optimality_gap (Val)  - 100e | Acc: 0.7071, Prec: 0.3220, Rec: 0.4138, F1: 0.3553\n",
      "  • saved CNN model → ./binres_min_kp/cnn_class/cnn_classifier_bb_min_optimality_gap_100e.h5\n"
     ]
    },
    {
     "name": "stderr",
     "output_type": "stream",
     "text": [
      "/home/jovyan/conda-envs/torch-gpu/lib/python3.12/site-packages/keras/src/models/functional.py:238: UserWarning: The structure of `inputs` doesn't match the expected structure.\n",
      "Expected: keras_tensor_351\n",
      "Received: inputs=['Tensor(shape=(560, 24, 1))']\n",
      "  warnings.warn(msg)\n",
      "/home/jovyan/conda-envs/torch-gpu/lib/python3.12/site-packages/keras/src/models/functional.py:238: UserWarning: The structure of `inputs` doesn't match the expected structure.\n",
      "Expected: keras_tensor_351\n",
      "Received: inputs=['Tensor(shape=(50, 24, 1))']\n",
      "  warnings.warn(msg)\n"
     ]
    },
    {
     "name": "stdout",
     "output_type": "stream",
     "text": [
      "Gradient SHAP values and feature importances saved for bb_min-optimality_gap.\n",
      "  skipping 'peak_memory': only one class in train\n"
     ]
    }
   ],
   "source": [
    "base_folder = \"./trainingData/final_td_min/td_models\" #Path to training data\n",
    "BINS_BASE_DIR = \"./trainingData/final_td_min/td_bindata\" #Path to bin data\n",
    "run_all_models(base_folder)"
   ]
  },
  {
   "cell_type": "code",
   "execution_count": null,
   "id": "316e8897-d9f8-4911-988e-eac382cd1f7d",
   "metadata": {},
   "outputs": [],
   "source": []
  }
 ],
 "metadata": {
  "kernelspec": {
   "display_name": "Python [conda env:torch-gpu]",
   "language": "python",
   "name": "conda-env-torch-gpu-py"
  },
  "language_info": {
   "codemirror_mode": {
    "name": "ipython",
    "version": 3
   },
   "file_extension": ".py",
   "mimetype": "text/x-python",
   "name": "python",
   "nbconvert_exporter": "python",
   "pygments_lexer": "ipython3",
   "version": "3.12.8"
  }
 },
 "nbformat": 4,
 "nbformat_minor": 5
}
