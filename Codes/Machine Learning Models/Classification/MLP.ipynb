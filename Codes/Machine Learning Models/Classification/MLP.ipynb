{
 "cells": [
  {
   "cell_type": "code",
   "execution_count": 1,
   "id": "e1805900",
   "metadata": {},
   "outputs": [
    {
     "name": "stdout",
     "output_type": "stream",
     "text": [
      "Requirement already satisfied: shap in /home/jovyan/conda-envs/torch-gpu/lib/python3.12/site-packages (0.47.2)\n",
      "Requirement already satisfied: numpy in /home/jovyan/conda-envs/torch-gpu/lib/python3.12/site-packages (from shap) (2.1.3)\n",
      "Requirement already satisfied: scipy in /home/jovyan/conda-envs/torch-gpu/lib/python3.12/site-packages (from shap) (1.15.2)\n",
      "Requirement already satisfied: scikit-learn in /home/jovyan/conda-envs/torch-gpu/lib/python3.12/site-packages (from shap) (1.6.1)\n",
      "Requirement already satisfied: pandas in /home/jovyan/conda-envs/torch-gpu/lib/python3.12/site-packages (from shap) (2.2.3)\n",
      "Requirement already satisfied: tqdm>=4.27.0 in /home/jovyan/conda-envs/torch-gpu/lib/python3.12/site-packages (from shap) (4.67.1)\n",
      "Requirement already satisfied: packaging>20.9 in /home/jovyan/conda-envs/torch-gpu/lib/python3.12/site-packages (from shap) (24.2)\n",
      "Requirement already satisfied: slicer==0.0.8 in /home/jovyan/conda-envs/torch-gpu/lib/python3.12/site-packages (from shap) (0.0.8)\n",
      "Requirement already satisfied: numba>=0.54 in /home/jovyan/conda-envs/torch-gpu/lib/python3.12/site-packages (from shap) (0.61.2)\n",
      "Requirement already satisfied: cloudpickle in /home/jovyan/conda-envs/torch-gpu/lib/python3.12/site-packages (from shap) (3.1.1)\n",
      "Requirement already satisfied: typing-extensions in /home/jovyan/conda-envs/torch-gpu/lib/python3.12/site-packages (from shap) (4.12.2)\n",
      "Requirement already satisfied: llvmlite<0.45,>=0.44.0dev0 in /home/jovyan/conda-envs/torch-gpu/lib/python3.12/site-packages (from numba>=0.54->shap) (0.44.0)\n",
      "Requirement already satisfied: python-dateutil>=2.8.2 in /home/jovyan/conda-envs/torch-gpu/lib/python3.12/site-packages (from pandas->shap) (2.9.0.post0)\n",
      "Requirement already satisfied: pytz>=2020.1 in /home/jovyan/conda-envs/torch-gpu/lib/python3.12/site-packages (from pandas->shap) (2024.2)\n",
      "Requirement already satisfied: tzdata>=2022.7 in /home/jovyan/conda-envs/torch-gpu/lib/python3.12/site-packages (from pandas->shap) (2025.1)\n",
      "Requirement already satisfied: joblib>=1.2.0 in /home/jovyan/conda-envs/torch-gpu/lib/python3.12/site-packages (from scikit-learn->shap) (1.4.2)\n",
      "Requirement already satisfied: threadpoolctl>=3.1.0 in /home/jovyan/conda-envs/torch-gpu/lib/python3.12/site-packages (from scikit-learn->shap) (3.6.0)\n",
      "Requirement already satisfied: six>=1.5 in /home/jovyan/conda-envs/torch-gpu/lib/python3.12/site-packages (from python-dateutil>=2.8.2->pandas->shap) (1.16.0)\n",
      "Note: you may need to restart the kernel to use updated packages.\n"
     ]
    },
    {
     "name": "stderr",
     "output_type": "stream",
     "text": [
      "2025-05-29 23:26:59.172943: E external/local_xla/xla/stream_executor/cuda/cuda_fft.cc:467] Unable to register cuFFT factory: Attempting to register factory for plugin cuFFT when one has already been registered\n",
      "WARNING: All log messages before absl::InitializeLog() is called are written to STDERR\n",
      "E0000 00:00:1748561219.196676 3137598 cuda_dnn.cc:8579] Unable to register cuDNN factory: Attempting to register factory for plugin cuDNN when one has already been registered\n",
      "E0000 00:00:1748561219.203924 3137598 cuda_blas.cc:1407] Unable to register cuBLAS factory: Attempting to register factory for plugin cuBLAS when one has already been registered\n",
      "W0000 00:00:1748561219.225269 3137598 computation_placer.cc:177] computation placer already registered. Please check linkage and avoid linking the same target more than once.\n",
      "W0000 00:00:1748561219.225297 3137598 computation_placer.cc:177] computation placer already registered. Please check linkage and avoid linking the same target more than once.\n",
      "W0000 00:00:1748561219.225300 3137598 computation_placer.cc:177] computation placer already registered. Please check linkage and avoid linking the same target more than once.\n",
      "W0000 00:00:1748561219.225302 3137598 computation_placer.cc:177] computation placer already registered. Please check linkage and avoid linking the same target more than once.\n",
      "2025-05-29 23:26:59.231571: I tensorflow/core/platform/cpu_feature_guard.cc:210] This TensorFlow binary is optimized to use available CPU instructions in performance-critical operations.\n",
      "To enable the following instructions: AVX2 FMA, in other operations, rebuild TensorFlow with the appropriate compiler flags.\n"
     ]
    }
   ],
   "source": [
    "%pip install shap\n",
    "\n",
    "import os\n",
    "import json\n",
    "import pandas as pd\n",
    "import numpy as np\n",
    "from sklearn.preprocessing import StandardScaler\n",
    "from sklearn.metrics import accuracy_score, precision_score, recall_score, f1_score\n",
    "from sklearn.model_selection import ParameterGrid\n",
    "from sklearn.metrics import f1_score\n",
    "from tensorflow.keras.models import Sequential\n",
    "from tensorflow.keras.layers import Dense, Dropout\n",
    "from tensorflow.keras.optimizers import Adam\n",
    "from tensorflow.keras.utils import to_categorical\n",
    "import shap"
   ]
  },
  {
   "cell_type": "code",
   "execution_count": 2,
   "id": "09adc668",
   "metadata": {},
   "outputs": [],
   "source": [
    "def evaluate_classification(y_true, y_pred, results, solver_name, label):\n",
    "    acc = accuracy_score(y_true, y_pred)\n",
    "    prec = precision_score(y_true, y_pred, average='macro', zero_division=0)\n",
    "    rec = recall_score(y_true, y_pred, average='macro', zero_division=0)\n",
    "    f1 = f1_score(y_true, y_pred, average='macro', zero_division=0)\n",
    "\n",
    "    print(f\"{label} | Acc: {acc:.4f}, Prec: {prec:.4f}, Rec: {rec:.4f}, F1: {f1:.4f}\")\n",
    "\n",
    "    results.append({\n",
    "        \"Solver\": solver_name,\n",
    "        \"Dataset\": label,\n",
    "        \"Accuracy\": acc,\n",
    "        \"Precision\": prec,\n",
    "        \"Recall\": rec,\n",
    "        \"F1-Score\": f1\n",
    "    })"
   ]
  },
  {
   "cell_type": "code",
   "execution_count": null,
   "id": "7526cf1e",
   "metadata": {},
   "outputs": [],
   "source": [
    "import os\n",
    "import numpy as np\n",
    "import pandas as pd\n",
    "import shap\n",
    "\n",
    "def log_shap_and_importance_classification(model, X_val, y_val, pred_val, features, solver_name, target\n",
    "):\n",
    "    bg_idx     = np.random.choice(X_val.shape[0], min(100, X_val.shape[0]), replace=False)\n",
    "    background = X_val[bg_idx]\n",
    "\n",
    "    try:\n",
    "        #  explain with DeepExplainer\n",
    "        explainer   = shap.DeepExplainer(model, background)\n",
    "        shap_values = explainer.shap_values(X_val)\n",
    "\n",
    "        if isinstance(shap_values, list):\n",
    "            arrs = []\n",
    "            for sv in shap_values:\n",
    "                a = np.array(sv)\n",
    "                \n",
    "                while a.ndim > 2 and 1 in a.shape:\n",
    "                    a = np.squeeze(a)\n",
    "                if a.ndim == 2:\n",
    "                    a = a[:, :, np.newaxis]\n",
    "                arrs.append(a)\n",
    "            arr = np.concatenate(arrs, axis=2) \n",
    "        else:\n",
    "            arr = np.array(shap_values)\n",
    "            if arr.ndim == 2:\n",
    "                arr = arr[:, :, np.newaxis]\n",
    "            if arr.ndim == 4 and arr.shape[2] == 1:\n",
    "                arr = np.squeeze(arr, axis=2)\n",
    "\n",
    "       \n",
    "        shap_2d = np.mean(arr, axis=2)           \n",
    "        assert shap_2d.shape[1] == len(features)\n",
    "\n",
    "    except Exception as e:\n",
    "        print(f\"SHAP failed for {solver_name}-{target}: {e}\")\n",
    "        return\n",
    "\n",
    "    \n",
    "    shap_df = pd.DataFrame(shap_2d, columns=features)\n",
    "    shap_df[\"predicted_value\"] = pred_val\n",
    "    shap_df[\"actual_value\"]    = y_val\n",
    "    shap_df[\"target\"]          = target\n",
    "    shap_df[\"solver\"]          = solver_name\n",
    "\n",
    "    out_dir = \"./mlp_class/mlp_shap_values\"\n",
    "    os.makedirs(out_dir, exist_ok=True)\n",
    "    shap_df.to_csv(f\"{out_dir}/shap_{solver_name}_{target}_classification.csv\", index=False)\n",
    "\n",
    "   \n",
    "    feat_imp = np.abs(shap_2d).mean(axis=0)   # mean over samples\n",
    "    imp_df = pd.DataFrame({\n",
    "        \"feature\": features,\n",
    "        \"importance\": feat_imp,\n",
    "        \"target\": target,\n",
    "        \"solver\": solver_name\n",
    "    })\n",
    "\n",
    "    imp_dir = \"./mlp_class/mlp_feature_importance\"\n",
    "    os.makedirs(imp_dir, exist_ok=True)\n",
    "    imp_df.to_csv(f\"{imp_dir}/mlp_feature_importance_classification.csv\",\n",
    "                  mode='a', index=False,\n",
    "                  header=not os.path.exists(f\"{imp_dir}/mlp_feature_importance_classification.csv\"))\n",
    "\n",
    "    #  Top-5 features\n",
    "    top5 = imp_df.nlargest(5, \"importance\")\n",
    "    top5.to_csv(f\"{imp_dir}/mlp_top5_feature_importance_classification.csv\",\n",
    "                mode='a', index=False,\n",
    "                header=not os.path.exists(f\"{imp_dir}/mlp_top5_feature_importance_classification.csv\"))\n",
    "\n",
    "    print(f\"SHAP values and feature importances saved for {solver_name}-{target}.\")\n"
   ]
  },
  {
   "cell_type": "code",
   "execution_count": 4,
   "id": "cb14d0c0",
   "metadata": {},
   "outputs": [],
   "source": [
    "def build_mlp_classifier(input_dim, hidden_units=[128, 64], dropout_rate=0.3, num_classes=5, learning_rate=0.001):\n",
    "    model = Sequential()\n",
    "    model.add(Dense(hidden_units[0], activation='relu', input_shape=(input_dim,)))\n",
    "    model.add(Dropout(dropout_rate))\n",
    "    for units in hidden_units[1:]:\n",
    "        model.add(Dense(units, activation='relu'))\n",
    "        model.add(Dropout(dropout_rate))\n",
    "    model.add(Dense(num_classes, activation='softmax'))\n",
    "\n",
    "    model.compile(optimizer=Adam(learning_rate=learning_rate), loss='categorical_crossentropy', metrics=['accuracy'])\n",
    "    return model"
   ]
  },
  {
   "cell_type": "code",
   "execution_count": null,
   "id": "6b8c23e8",
   "metadata": {},
   "outputs": [],
   "source": [
    "def train_mlp_classifier_for_solver(solver_name, train_file, test_file, val_file):\n",
    "    print(f\"\\nSolver: {solver_name}\")\n",
    "\n",
    "    df_train = pd.read_csv(train_file).dropna()\n",
    "    df_test  = pd.read_csv(test_file).dropna()\n",
    "    df_val   = pd.read_csv(val_file).dropna()\n",
    "\n",
    "    features = [\n",
    "        \"number_of_elements\",\"capacity\",\"max_weight\",\"min_weight\",\"mean_weight\",\n",
    "        \"median_weight\",\"std_weight\",\"weight_range\",\"max_profit\",\"min_profit\",\"mean_profit\",\n",
    "        \"median_profit\",\"std_profit\",\"profit_range\",\"renting_ratio\",\"mean_weight_profit_ratio\",\n",
    "        \"median_weight_profit_ratio\",\"capacity_mean_weight_ratio\",\"capacity_median_weight_ratio\",\n",
    "        \"capacity_std_weight_ratio\",\"std_weight_profit_ratio\",\"weight_profit_correlation\",\n",
    "        \"ram\",\"cpu_cores\"\n",
    "    ]\n",
    "    target_cols = [\"solution_time\", \"optimality_gap\", \"peak_memory\"]\n",
    "\n",
    "    #  Load precomputed bin edges JSON\n",
    "    bins_dir = os.path.join(BINS_BASE_DIR, f\"{solver_name}_bins\")\n",
    "    if not os.path.isdir(bins_dir):\n",
    "        raise FileNotFoundError(f\"No bins directory: {bins_dir}\")\n",
    "    json_files = [f for f in os.listdir(bins_dir) if f.endswith(\"_bins.json\")]\n",
    "    if len(json_files) != 1:\n",
    "        raise FileNotFoundError(f\"Expected one json in {bins_dir}, found: {json_files}\")\n",
    "    bin_path = os.path.join(bins_dir, json_files[0])\n",
    "    with open(bin_path, \"r\") as f:\n",
    "        bin_edges_dict = json.load(f)\n",
    "\n",
    "    scaler = StandardScaler().fit(df_train[features])\n",
    "    X_train = scaler.transform(df_train[features])\n",
    "    X_test  = scaler.transform(df_test[features])\n",
    "    X_val   = scaler.transform(df_val[features])\n",
    "\n",
    " \n",
    "    base_out = \"./mlp_class\"\n",
    "    os.makedirs(f\"{base_out}/mlp_classifier_models\", exist_ok=True)\n",
    "\n",
    "    results = []\n",
    "    for target in target_cols:\n",
    "        if target not in bin_edges_dict:\n",
    "            print(f\"No bin for '{target}'.\")\n",
    "            continue\n",
    "        edges = bin_edges_dict[target]\n",
    "\n",
    "       \n",
    "        def to_bins(arr, edges):\n",
    "            labels = np.digitize(arr, edges[:-1], right=False) - 1\n",
    "            return np.clip(labels, 0, len(edges) - 2)\n",
    "\n",
    "        y_train = to_bins(df_train[target].values, edges)\n",
    "        y_test  = to_bins(df_test [target].values, edges)\n",
    "        y_val   = to_bins(df_val  [target].values, edges)\n",
    "\n",
    "       \n",
    "        max_train = y_train.max()\n",
    "        y_test = np.clip(y_test, 0, max_train)\n",
    "        y_val  = np.clip(y_val,   0, max_train)\n",
    "\n",
    "       \n",
    "        if len(np.unique(y_train)) < 2:\n",
    "            print(f\"Skipping '{target}': only one class in train\")\n",
    "            continue\n",
    "\n",
    "        # One-hot encode\n",
    "        num_classes = int(max_train) + 1\n",
    "        y_train_cat = to_categorical(y_train, num_classes=num_classes)\n",
    "        y_val_cat   = to_categorical(y_val,   num_classes=num_classes)\n",
    "        y_test_cat  = to_categorical(y_test,  num_classes=num_classes)\n",
    "\n",
    "        #Debug \n",
    "        print(f\"\\n{target}: num_classes={num_classes}\")\n",
    "        print(\" train bins:\", np.unique(y_train))\n",
    "        print(\"  val bins:\", np.unique(y_val))\n",
    "        print(\" test bins:\", np.unique(y_test))\n",
    "\n",
    "       \n",
    "        for epochs in [50, 100]:\n",
    "            print(f\"\\nTraining MLP '{target}' ({epochs} epochs)\")\n",
    "            model = build_mlp_classifier(\n",
    "                input_dim=X_train.shape[1],\n",
    "                hidden_units=[128, 64],\n",
    "                dropout_rate=0.2,\n",
    "                num_classes=num_classes,\n",
    "                learning_rate=0.001\n",
    "            )\n",
    "            model.fit(\n",
    "                X_train, y_train_cat,\n",
    "                validation_data=(X_val, y_val_cat),\n",
    "                epochs=epochs,\n",
    "                batch_size=64,\n",
    "                verbose=0\n",
    "            )\n",
    "\n",
    "         \n",
    "            pred_test_probs = model.predict(X_test)\n",
    "            pred_val_probs  = model.predict(X_val)\n",
    "            best_pred_test  = np.argmax(pred_test_probs, axis=1)\n",
    "            best_pred_val   = np.argmax(pred_val_probs,  axis=1)\n",
    "\n",
    "            print(\"[TEST]\")\n",
    "            evaluate_classification(y_test, best_pred_test, results,\n",
    "                                    solver_name, f\"{target} (Test) - {epochs}e\")\n",
    "            print(\"[VAL]\")\n",
    "            evaluate_classification(y_val,  best_pred_val,  results,\n",
    "                                    solver_name, f\"{target} (Val)  - {epochs}e\")\n",
    "\n",
    "            # Save model\n",
    "            out_path = f\"{base_out}/mlp_classifier_{solver_name}_{target}_{epochs}e.h5\"\n",
    "            model.save(out_path)\n",
    "            print(f\"Saved model {out_path}\")\n",
    "\n",
    "            # SHAP & importance\n",
    "            log_shap_and_importance_classification(\n",
    "                model=model,\n",
    "                X_val=X_val,\n",
    "                y_val=y_val,\n",
    "                pred_val=best_pred_val,\n",
    "                features=features,\n",
    "                solver_name=solver_name,\n",
    "                target=target\n",
    "            )\n",
    "\n",
    "\n",
    "    pd.DataFrame(results).to_csv(\n",
    "        f\"{base_out}/mlp_evaluation_results_classification.csv\",\n",
    "        mode='a', index=False,\n",
    "        header=not os.path.exists(f\"{base_out}/mlp_evaluation_results_classification.csv\")\n",
    "    )"
   ]
  },
  {
   "cell_type": "code",
   "execution_count": 6,
   "id": "30b4c17d",
   "metadata": {},
   "outputs": [],
   "source": [
    "def run_all_models(base_folder):\n",
    "    for root, dirs, files in os.walk(base_folder):\n",
    "        for folder in dirs:\n",
    "            folder_path = os.path.join(root, folder)\n",
    "            csv_files = os.listdir(folder_path)\n",
    "\n",
    "            train_file = [f for f in csv_files if f.endswith(\"_train.csv\")]\n",
    "            test_file = [f for f in csv_files if f.endswith(\"_test.csv\")]\n",
    "            val_file = [f for f in csv_files if f.endswith(\"_val.csv\")]\n",
    "\n",
    "            if train_file and test_file and val_file:\n",
    "                train_fp = os.path.join(folder_path, train_file[0])\n",
    "                test_fp = os.path.join(folder_path, test_file[0])\n",
    "                val_fp = os.path.join(folder_path, val_file[0])\n",
    "\n",
    "                solver_name = folder  \n",
    "                train_mlp_classifier_for_solver(solver_name, train_fp, test_fp, val_fp)"
   ]
  },
  {
   "cell_type": "code",
   "execution_count": null,
   "id": "22bc140e",
   "metadata": {},
   "outputs": [
    {
     "name": "stdout",
     "output_type": "stream",
     "text": [
      "\n",
      "Solver: or_min\n",
      "\n",
      "=== solution_time → num_classes=2 ===\n",
      " train bins: [0 1]\n",
      "  val bins: [0]\n",
      " test bins: [0]\n",
      "\n",
      "Training MLP for 'solution_time' (50 epochs)...\n"
     ]
    },
    {
     "name": "stderr",
     "output_type": "stream",
     "text": [
      "/home/jovyan/conda-envs/torch-gpu/lib/python3.12/site-packages/keras/src/layers/core/dense.py:87: UserWarning: Do not pass an `input_shape`/`input_dim` argument to a layer. When using Sequential models, prefer using an `Input(shape)` object as the first layer in the model instead.\n",
      "  super().__init__(activity_regularizer=activity_regularizer, **kwargs)\n",
      "I0000 00:00:1748561275.000524 3137598 gpu_device.cc:2019] Created device /job:localhost/replica:0/task:0/device:GPU:0 with 21056 MB memory:  -> device: 0, name: NVIDIA RTX A5000, pci bus id: 0000:81:00.0, compute capability: 8.6\n",
      "I0000 00:00:1748561275.003875 3137598 gpu_device.cc:2019] Created device /job:localhost/replica:0/task:0/device:GPU:1 with 22170 MB memory:  -> device: 1, name: NVIDIA RTX A5000, pci bus id: 0000:a1:00.0, compute capability: 8.6\n",
      "WARNING: All log messages before absl::InitializeLog() is called are written to STDERR\n",
      "I0000 00:00:1748561277.273275 3138663 service.cc:152] XLA service 0x74b148004fd0 initialized for platform CUDA (this does not guarantee that XLA will be used). Devices:\n",
      "I0000 00:00:1748561277.273323 3138663 service.cc:160]   StreamExecutor device (0): NVIDIA RTX A5000, Compute Capability 8.6\n",
      "I0000 00:00:1748561277.273346 3138663 service.cc:160]   StreamExecutor device (1): NVIDIA RTX A5000, Compute Capability 8.6\n",
      "2025-05-29 23:27:57.332825: I tensorflow/compiler/mlir/tensorflow/utils/dump_mlir_util.cc:269] disabling MLIR crash reproducer, set env var `MLIR_CRASH_REPRODUCER_DIRECTORY` to enable.\n",
      "I0000 00:00:1748561277.475618 3138663 cuda_dnn.cc:529] Loaded cuDNN version 90300\n",
      "2025-05-29 23:27:58.233647: I external/local_xla/xla/stream_executor/cuda/subprocess_compilation.cc:346] ptxas warning : Registers are spilled to local memory in function 'gemm_fusion_dot_1061', 4 bytes spill stores, 4 bytes spill loads\n",
      "\n",
      "I0000 00:00:1748561279.698006 3138663 device_compiler.h:188] Compiled cluster using XLA!  This line is logged at most once for the lifetime of the process.\n",
      "2025-05-29 23:28:03.358249: I external/local_xla/xla/stream_executor/cuda/subprocess_compilation.cc:346] ptxas warning : Registers are spilled to local memory in function 'gemm_fusion_dot_68', 4 bytes spill stores, 4 bytes spill loads\n",
      "\n",
      "2025-05-29 23:28:03.464738: I external/local_xla/xla/stream_executor/cuda/subprocess_compilation.cc:346] ptxas warning : Registers are spilled to local memory in function 'gemm_fusion_dot_61', 12 bytes spill stores, 12 bytes spill loads\n",
      "\n",
      "2025-05-29 23:28:03.525143: I external/local_xla/xla/stream_executor/cuda/subprocess_compilation.cc:346] ptxas warning : Registers are spilled to local memory in function 'gemm_fusion_dot_61', 8 bytes spill stores, 8 bytes spill loads\n",
      "\n",
      "2025-05-29 23:28:03.801447: I external/local_xla/xla/stream_executor/cuda/subprocess_compilation.cc:346] ptxas warning : Registers are spilled to local memory in function 'gemm_fusion_dot_61', 112 bytes spill stores, 112 bytes spill loads\n",
      "\n",
      "2025-05-29 23:28:05.170269: I external/local_xla/xla/stream_executor/cuda/subprocess_compilation.cc:346] ptxas warning : Registers are spilled to local memory in function 'gemm_fusion_dot_61', 12 bytes spill stores, 12 bytes spill loads\n",
      "\n",
      "2025-05-29 23:28:05.530844: I external/local_xla/xla/stream_executor/cuda/subprocess_compilation.cc:346] ptxas warning : Registers are spilled to local memory in function 'gemm_fusion_dot_61', 132 bytes spill stores, 132 bytes spill loads\n",
      "\n",
      "2025-05-29 23:28:42.570997: I external/local_xla/xla/stream_executor/cuda/subprocess_compilation.cc:346] ptxas warning : Registers are spilled to local memory in function 'gemm_fusion_dot_16', 12 bytes spill stores, 12 bytes spill loads\n",
      "\n",
      "2025-05-29 23:28:42.739852: I external/local_xla/xla/stream_executor/cuda/subprocess_compilation.cc:346] ptxas warning : Registers are spilled to local memory in function 'gemm_fusion_dot_16', 4 bytes spill stores, 4 bytes spill loads\n",
      "\n"
     ]
    },
    {
     "name": "stdout",
     "output_type": "stream",
     "text": [
      "\u001b[1m18/18\u001b[0m \u001b[32m━━━━━━━━━━━━━━━━━━━━\u001b[0m\u001b[37m\u001b[0m \u001b[1m3s\u001b[0m 79ms/step\n",
      "\u001b[1m18/18\u001b[0m \u001b[32m━━━━━━━━━━━━━━━━━━━━\u001b[0m\u001b[37m\u001b[0m \u001b[1m0s\u001b[0m 5ms/step \n"
     ]
    },
    {
     "name": "stderr",
     "output_type": "stream",
     "text": [
      "WARNING:absl:You are saving your model as an HDF5 file via `model.save()` or `keras.saving.save_model(model)`. This file format is considered legacy. We recommend using instead the native Keras format, e.g. `model.save('my_model.keras')` or `keras.saving.save_model(model, 'my_model.keras')`. \n"
     ]
    },
    {
     "name": "stdout",
     "output_type": "stream",
     "text": [
      "[TEST]\n",
      "solution_time (Test) - 50e | Acc: 0.9750, Prec: 0.5000, Rec: 0.4875, F1: 0.4937\n",
      "[VAL]\n",
      "solution_time (Val)  - 50e | Acc: 0.9750, Prec: 0.5000, Rec: 0.4875, F1: 0.4937\n",
      "  • saved MLP model → ./binres_min_kp/mlp_class/mlp_classifier_or_min_solution_time_50e.h5\n"
     ]
    },
    {
     "name": "stderr",
     "output_type": "stream",
     "text": [
      "/home/jovyan/conda-envs/torch-gpu/lib/python3.12/site-packages/shap/explainers/_deep/deep_tf.py:94: UserWarning: Your TensorFlow version is newer than 2.4.0 and so graph support has been removed in eager mode and some static graphs may not be supported. See PR #1483 for discussion.\n",
      "  warnings.warn(\n",
      "/home/jovyan/conda-envs/torch-gpu/lib/python3.12/site-packages/keras/src/models/functional.py:238: UserWarning: The structure of `inputs` doesn't match the expected structure.\n",
      "Expected: keras_tensor\n",
      "Received: inputs=['Tensor(shape=(100, 24))']\n",
      "  warnings.warn(msg)\n",
      "/home/jovyan/conda-envs/torch-gpu/lib/python3.12/site-packages/keras/src/models/functional.py:238: UserWarning: The structure of `inputs` doesn't match the expected structure.\n",
      "Expected: keras_tensor\n",
      "Received: inputs=['Tensor(shape=(200, 24))']\n",
      "  warnings.warn(msg)\n",
      "/home/jovyan/conda-envs/torch-gpu/lib/python3.12/site-packages/keras/src/models/functional.py:238: UserWarning: The structure of `inputs` doesn't match the expected structure.\n",
      "Expected: keras_tensor\n",
      "Received: inputs=['Tensor(shape=(560, 24))']\n",
      "  warnings.warn(msg)\n",
      "/home/jovyan/conda-envs/torch-gpu/lib/python3.12/site-packages/keras/src/layers/core/dense.py:87: UserWarning: Do not pass an `input_shape`/`input_dim` argument to a layer. When using Sequential models, prefer using an `Input(shape)` object as the first layer in the model instead.\n",
      "  super().__init__(activity_regularizer=activity_regularizer, **kwargs)\n"
     ]
    },
    {
     "name": "stdout",
     "output_type": "stream",
     "text": [
      "SHAP values and feature importances saved for or_min-solution_time.\n",
      "\n",
      "Training MLP for 'solution_time' (100 epochs)...\n",
      "\u001b[1m18/18\u001b[0m \u001b[32m━━━━━━━━━━━━━━━━━━━━\u001b[0m\u001b[37m\u001b[0m \u001b[1m1s\u001b[0m 35ms/step\n",
      "\u001b[1m18/18\u001b[0m \u001b[32m━━━━━━━━━━━━━━━━━━━━\u001b[0m\u001b[37m\u001b[0m \u001b[1m0s\u001b[0m 4ms/step \n"
     ]
    },
    {
     "name": "stderr",
     "output_type": "stream",
     "text": [
      "WARNING:absl:You are saving your model as an HDF5 file via `model.save()` or `keras.saving.save_model(model)`. This file format is considered legacy. We recommend using instead the native Keras format, e.g. `model.save('my_model.keras')` or `keras.saving.save_model(model, 'my_model.keras')`. \n"
     ]
    },
    {
     "name": "stdout",
     "output_type": "stream",
     "text": [
      "[TEST]\n",
      "solution_time (Test) - 100e | Acc: 0.9750, Prec: 0.5000, Rec: 0.4875, F1: 0.4937\n",
      "[VAL]\n",
      "solution_time (Val)  - 100e | Acc: 0.9750, Prec: 0.5000, Rec: 0.4875, F1: 0.4937\n",
      "  • saved MLP model → ./binres_min_kp/mlp_class/mlp_classifier_or_min_solution_time_100e.h5\n"
     ]
    },
    {
     "name": "stderr",
     "output_type": "stream",
     "text": [
      "/home/jovyan/conda-envs/torch-gpu/lib/python3.12/site-packages/shap/explainers/_deep/deep_tf.py:94: UserWarning: Your TensorFlow version is newer than 2.4.0 and so graph support has been removed in eager mode and some static graphs may not be supported. See PR #1483 for discussion.\n",
      "  warnings.warn(\n",
      "/home/jovyan/conda-envs/torch-gpu/lib/python3.12/site-packages/keras/src/models/functional.py:238: UserWarning: The structure of `inputs` doesn't match the expected structure.\n",
      "Expected: keras_tensor_16\n",
      "Received: inputs=['Tensor(shape=(100, 24))']\n",
      "  warnings.warn(msg)\n",
      "/home/jovyan/conda-envs/torch-gpu/lib/python3.12/site-packages/keras/src/models/functional.py:238: UserWarning: The structure of `inputs` doesn't match the expected structure.\n",
      "Expected: keras_tensor_16\n",
      "Received: inputs=['Tensor(shape=(200, 24))']\n",
      "  warnings.warn(msg)\n",
      "/home/jovyan/conda-envs/torch-gpu/lib/python3.12/site-packages/keras/src/models/functional.py:238: UserWarning: The structure of `inputs` doesn't match the expected structure.\n",
      "Expected: keras_tensor_16\n",
      "Received: inputs=['Tensor(shape=(560, 24))']\n",
      "  warnings.warn(msg)\n",
      "/home/jovyan/conda-envs/torch-gpu/lib/python3.12/site-packages/keras/src/layers/core/dense.py:87: UserWarning: Do not pass an `input_shape`/`input_dim` argument to a layer. When using Sequential models, prefer using an `Input(shape)` object as the first layer in the model instead.\n",
      "  super().__init__(activity_regularizer=activity_regularizer, **kwargs)\n"
     ]
    },
    {
     "name": "stdout",
     "output_type": "stream",
     "text": [
      "SHAP values and feature importances saved for or_min-solution_time.\n",
      "\n",
      "=== optimality_gap → num_classes=2 ===\n",
      " train bins: [0 1]\n",
      "  val bins: [0 1]\n",
      " test bins: [0]\n",
      "\n",
      "Training MLP for 'optimality_gap' (50 epochs)...\n",
      "\u001b[1m18/18\u001b[0m \u001b[32m━━━━━━━━━━━━━━━━━━━━\u001b[0m\u001b[37m\u001b[0m \u001b[1m1s\u001b[0m 36ms/step\n",
      "\u001b[1m18/18\u001b[0m \u001b[32m━━━━━━━━━━━━━━━━━━━━\u001b[0m\u001b[37m\u001b[0m \u001b[1m0s\u001b[0m 4ms/step \n",
      "[TEST]\n",
      "optimality_gap (Test) - 50e | Acc: 0.9946, Prec: 0.5000, Rec: 0.4973, F1: 0.4987\n",
      "[VAL]\n"
     ]
    },
    {
     "name": "stderr",
     "output_type": "stream",
     "text": [
      "WARNING:absl:You are saving your model as an HDF5 file via `model.save()` or `keras.saving.save_model(model)`. This file format is considered legacy. We recommend using instead the native Keras format, e.g. `model.save('my_model.keras')` or `keras.saving.save_model(model, 'my_model.keras')`. \n"
     ]
    },
    {
     "name": "stdout",
     "output_type": "stream",
     "text": [
      "optimality_gap (Val)  - 50e | Acc: 0.9500, Prec: 0.4750, Rec: 0.5000, F1: 0.4872\n",
      "  • saved MLP model → ./binres_min_kp/mlp_class/mlp_classifier_or_min_optimality_gap_50e.h5\n"
     ]
    },
    {
     "name": "stderr",
     "output_type": "stream",
     "text": [
      "/home/jovyan/conda-envs/torch-gpu/lib/python3.12/site-packages/shap/explainers/_deep/deep_tf.py:94: UserWarning: Your TensorFlow version is newer than 2.4.0 and so graph support has been removed in eager mode and some static graphs may not be supported. See PR #1483 for discussion.\n",
      "  warnings.warn(\n",
      "/home/jovyan/conda-envs/torch-gpu/lib/python3.12/site-packages/keras/src/models/functional.py:238: UserWarning: The structure of `inputs` doesn't match the expected structure.\n",
      "Expected: keras_tensor_32\n",
      "Received: inputs=['Tensor(shape=(100, 24))']\n",
      "  warnings.warn(msg)\n",
      "/home/jovyan/conda-envs/torch-gpu/lib/python3.12/site-packages/keras/src/models/functional.py:238: UserWarning: The structure of `inputs` doesn't match the expected structure.\n",
      "Expected: keras_tensor_32\n",
      "Received: inputs=['Tensor(shape=(200, 24))']\n",
      "  warnings.warn(msg)\n",
      "/home/jovyan/conda-envs/torch-gpu/lib/python3.12/site-packages/keras/src/models/functional.py:238: UserWarning: The structure of `inputs` doesn't match the expected structure.\n",
      "Expected: keras_tensor_32\n",
      "Received: inputs=['Tensor(shape=(560, 24))']\n",
      "  warnings.warn(msg)\n",
      "/home/jovyan/conda-envs/torch-gpu/lib/python3.12/site-packages/keras/src/layers/core/dense.py:87: UserWarning: Do not pass an `input_shape`/`input_dim` argument to a layer. When using Sequential models, prefer using an `Input(shape)` object as the first layer in the model instead.\n",
      "  super().__init__(activity_regularizer=activity_regularizer, **kwargs)\n"
     ]
    },
    {
     "name": "stdout",
     "output_type": "stream",
     "text": [
      "SHAP values and feature importances saved for or_min-optimality_gap.\n",
      "\n",
      "Training MLP for 'optimality_gap' (100 epochs)...\n",
      "\u001b[1m18/18\u001b[0m \u001b[32m━━━━━━━━━━━━━━━━━━━━\u001b[0m\u001b[37m\u001b[0m \u001b[1m1s\u001b[0m 35ms/step\n",
      "\u001b[1m18/18\u001b[0m \u001b[32m━━━━━━━━━━━━━━━━━━━━\u001b[0m\u001b[37m\u001b[0m \u001b[1m0s\u001b[0m 4ms/step \n",
      "[TEST]\n"
     ]
    },
    {
     "name": "stderr",
     "output_type": "stream",
     "text": [
      "WARNING:absl:You are saving your model as an HDF5 file via `model.save()` or `keras.saving.save_model(model)`. This file format is considered legacy. We recommend using instead the native Keras format, e.g. `model.save('my_model.keras')` or `keras.saving.save_model(model, 'my_model.keras')`. \n"
     ]
    },
    {
     "name": "stdout",
     "output_type": "stream",
     "text": [
      "optimality_gap (Test) - 100e | Acc: 0.9750, Prec: 0.5000, Rec: 0.4875, F1: 0.4937\n",
      "[VAL]\n",
      "optimality_gap (Val)  - 100e | Acc: 0.9500, Prec: 0.4750, Rec: 0.5000, F1: 0.4872\n",
      "  • saved MLP model → ./binres_min_kp/mlp_class/mlp_classifier_or_min_optimality_gap_100e.h5\n"
     ]
    },
    {
     "name": "stderr",
     "output_type": "stream",
     "text": [
      "/home/jovyan/conda-envs/torch-gpu/lib/python3.12/site-packages/shap/explainers/_deep/deep_tf.py:94: UserWarning: Your TensorFlow version is newer than 2.4.0 and so graph support has been removed in eager mode and some static graphs may not be supported. See PR #1483 for discussion.\n",
      "  warnings.warn(\n",
      "/home/jovyan/conda-envs/torch-gpu/lib/python3.12/site-packages/keras/src/models/functional.py:238: UserWarning: The structure of `inputs` doesn't match the expected structure.\n",
      "Expected: keras_tensor_48\n",
      "Received: inputs=['Tensor(shape=(100, 24))']\n",
      "  warnings.warn(msg)\n",
      "/home/jovyan/conda-envs/torch-gpu/lib/python3.12/site-packages/keras/src/models/functional.py:238: UserWarning: The structure of `inputs` doesn't match the expected structure.\n",
      "Expected: keras_tensor_48\n",
      "Received: inputs=['Tensor(shape=(200, 24))']\n",
      "  warnings.warn(msg)\n",
      "/home/jovyan/conda-envs/torch-gpu/lib/python3.12/site-packages/keras/src/models/functional.py:238: UserWarning: The structure of `inputs` doesn't match the expected structure.\n",
      "Expected: keras_tensor_48\n",
      "Received: inputs=['Tensor(shape=(560, 24))']\n",
      "  warnings.warn(msg)\n",
      "/home/jovyan/conda-envs/torch-gpu/lib/python3.12/site-packages/keras/src/layers/core/dense.py:87: UserWarning: Do not pass an `input_shape`/`input_dim` argument to a layer. When using Sequential models, prefer using an `Input(shape)` object as the first layer in the model instead.\n",
      "  super().__init__(activity_regularizer=activity_regularizer, **kwargs)\n"
     ]
    },
    {
     "name": "stdout",
     "output_type": "stream",
     "text": [
      "SHAP values and feature importances saved for or_min-optimality_gap.\n",
      "\n",
      "=== peak_memory → num_classes=5 ===\n",
      " train bins: [0 1 2 4]\n",
      "  val bins: [0 1 2]\n",
      " test bins: [0 1 2]\n",
      "\n",
      "Training MLP for 'peak_memory' (50 epochs)...\n",
      "\u001b[1m18/18\u001b[0m \u001b[32m━━━━━━━━━━━━━━━━━━━━\u001b[0m\u001b[37m\u001b[0m \u001b[1m2s\u001b[0m 46ms/step\n",
      "\u001b[1m18/18\u001b[0m \u001b[32m━━━━━━━━━━━━━━━━━━━━\u001b[0m\u001b[37m\u001b[0m \u001b[1m0s\u001b[0m 5ms/step \n",
      "[TEST]\n",
      "peak_memory (Test) - 50e | Acc: 0.9107, Prec: 0.6401, Rec: 0.3429, F1: 0.3427\n",
      "[VAL]\n"
     ]
    },
    {
     "name": "stderr",
     "output_type": "stream",
     "text": [
      "WARNING:absl:You are saving your model as an HDF5 file via `model.save()` or `keras.saving.save_model(model)`. This file format is considered legacy. We recommend using instead the native Keras format, e.g. `model.save('my_model.keras')` or `keras.saving.save_model(model, 'my_model.keras')`. \n"
     ]
    },
    {
     "name": "stdout",
     "output_type": "stream",
     "text": [
      "peak_memory (Val)  - 50e | Acc: 0.9393, Prec: 0.7313, Rec: 0.4564, F1: 0.4802\n",
      "  • saved MLP model → ./binres_min_kp/mlp_class/mlp_classifier_or_min_peak_memory_50e.h5\n"
     ]
    },
    {
     "name": "stderr",
     "output_type": "stream",
     "text": [
      "/home/jovyan/conda-envs/torch-gpu/lib/python3.12/site-packages/shap/explainers/_deep/deep_tf.py:94: UserWarning: Your TensorFlow version is newer than 2.4.0 and so graph support has been removed in eager mode and some static graphs may not be supported. See PR #1483 for discussion.\n",
      "  warnings.warn(\n",
      "/home/jovyan/conda-envs/torch-gpu/lib/python3.12/site-packages/keras/src/models/functional.py:238: UserWarning: The structure of `inputs` doesn't match the expected structure.\n",
      "Expected: keras_tensor_64\n",
      "Received: inputs=['Tensor(shape=(100, 24))']\n",
      "  warnings.warn(msg)\n",
      "/home/jovyan/conda-envs/torch-gpu/lib/python3.12/site-packages/keras/src/models/functional.py:238: UserWarning: The structure of `inputs` doesn't match the expected structure.\n",
      "Expected: keras_tensor_64\n",
      "Received: inputs=['Tensor(shape=(200, 24))']\n",
      "  warnings.warn(msg)\n",
      "/home/jovyan/conda-envs/torch-gpu/lib/python3.12/site-packages/keras/src/models/functional.py:238: UserWarning: The structure of `inputs` doesn't match the expected structure.\n",
      "Expected: keras_tensor_64\n",
      "Received: inputs=['Tensor(shape=(560, 24))']\n",
      "  warnings.warn(msg)\n",
      "/home/jovyan/conda-envs/torch-gpu/lib/python3.12/site-packages/keras/src/layers/core/dense.py:87: UserWarning: Do not pass an `input_shape`/`input_dim` argument to a layer. When using Sequential models, prefer using an `Input(shape)` object as the first layer in the model instead.\n",
      "  super().__init__(activity_regularizer=activity_regularizer, **kwargs)\n"
     ]
    },
    {
     "name": "stdout",
     "output_type": "stream",
     "text": [
      "SHAP values and feature importances saved for or_min-peak_memory.\n",
      "\n",
      "Training MLP for 'peak_memory' (100 epochs)...\n",
      "\u001b[1m18/18\u001b[0m \u001b[32m━━━━━━━━━━━━━━━━━━━━\u001b[0m\u001b[37m\u001b[0m \u001b[1m1s\u001b[0m 38ms/step\n",
      "\u001b[1m18/18\u001b[0m \u001b[32m━━━━━━━━━━━━━━━━━━━━\u001b[0m\u001b[37m\u001b[0m \u001b[1m0s\u001b[0m 5ms/step \n"
     ]
    },
    {
     "name": "stderr",
     "output_type": "stream",
     "text": [
      "WARNING:absl:You are saving your model as an HDF5 file via `model.save()` or `keras.saving.save_model(model)`. This file format is considered legacy. We recommend using instead the native Keras format, e.g. `model.save('my_model.keras')` or `keras.saving.save_model(model, 'my_model.keras')`. \n"
     ]
    },
    {
     "name": "stdout",
     "output_type": "stream",
     "text": [
      "[TEST]\n",
      "peak_memory (Test) - 100e | Acc: 0.9071, Prec: 0.4019, Rec: 0.3538, F1: 0.3574\n",
      "[VAL]\n",
      "peak_memory (Val)  - 100e | Acc: 0.9321, Prec: 0.5627, Rec: 0.4930, F1: 0.5040\n",
      "  • saved MLP model → ./binres_min_kp/mlp_class/mlp_classifier_or_min_peak_memory_100e.h5\n"
     ]
    },
    {
     "name": "stderr",
     "output_type": "stream",
     "text": [
      "/home/jovyan/conda-envs/torch-gpu/lib/python3.12/site-packages/shap/explainers/_deep/deep_tf.py:94: UserWarning: Your TensorFlow version is newer than 2.4.0 and so graph support has been removed in eager mode and some static graphs may not be supported. See PR #1483 for discussion.\n",
      "  warnings.warn(\n",
      "/home/jovyan/conda-envs/torch-gpu/lib/python3.12/site-packages/keras/src/models/functional.py:238: UserWarning: The structure of `inputs` doesn't match the expected structure.\n",
      "Expected: keras_tensor_80\n",
      "Received: inputs=['Tensor(shape=(100, 24))']\n",
      "  warnings.warn(msg)\n",
      "/home/jovyan/conda-envs/torch-gpu/lib/python3.12/site-packages/keras/src/models/functional.py:238: UserWarning: The structure of `inputs` doesn't match the expected structure.\n",
      "Expected: keras_tensor_80\n",
      "Received: inputs=['Tensor(shape=(200, 24))']\n",
      "  warnings.warn(msg)\n",
      "/home/jovyan/conda-envs/torch-gpu/lib/python3.12/site-packages/keras/src/models/functional.py:238: UserWarning: The structure of `inputs` doesn't match the expected structure.\n",
      "Expected: keras_tensor_80\n",
      "Received: inputs=['Tensor(shape=(560, 24))']\n",
      "  warnings.warn(msg)\n",
      "/home/jovyan/conda-envs/torch-gpu/lib/python3.12/site-packages/keras/src/layers/core/dense.py:87: UserWarning: Do not pass an `input_shape`/`input_dim` argument to a layer. When using Sequential models, prefer using an `Input(shape)` object as the first layer in the model instead.\n",
      "  super().__init__(activity_regularizer=activity_regularizer, **kwargs)\n"
     ]
    },
    {
     "name": "stdout",
     "output_type": "stream",
     "text": [
      "SHAP values and feature importances saved for or_min-peak_memory.\n",
      "\n",
      "Solver: gurobi_min\n",
      "\n",
      "=== solution_time → num_classes=5 ===\n",
      " train bins: [0 1 2 3 4]\n",
      "  val bins: [0 1 2]\n",
      " test bins: [0 1 2]\n",
      "\n",
      "Training MLP for 'solution_time' (50 epochs)...\n",
      "\u001b[1m18/18\u001b[0m \u001b[32m━━━━━━━━━━━━━━━━━━━━\u001b[0m\u001b[37m\u001b[0m \u001b[1m1s\u001b[0m 36ms/step\n",
      "\u001b[1m18/18\u001b[0m \u001b[32m━━━━━━━━━━━━━━━━━━━━\u001b[0m\u001b[37m\u001b[0m \u001b[1m0s\u001b[0m 4ms/step \n"
     ]
    },
    {
     "name": "stderr",
     "output_type": "stream",
     "text": [
      "WARNING:absl:You are saving your model as an HDF5 file via `model.save()` or `keras.saving.save_model(model)`. This file format is considered legacy. We recommend using instead the native Keras format, e.g. `model.save('my_model.keras')` or `keras.saving.save_model(model, 'my_model.keras')`. \n"
     ]
    },
    {
     "name": "stdout",
     "output_type": "stream",
     "text": [
      "[TEST]\n",
      "solution_time (Test) - 50e | Acc: 0.7036, Prec: 0.3585, Rec: 0.3564, F1: 0.3569\n",
      "[VAL]\n",
      "solution_time (Val)  - 50e | Acc: 0.8375, Prec: 0.5108, Rec: 0.7920, F1: 0.5078\n",
      "  • saved MLP model → ./binres_min_kp/mlp_class/mlp_classifier_gurobi_min_solution_time_50e.h5\n"
     ]
    },
    {
     "name": "stderr",
     "output_type": "stream",
     "text": [
      "/home/jovyan/conda-envs/torch-gpu/lib/python3.12/site-packages/shap/explainers/_deep/deep_tf.py:94: UserWarning: Your TensorFlow version is newer than 2.4.0 and so graph support has been removed in eager mode and some static graphs may not be supported. See PR #1483 for discussion.\n",
      "  warnings.warn(\n",
      "/home/jovyan/conda-envs/torch-gpu/lib/python3.12/site-packages/keras/src/models/functional.py:238: UserWarning: The structure of `inputs` doesn't match the expected structure.\n",
      "Expected: keras_tensor_96\n",
      "Received: inputs=['Tensor(shape=(100, 24))']\n",
      "  warnings.warn(msg)\n",
      "/home/jovyan/conda-envs/torch-gpu/lib/python3.12/site-packages/keras/src/models/functional.py:238: UserWarning: The structure of `inputs` doesn't match the expected structure.\n",
      "Expected: keras_tensor_96\n",
      "Received: inputs=['Tensor(shape=(200, 24))']\n",
      "  warnings.warn(msg)\n",
      "/home/jovyan/conda-envs/torch-gpu/lib/python3.12/site-packages/keras/src/models/functional.py:238: UserWarning: The structure of `inputs` doesn't match the expected structure.\n",
      "Expected: keras_tensor_96\n",
      "Received: inputs=['Tensor(shape=(560, 24))']\n",
      "  warnings.warn(msg)\n",
      "/home/jovyan/conda-envs/torch-gpu/lib/python3.12/site-packages/keras/src/layers/core/dense.py:87: UserWarning: Do not pass an `input_shape`/`input_dim` argument to a layer. When using Sequential models, prefer using an `Input(shape)` object as the first layer in the model instead.\n",
      "  super().__init__(activity_regularizer=activity_regularizer, **kwargs)\n"
     ]
    },
    {
     "name": "stdout",
     "output_type": "stream",
     "text": [
      "SHAP values and feature importances saved for gurobi_min-solution_time.\n",
      "\n",
      "Training MLP for 'solution_time' (100 epochs)...\n",
      "\u001b[1m18/18\u001b[0m \u001b[32m━━━━━━━━━━━━━━━━━━━━\u001b[0m\u001b[37m\u001b[0m \u001b[1m1s\u001b[0m 36ms/step\n",
      "\u001b[1m18/18\u001b[0m \u001b[32m━━━━━━━━━━━━━━━━━━━━\u001b[0m\u001b[37m\u001b[0m \u001b[1m0s\u001b[0m 4ms/step \n"
     ]
    },
    {
     "name": "stderr",
     "output_type": "stream",
     "text": [
      "WARNING:absl:You are saving your model as an HDF5 file via `model.save()` or `keras.saving.save_model(model)`. This file format is considered legacy. We recommend using instead the native Keras format, e.g. `model.save('my_model.keras')` or `keras.saving.save_model(model, 'my_model.keras')`. \n"
     ]
    },
    {
     "name": "stdout",
     "output_type": "stream",
     "text": [
      "[TEST]\n",
      "solution_time (Test) - 100e | Acc: 0.6857, Prec: 0.3596, Rec: 0.3591, F1: 0.3593\n",
      "[VAL]\n",
      "solution_time (Val)  - 100e | Acc: 0.7893, Prec: 0.4131, Rec: 0.4247, F1: 0.4180\n",
      "  • saved MLP model → ./binres_min_kp/mlp_class/mlp_classifier_gurobi_min_solution_time_100e.h5\n"
     ]
    },
    {
     "name": "stderr",
     "output_type": "stream",
     "text": [
      "/home/jovyan/conda-envs/torch-gpu/lib/python3.12/site-packages/shap/explainers/_deep/deep_tf.py:94: UserWarning: Your TensorFlow version is newer than 2.4.0 and so graph support has been removed in eager mode and some static graphs may not be supported. See PR #1483 for discussion.\n",
      "  warnings.warn(\n",
      "/home/jovyan/conda-envs/torch-gpu/lib/python3.12/site-packages/keras/src/models/functional.py:238: UserWarning: The structure of `inputs` doesn't match the expected structure.\n",
      "Expected: keras_tensor_112\n",
      "Received: inputs=['Tensor(shape=(100, 24))']\n",
      "  warnings.warn(msg)\n",
      "/home/jovyan/conda-envs/torch-gpu/lib/python3.12/site-packages/keras/src/models/functional.py:238: UserWarning: The structure of `inputs` doesn't match the expected structure.\n",
      "Expected: keras_tensor_112\n",
      "Received: inputs=['Tensor(shape=(200, 24))']\n",
      "  warnings.warn(msg)\n",
      "/home/jovyan/conda-envs/torch-gpu/lib/python3.12/site-packages/keras/src/models/functional.py:238: UserWarning: The structure of `inputs` doesn't match the expected structure.\n",
      "Expected: keras_tensor_112\n",
      "Received: inputs=['Tensor(shape=(560, 24))']\n",
      "  warnings.warn(msg)\n",
      "/home/jovyan/conda-envs/torch-gpu/lib/python3.12/site-packages/keras/src/layers/core/dense.py:87: UserWarning: Do not pass an `input_shape`/`input_dim` argument to a layer. When using Sequential models, prefer using an `Input(shape)` object as the first layer in the model instead.\n",
      "  super().__init__(activity_regularizer=activity_regularizer, **kwargs)\n"
     ]
    },
    {
     "name": "stdout",
     "output_type": "stream",
     "text": [
      "SHAP values and feature importances saved for gurobi_min-solution_time.\n",
      "  • skipping 'optimality_gap': only one class in train\n",
      "\n",
      "=== peak_memory → num_classes=5 ===\n",
      " train bins: [0 1 2 3 4]\n",
      "  val bins: [0 1 2 3 4]\n",
      " test bins: [0 1 2 3 4]\n",
      "\n",
      "Training MLP for 'peak_memory' (50 epochs)...\n",
      "\u001b[1m18/18\u001b[0m \u001b[32m━━━━━━━━━━━━━━━━━━━━\u001b[0m\u001b[37m\u001b[0m \u001b[1m1s\u001b[0m 39ms/step\n",
      "\u001b[1m18/18\u001b[0m \u001b[32m━━━━━━━━━━━━━━━━━━━━\u001b[0m\u001b[37m\u001b[0m \u001b[1m0s\u001b[0m 5ms/step \n"
     ]
    },
    {
     "name": "stderr",
     "output_type": "stream",
     "text": [
      "WARNING:absl:You are saving your model as an HDF5 file via `model.save()` or `keras.saving.save_model(model)`. This file format is considered legacy. We recommend using instead the native Keras format, e.g. `model.save('my_model.keras')` or `keras.saving.save_model(model, 'my_model.keras')`. \n"
     ]
    },
    {
     "name": "stdout",
     "output_type": "stream",
     "text": [
      "[TEST]\n",
      "peak_memory (Test) - 50e | Acc: 0.1857, Prec: 0.1599, Rec: 0.1774, F1: 0.1509\n",
      "[VAL]\n",
      "peak_memory (Val)  - 50e | Acc: 0.3554, Prec: 0.3658, Rec: 0.3349, F1: 0.3207\n",
      "  • saved MLP model → ./binres_min_kp/mlp_class/mlp_classifier_gurobi_min_peak_memory_50e.h5\n"
     ]
    },
    {
     "name": "stderr",
     "output_type": "stream",
     "text": [
      "/home/jovyan/conda-envs/torch-gpu/lib/python3.12/site-packages/shap/explainers/_deep/deep_tf.py:94: UserWarning: Your TensorFlow version is newer than 2.4.0 and so graph support has been removed in eager mode and some static graphs may not be supported. See PR #1483 for discussion.\n",
      "  warnings.warn(\n",
      "/home/jovyan/conda-envs/torch-gpu/lib/python3.12/site-packages/keras/src/models/functional.py:238: UserWarning: The structure of `inputs` doesn't match the expected structure.\n",
      "Expected: keras_tensor_128\n",
      "Received: inputs=['Tensor(shape=(100, 24))']\n",
      "  warnings.warn(msg)\n",
      "/home/jovyan/conda-envs/torch-gpu/lib/python3.12/site-packages/keras/src/models/functional.py:238: UserWarning: The structure of `inputs` doesn't match the expected structure.\n",
      "Expected: keras_tensor_128\n",
      "Received: inputs=['Tensor(shape=(200, 24))']\n",
      "  warnings.warn(msg)\n",
      "/home/jovyan/conda-envs/torch-gpu/lib/python3.12/site-packages/keras/src/models/functional.py:238: UserWarning: The structure of `inputs` doesn't match the expected structure.\n",
      "Expected: keras_tensor_128\n",
      "Received: inputs=['Tensor(shape=(560, 24))']\n",
      "  warnings.warn(msg)\n",
      "/home/jovyan/conda-envs/torch-gpu/lib/python3.12/site-packages/keras/src/layers/core/dense.py:87: UserWarning: Do not pass an `input_shape`/`input_dim` argument to a layer. When using Sequential models, prefer using an `Input(shape)` object as the first layer in the model instead.\n",
      "  super().__init__(activity_regularizer=activity_regularizer, **kwargs)\n"
     ]
    },
    {
     "name": "stdout",
     "output_type": "stream",
     "text": [
      "SHAP values and feature importances saved for gurobi_min-peak_memory.\n",
      "\n",
      "Training MLP for 'peak_memory' (100 epochs)...\n",
      "\u001b[1m18/18\u001b[0m \u001b[32m━━━━━━━━━━━━━━━━━━━━\u001b[0m\u001b[37m\u001b[0m \u001b[1m1s\u001b[0m 38ms/step\n",
      "\u001b[1m18/18\u001b[0m \u001b[32m━━━━━━━━━━━━━━━━━━━━\u001b[0m\u001b[37m\u001b[0m \u001b[1m0s\u001b[0m 4ms/step \n"
     ]
    },
    {
     "name": "stderr",
     "output_type": "stream",
     "text": [
      "WARNING:absl:You are saving your model as an HDF5 file via `model.save()` or `keras.saving.save_model(model)`. This file format is considered legacy. We recommend using instead the native Keras format, e.g. `model.save('my_model.keras')` or `keras.saving.save_model(model, 'my_model.keras')`. \n"
     ]
    },
    {
     "name": "stdout",
     "output_type": "stream",
     "text": [
      "[TEST]\n",
      "peak_memory (Test) - 100e | Acc: 0.2679, Prec: 0.2358, Rec: 0.2607, F1: 0.2350\n",
      "[VAL]\n",
      "peak_memory (Val)  - 100e | Acc: 0.3732, Prec: 0.4583, Rec: 0.3403, F1: 0.3352\n",
      "  • saved MLP model → ./binres_min_kp/mlp_class/mlp_classifier_gurobi_min_peak_memory_100e.h5\n"
     ]
    },
    {
     "name": "stderr",
     "output_type": "stream",
     "text": [
      "/home/jovyan/conda-envs/torch-gpu/lib/python3.12/site-packages/shap/explainers/_deep/deep_tf.py:94: UserWarning: Your TensorFlow version is newer than 2.4.0 and so graph support has been removed in eager mode and some static graphs may not be supported. See PR #1483 for discussion.\n",
      "  warnings.warn(\n",
      "/home/jovyan/conda-envs/torch-gpu/lib/python3.12/site-packages/keras/src/models/functional.py:238: UserWarning: The structure of `inputs` doesn't match the expected structure.\n",
      "Expected: keras_tensor_144\n",
      "Received: inputs=['Tensor(shape=(100, 24))']\n",
      "  warnings.warn(msg)\n",
      "/home/jovyan/conda-envs/torch-gpu/lib/python3.12/site-packages/keras/src/models/functional.py:238: UserWarning: The structure of `inputs` doesn't match the expected structure.\n",
      "Expected: keras_tensor_144\n",
      "Received: inputs=['Tensor(shape=(200, 24))']\n",
      "  warnings.warn(msg)\n",
      "/home/jovyan/conda-envs/torch-gpu/lib/python3.12/site-packages/keras/src/models/functional.py:238: UserWarning: The structure of `inputs` doesn't match the expected structure.\n",
      "Expected: keras_tensor_144\n",
      "Received: inputs=['Tensor(shape=(560, 24))']\n",
      "  warnings.warn(msg)\n",
      "/home/jovyan/conda-envs/torch-gpu/lib/python3.12/site-packages/keras/src/layers/core/dense.py:87: UserWarning: Do not pass an `input_shape`/`input_dim` argument to a layer. When using Sequential models, prefer using an `Input(shape)` object as the first layer in the model instead.\n",
      "  super().__init__(activity_regularizer=activity_regularizer, **kwargs)\n"
     ]
    },
    {
     "name": "stdout",
     "output_type": "stream",
     "text": [
      "SHAP values and feature importances saved for gurobi_min-peak_memory.\n",
      "\n",
      "Solver: greedy_min\n",
      "\n",
      "=== solution_time → num_classes=5 ===\n",
      " train bins: [0 1 2 3 4]\n",
      "  val bins: [0 1 2 3 4]\n",
      " test bins: [0 1 2 3 4]\n",
      "\n",
      "Training MLP for 'solution_time' (50 epochs)...\n",
      "\u001b[1m18/18\u001b[0m \u001b[32m━━━━━━━━━━━━━━━━━━━━\u001b[0m\u001b[37m\u001b[0m \u001b[1m1s\u001b[0m 39ms/step\n",
      "\u001b[1m18/18\u001b[0m \u001b[32m━━━━━━━━━━━━━━━━━━━━\u001b[0m\u001b[37m\u001b[0m \u001b[1m0s\u001b[0m 5ms/step \n"
     ]
    },
    {
     "name": "stderr",
     "output_type": "stream",
     "text": [
      "WARNING:absl:You are saving your model as an HDF5 file via `model.save()` or `keras.saving.save_model(model)`. This file format is considered legacy. We recommend using instead the native Keras format, e.g. `model.save('my_model.keras')` or `keras.saving.save_model(model, 'my_model.keras')`. \n"
     ]
    },
    {
     "name": "stdout",
     "output_type": "stream",
     "text": [
      "[TEST]\n",
      "solution_time (Test) - 50e | Acc: 0.9625, Prec: 0.9226, Rec: 0.9433, F1: 0.9230\n",
      "[VAL]\n",
      "solution_time (Val)  - 50e | Acc: 0.8393, Prec: 0.8195, Rec: 0.8683, F1: 0.8298\n",
      "  • saved MLP model → ./binres_min_kp/mlp_class/mlp_classifier_greedy_min_solution_time_50e.h5\n"
     ]
    },
    {
     "name": "stderr",
     "output_type": "stream",
     "text": [
      "/home/jovyan/conda-envs/torch-gpu/lib/python3.12/site-packages/shap/explainers/_deep/deep_tf.py:94: UserWarning: Your TensorFlow version is newer than 2.4.0 and so graph support has been removed in eager mode and some static graphs may not be supported. See PR #1483 for discussion.\n",
      "  warnings.warn(\n",
      "/home/jovyan/conda-envs/torch-gpu/lib/python3.12/site-packages/keras/src/models/functional.py:238: UserWarning: The structure of `inputs` doesn't match the expected structure.\n",
      "Expected: keras_tensor_160\n",
      "Received: inputs=['Tensor(shape=(100, 24))']\n",
      "  warnings.warn(msg)\n",
      "/home/jovyan/conda-envs/torch-gpu/lib/python3.12/site-packages/keras/src/models/functional.py:238: UserWarning: The structure of `inputs` doesn't match the expected structure.\n",
      "Expected: keras_tensor_160\n",
      "Received: inputs=['Tensor(shape=(200, 24))']\n",
      "  warnings.warn(msg)\n",
      "/home/jovyan/conda-envs/torch-gpu/lib/python3.12/site-packages/keras/src/models/functional.py:238: UserWarning: The structure of `inputs` doesn't match the expected structure.\n",
      "Expected: keras_tensor_160\n",
      "Received: inputs=['Tensor(shape=(560, 24))']\n",
      "  warnings.warn(msg)\n",
      "/home/jovyan/conda-envs/torch-gpu/lib/python3.12/site-packages/keras/src/layers/core/dense.py:87: UserWarning: Do not pass an `input_shape`/`input_dim` argument to a layer. When using Sequential models, prefer using an `Input(shape)` object as the first layer in the model instead.\n",
      "  super().__init__(activity_regularizer=activity_regularizer, **kwargs)\n"
     ]
    },
    {
     "name": "stdout",
     "output_type": "stream",
     "text": [
      "SHAP values and feature importances saved for greedy_min-solution_time.\n",
      "\n",
      "Training MLP for 'solution_time' (100 epochs)...\n",
      "\u001b[1m18/18\u001b[0m \u001b[32m━━━━━━━━━━━━━━━━━━━━\u001b[0m\u001b[37m\u001b[0m \u001b[1m1s\u001b[0m 37ms/step\n",
      "\u001b[1m18/18\u001b[0m \u001b[32m━━━━━━━━━━━━━━━━━━━━\u001b[0m\u001b[37m\u001b[0m \u001b[1m0s\u001b[0m 4ms/step \n"
     ]
    },
    {
     "name": "stderr",
     "output_type": "stream",
     "text": [
      "WARNING:absl:You are saving your model as an HDF5 file via `model.save()` or `keras.saving.save_model(model)`. This file format is considered legacy. We recommend using instead the native Keras format, e.g. `model.save('my_model.keras')` or `keras.saving.save_model(model, 'my_model.keras')`. \n"
     ]
    },
    {
     "name": "stdout",
     "output_type": "stream",
     "text": [
      "[TEST]\n",
      "solution_time (Test) - 100e | Acc: 0.9571, Prec: 0.9044, Rec: 0.9334, F1: 0.9100\n",
      "[VAL]\n",
      "solution_time (Val)  - 100e | Acc: 0.8554, Prec: 0.8082, Rec: 0.8792, F1: 0.8283\n",
      "  • saved MLP model → ./binres_min_kp/mlp_class/mlp_classifier_greedy_min_solution_time_100e.h5\n"
     ]
    },
    {
     "name": "stderr",
     "output_type": "stream",
     "text": [
      "/home/jovyan/conda-envs/torch-gpu/lib/python3.12/site-packages/shap/explainers/_deep/deep_tf.py:94: UserWarning: Your TensorFlow version is newer than 2.4.0 and so graph support has been removed in eager mode and some static graphs may not be supported. See PR #1483 for discussion.\n",
      "  warnings.warn(\n",
      "/home/jovyan/conda-envs/torch-gpu/lib/python3.12/site-packages/keras/src/models/functional.py:238: UserWarning: The structure of `inputs` doesn't match the expected structure.\n",
      "Expected: keras_tensor_176\n",
      "Received: inputs=['Tensor(shape=(100, 24))']\n",
      "  warnings.warn(msg)\n",
      "/home/jovyan/conda-envs/torch-gpu/lib/python3.12/site-packages/keras/src/models/functional.py:238: UserWarning: The structure of `inputs` doesn't match the expected structure.\n",
      "Expected: keras_tensor_176\n",
      "Received: inputs=['Tensor(shape=(200, 24))']\n",
      "  warnings.warn(msg)\n",
      "/home/jovyan/conda-envs/torch-gpu/lib/python3.12/site-packages/keras/src/models/functional.py:238: UserWarning: The structure of `inputs` doesn't match the expected structure.\n",
      "Expected: keras_tensor_176\n",
      "Received: inputs=['Tensor(shape=(560, 24))']\n",
      "  warnings.warn(msg)\n",
      "/home/jovyan/conda-envs/torch-gpu/lib/python3.12/site-packages/keras/src/layers/core/dense.py:87: UserWarning: Do not pass an `input_shape`/`input_dim` argument to a layer. When using Sequential models, prefer using an `Input(shape)` object as the first layer in the model instead.\n",
      "  super().__init__(activity_regularizer=activity_regularizer, **kwargs)\n"
     ]
    },
    {
     "name": "stdout",
     "output_type": "stream",
     "text": [
      "SHAP values and feature importances saved for greedy_min-solution_time.\n",
      "\n",
      "=== optimality_gap → num_classes=3 ===\n",
      " train bins: [0 1 2]\n",
      "  val bins: [0 1 2]\n",
      " test bins: [0 1 2]\n",
      "\n",
      "Training MLP for 'optimality_gap' (50 epochs)...\n",
      "\u001b[1m18/18\u001b[0m \u001b[32m━━━━━━━━━━━━━━━━━━━━\u001b[0m\u001b[37m\u001b[0m \u001b[1m2s\u001b[0m 44ms/step\n",
      "\u001b[1m18/18\u001b[0m \u001b[32m━━━━━━━━━━━━━━━━━━━━\u001b[0m\u001b[37m\u001b[0m \u001b[1m0s\u001b[0m 5ms/step \n",
      "[TEST]\n",
      "optimality_gap (Test) - 50e | Acc: 0.5857, Prec: 0.2824, Rec: 0.2967, F1: 0.2876\n",
      "[VAL]\n"
     ]
    },
    {
     "name": "stderr",
     "output_type": "stream",
     "text": [
      "WARNING:absl:You are saving your model as an HDF5 file via `model.save()` or `keras.saving.save_model(model)`. This file format is considered legacy. We recommend using instead the native Keras format, e.g. `model.save('my_model.keras')` or `keras.saving.save_model(model, 'my_model.keras')`. \n"
     ]
    },
    {
     "name": "stdout",
     "output_type": "stream",
     "text": [
      "optimality_gap (Val)  - 50e | Acc: 0.7393, Prec: 0.3369, Rec: 0.3553, F1: 0.3458\n",
      "  • saved MLP model → ./binres_min_kp/mlp_class/mlp_classifier_greedy_min_optimality_gap_50e.h5\n"
     ]
    },
    {
     "name": "stderr",
     "output_type": "stream",
     "text": [
      "/home/jovyan/conda-envs/torch-gpu/lib/python3.12/site-packages/shap/explainers/_deep/deep_tf.py:94: UserWarning: Your TensorFlow version is newer than 2.4.0 and so graph support has been removed in eager mode and some static graphs may not be supported. See PR #1483 for discussion.\n",
      "  warnings.warn(\n",
      "/home/jovyan/conda-envs/torch-gpu/lib/python3.12/site-packages/keras/src/models/functional.py:238: UserWarning: The structure of `inputs` doesn't match the expected structure.\n",
      "Expected: keras_tensor_192\n",
      "Received: inputs=['Tensor(shape=(100, 24))']\n",
      "  warnings.warn(msg)\n",
      "/home/jovyan/conda-envs/torch-gpu/lib/python3.12/site-packages/keras/src/models/functional.py:238: UserWarning: The structure of `inputs` doesn't match the expected structure.\n",
      "Expected: keras_tensor_192\n",
      "Received: inputs=['Tensor(shape=(200, 24))']\n",
      "  warnings.warn(msg)\n",
      "/home/jovyan/conda-envs/torch-gpu/lib/python3.12/site-packages/keras/src/models/functional.py:238: UserWarning: The structure of `inputs` doesn't match the expected structure.\n",
      "Expected: keras_tensor_192\n",
      "Received: inputs=['Tensor(shape=(560, 24))']\n",
      "  warnings.warn(msg)\n",
      "/home/jovyan/conda-envs/torch-gpu/lib/python3.12/site-packages/keras/src/layers/core/dense.py:87: UserWarning: Do not pass an `input_shape`/`input_dim` argument to a layer. When using Sequential models, prefer using an `Input(shape)` object as the first layer in the model instead.\n",
      "  super().__init__(activity_regularizer=activity_regularizer, **kwargs)\n"
     ]
    },
    {
     "name": "stdout",
     "output_type": "stream",
     "text": [
      "SHAP values and feature importances saved for greedy_min-optimality_gap.\n",
      "\n",
      "Training MLP for 'optimality_gap' (100 epochs)...\n",
      "\u001b[1m18/18\u001b[0m \u001b[32m━━━━━━━━━━━━━━━━━━━━\u001b[0m\u001b[37m\u001b[0m \u001b[1m1s\u001b[0m 36ms/step\n",
      "\u001b[1m18/18\u001b[0m \u001b[32m━━━━━━━━━━━━━━━━━━━━\u001b[0m\u001b[37m\u001b[0m \u001b[1m0s\u001b[0m 5ms/step \n"
     ]
    },
    {
     "name": "stderr",
     "output_type": "stream",
     "text": [
      "WARNING:absl:You are saving your model as an HDF5 file via `model.save()` or `keras.saving.save_model(model)`. This file format is considered legacy. We recommend using instead the native Keras format, e.g. `model.save('my_model.keras')` or `keras.saving.save_model(model, 'my_model.keras')`. \n"
     ]
    },
    {
     "name": "stdout",
     "output_type": "stream",
     "text": [
      "[TEST]\n",
      "optimality_gap (Test) - 100e | Acc: 0.5929, Prec: 0.2824, Rec: 0.2998, F1: 0.2890\n",
      "[VAL]\n",
      "optimality_gap (Val)  - 100e | Acc: 0.7250, Prec: 0.3301, Rec: 0.3495, F1: 0.3392\n",
      "  • saved MLP model → ./binres_min_kp/mlp_class/mlp_classifier_greedy_min_optimality_gap_100e.h5\n"
     ]
    },
    {
     "name": "stderr",
     "output_type": "stream",
     "text": [
      "/home/jovyan/conda-envs/torch-gpu/lib/python3.12/site-packages/shap/explainers/_deep/deep_tf.py:94: UserWarning: Your TensorFlow version is newer than 2.4.0 and so graph support has been removed in eager mode and some static graphs may not be supported. See PR #1483 for discussion.\n",
      "  warnings.warn(\n",
      "/home/jovyan/conda-envs/torch-gpu/lib/python3.12/site-packages/keras/src/models/functional.py:238: UserWarning: The structure of `inputs` doesn't match the expected structure.\n",
      "Expected: keras_tensor_208\n",
      "Received: inputs=['Tensor(shape=(100, 24))']\n",
      "  warnings.warn(msg)\n",
      "/home/jovyan/conda-envs/torch-gpu/lib/python3.12/site-packages/keras/src/models/functional.py:238: UserWarning: The structure of `inputs` doesn't match the expected structure.\n",
      "Expected: keras_tensor_208\n",
      "Received: inputs=['Tensor(shape=(200, 24))']\n",
      "  warnings.warn(msg)\n",
      "/home/jovyan/conda-envs/torch-gpu/lib/python3.12/site-packages/keras/src/models/functional.py:238: UserWarning: The structure of `inputs` doesn't match the expected structure.\n",
      "Expected: keras_tensor_208\n",
      "Received: inputs=['Tensor(shape=(560, 24))']\n",
      "  warnings.warn(msg)\n",
      "/home/jovyan/conda-envs/torch-gpu/lib/python3.12/site-packages/keras/src/layers/core/dense.py:87: UserWarning: Do not pass an `input_shape`/`input_dim` argument to a layer. When using Sequential models, prefer using an `Input(shape)` object as the first layer in the model instead.\n",
      "  super().__init__(activity_regularizer=activity_regularizer, **kwargs)\n"
     ]
    },
    {
     "name": "stdout",
     "output_type": "stream",
     "text": [
      "SHAP values and feature importances saved for greedy_min-optimality_gap.\n",
      "  • skipping 'peak_memory': only one class in train\n",
      "\n",
      "Solver: ga_min\n",
      "\n",
      "=== solution_time → num_classes=5 ===\n",
      " train bins: [0 1 2 3 4]\n",
      "  val bins: [0 1 2 3 4]\n",
      " test bins: [0 1 2 3 4]\n",
      "\n",
      "Training MLP for 'solution_time' (50 epochs)...\n",
      "\u001b[1m18/18\u001b[0m \u001b[32m━━━━━━━━━━━━━━━━━━━━\u001b[0m\u001b[37m\u001b[0m \u001b[1m1s\u001b[0m 37ms/step\n",
      "\u001b[1m18/18\u001b[0m \u001b[32m━━━━━━━━━━━━━━━━━━━━\u001b[0m\u001b[37m\u001b[0m \u001b[1m0s\u001b[0m 4ms/step \n",
      "[TEST]\n",
      "solution_time (Test) - 50e | Acc: 0.9036, Prec: 0.8441, Rec: 0.9303, F1: 0.8688\n",
      "[VAL]\n"
     ]
    },
    {
     "name": "stderr",
     "output_type": "stream",
     "text": [
      "WARNING:absl:You are saving your model as an HDF5 file via `model.save()` or `keras.saving.save_model(model)`. This file format is considered legacy. We recommend using instead the native Keras format, e.g. `model.save('my_model.keras')` or `keras.saving.save_model(model, 'my_model.keras')`. \n"
     ]
    },
    {
     "name": "stdout",
     "output_type": "stream",
     "text": [
      "solution_time (Val)  - 50e | Acc: 0.8357, Prec: 0.8445, Rec: 0.8440, F1: 0.8348\n",
      "  • saved MLP model → ./binres_min_kp/mlp_class/mlp_classifier_ga_min_solution_time_50e.h5\n"
     ]
    },
    {
     "name": "stderr",
     "output_type": "stream",
     "text": [
      "/home/jovyan/conda-envs/torch-gpu/lib/python3.12/site-packages/shap/explainers/_deep/deep_tf.py:94: UserWarning: Your TensorFlow version is newer than 2.4.0 and so graph support has been removed in eager mode and some static graphs may not be supported. See PR #1483 for discussion.\n",
      "  warnings.warn(\n",
      "/home/jovyan/conda-envs/torch-gpu/lib/python3.12/site-packages/keras/src/models/functional.py:238: UserWarning: The structure of `inputs` doesn't match the expected structure.\n",
      "Expected: keras_tensor_224\n",
      "Received: inputs=['Tensor(shape=(100, 24))']\n",
      "  warnings.warn(msg)\n",
      "/home/jovyan/conda-envs/torch-gpu/lib/python3.12/site-packages/keras/src/models/functional.py:238: UserWarning: The structure of `inputs` doesn't match the expected structure.\n",
      "Expected: keras_tensor_224\n",
      "Received: inputs=['Tensor(shape=(200, 24))']\n",
      "  warnings.warn(msg)\n",
      "/home/jovyan/conda-envs/torch-gpu/lib/python3.12/site-packages/keras/src/models/functional.py:238: UserWarning: The structure of `inputs` doesn't match the expected structure.\n",
      "Expected: keras_tensor_224\n",
      "Received: inputs=['Tensor(shape=(560, 24))']\n",
      "  warnings.warn(msg)\n",
      "/home/jovyan/conda-envs/torch-gpu/lib/python3.12/site-packages/keras/src/layers/core/dense.py:87: UserWarning: Do not pass an `input_shape`/`input_dim` argument to a layer. When using Sequential models, prefer using an `Input(shape)` object as the first layer in the model instead.\n",
      "  super().__init__(activity_regularizer=activity_regularizer, **kwargs)\n"
     ]
    },
    {
     "name": "stdout",
     "output_type": "stream",
     "text": [
      "SHAP values and feature importances saved for ga_min-solution_time.\n",
      "\n",
      "Training MLP for 'solution_time' (100 epochs)...\n",
      "\u001b[1m18/18\u001b[0m \u001b[32m━━━━━━━━━━━━━━━━━━━━\u001b[0m\u001b[37m\u001b[0m \u001b[1m1s\u001b[0m 38ms/step\n",
      "\u001b[1m18/18\u001b[0m \u001b[32m━━━━━━━━━━━━━━━━━━━━\u001b[0m\u001b[37m\u001b[0m \u001b[1m0s\u001b[0m 5ms/step \n"
     ]
    },
    {
     "name": "stderr",
     "output_type": "stream",
     "text": [
      "WARNING:absl:You are saving your model as an HDF5 file via `model.save()` or `keras.saving.save_model(model)`. This file format is considered legacy. We recommend using instead the native Keras format, e.g. `model.save('my_model.keras')` or `keras.saving.save_model(model, 'my_model.keras')`. \n"
     ]
    },
    {
     "name": "stdout",
     "output_type": "stream",
     "text": [
      "[TEST]\n",
      "solution_time (Test) - 100e | Acc: 0.8982, Prec: 0.8503, Rec: 0.9175, F1: 0.8702\n",
      "[VAL]\n",
      "solution_time (Val)  - 100e | Acc: 0.7857, Prec: 0.8056, Rec: 0.7902, F1: 0.7846\n",
      "  • saved MLP model → ./binres_min_kp/mlp_class/mlp_classifier_ga_min_solution_time_100e.h5\n"
     ]
    },
    {
     "name": "stderr",
     "output_type": "stream",
     "text": [
      "/home/jovyan/conda-envs/torch-gpu/lib/python3.12/site-packages/shap/explainers/_deep/deep_tf.py:94: UserWarning: Your TensorFlow version is newer than 2.4.0 and so graph support has been removed in eager mode and some static graphs may not be supported. See PR #1483 for discussion.\n",
      "  warnings.warn(\n",
      "/home/jovyan/conda-envs/torch-gpu/lib/python3.12/site-packages/keras/src/models/functional.py:238: UserWarning: The structure of `inputs` doesn't match the expected structure.\n",
      "Expected: keras_tensor_240\n",
      "Received: inputs=['Tensor(shape=(100, 24))']\n",
      "  warnings.warn(msg)\n",
      "/home/jovyan/conda-envs/torch-gpu/lib/python3.12/site-packages/keras/src/models/functional.py:238: UserWarning: The structure of `inputs` doesn't match the expected structure.\n",
      "Expected: keras_tensor_240\n",
      "Received: inputs=['Tensor(shape=(200, 24))']\n",
      "  warnings.warn(msg)\n",
      "/home/jovyan/conda-envs/torch-gpu/lib/python3.12/site-packages/keras/src/models/functional.py:238: UserWarning: The structure of `inputs` doesn't match the expected structure.\n",
      "Expected: keras_tensor_240\n",
      "Received: inputs=['Tensor(shape=(560, 24))']\n",
      "  warnings.warn(msg)\n",
      "/home/jovyan/conda-envs/torch-gpu/lib/python3.12/site-packages/keras/src/layers/core/dense.py:87: UserWarning: Do not pass an `input_shape`/`input_dim` argument to a layer. When using Sequential models, prefer using an `Input(shape)` object as the first layer in the model instead.\n",
      "  super().__init__(activity_regularizer=activity_regularizer, **kwargs)\n"
     ]
    },
    {
     "name": "stdout",
     "output_type": "stream",
     "text": [
      "SHAP values and feature importances saved for ga_min-solution_time.\n",
      "  • skipping 'optimality_gap': only one class in train\n",
      "\n",
      "=== peak_memory → num_classes=5 ===\n",
      " train bins: [0 4]\n",
      "  val bins: [0 4]\n",
      " test bins: [0 4]\n",
      "\n",
      "Training MLP for 'peak_memory' (50 epochs)...\n",
      "\u001b[1m18/18\u001b[0m \u001b[32m━━━━━━━━━━━━━━━━━━━━\u001b[0m\u001b[37m\u001b[0m \u001b[1m1s\u001b[0m 36ms/step\n",
      "\u001b[1m18/18\u001b[0m \u001b[32m━━━━━━━━━━━━━━━━━━━━\u001b[0m\u001b[37m\u001b[0m \u001b[1m0s\u001b[0m 4ms/step \n"
     ]
    },
    {
     "name": "stderr",
     "output_type": "stream",
     "text": [
      "WARNING:absl:You are saving your model as an HDF5 file via `model.save()` or `keras.saving.save_model(model)`. This file format is considered legacy. We recommend using instead the native Keras format, e.g. `model.save('my_model.keras')` or `keras.saving.save_model(model, 'my_model.keras')`. \n"
     ]
    },
    {
     "name": "stdout",
     "output_type": "stream",
     "text": [
      "[TEST]\n",
      "peak_memory (Test) - 50e | Acc: 0.9554, Prec: 0.8429, Rec: 0.8029, F1: 0.8214\n",
      "[VAL]\n",
      "peak_memory (Val)  - 50e | Acc: 0.9464, Prec: 0.8101, Rec: 0.7519, F1: 0.7774\n",
      "  • saved MLP model → ./binres_min_kp/mlp_class/mlp_classifier_ga_min_peak_memory_50e.h5\n"
     ]
    },
    {
     "name": "stderr",
     "output_type": "stream",
     "text": [
      "/home/jovyan/conda-envs/torch-gpu/lib/python3.12/site-packages/shap/explainers/_deep/deep_tf.py:94: UserWarning: Your TensorFlow version is newer than 2.4.0 and so graph support has been removed in eager mode and some static graphs may not be supported. See PR #1483 for discussion.\n",
      "  warnings.warn(\n",
      "/home/jovyan/conda-envs/torch-gpu/lib/python3.12/site-packages/keras/src/models/functional.py:238: UserWarning: The structure of `inputs` doesn't match the expected structure.\n",
      "Expected: keras_tensor_256\n",
      "Received: inputs=['Tensor(shape=(100, 24))']\n",
      "  warnings.warn(msg)\n",
      "/home/jovyan/conda-envs/torch-gpu/lib/python3.12/site-packages/keras/src/models/functional.py:238: UserWarning: The structure of `inputs` doesn't match the expected structure.\n",
      "Expected: keras_tensor_256\n",
      "Received: inputs=['Tensor(shape=(200, 24))']\n",
      "  warnings.warn(msg)\n",
      "/home/jovyan/conda-envs/torch-gpu/lib/python3.12/site-packages/keras/src/models/functional.py:238: UserWarning: The structure of `inputs` doesn't match the expected structure.\n",
      "Expected: keras_tensor_256\n",
      "Received: inputs=['Tensor(shape=(560, 24))']\n",
      "  warnings.warn(msg)\n",
      "/home/jovyan/conda-envs/torch-gpu/lib/python3.12/site-packages/keras/src/layers/core/dense.py:87: UserWarning: Do not pass an `input_shape`/`input_dim` argument to a layer. When using Sequential models, prefer using an `Input(shape)` object as the first layer in the model instead.\n",
      "  super().__init__(activity_regularizer=activity_regularizer, **kwargs)\n"
     ]
    },
    {
     "name": "stdout",
     "output_type": "stream",
     "text": [
      "SHAP values and feature importances saved for ga_min-peak_memory.\n",
      "\n",
      "Training MLP for 'peak_memory' (100 epochs)...\n",
      "\u001b[1m18/18\u001b[0m \u001b[32m━━━━━━━━━━━━━━━━━━━━\u001b[0m\u001b[37m\u001b[0m \u001b[1m1s\u001b[0m 37ms/step\n",
      "\u001b[1m18/18\u001b[0m \u001b[32m━━━━━━━━━━━━━━━━━━━━\u001b[0m\u001b[37m\u001b[0m \u001b[1m0s\u001b[0m 4ms/step \n"
     ]
    },
    {
     "name": "stderr",
     "output_type": "stream",
     "text": [
      "WARNING:absl:You are saving your model as an HDF5 file via `model.save()` or `keras.saving.save_model(model)`. This file format is considered legacy. We recommend using instead the native Keras format, e.g. `model.save('my_model.keras')` or `keras.saving.save_model(model, 'my_model.keras')`. \n"
     ]
    },
    {
     "name": "stdout",
     "output_type": "stream",
     "text": [
      "[TEST]\n",
      "peak_memory (Test) - 100e | Acc: 0.9679, Prec: 0.9633, Rec: 0.7865, F1: 0.8509\n",
      "[VAL]\n",
      "peak_memory (Val)  - 100e | Acc: 0.9625, Prec: 0.9388, Rec: 0.7606, F1: 0.8234\n",
      "  • saved MLP model → ./binres_min_kp/mlp_class/mlp_classifier_ga_min_peak_memory_100e.h5\n"
     ]
    },
    {
     "name": "stderr",
     "output_type": "stream",
     "text": [
      "/home/jovyan/conda-envs/torch-gpu/lib/python3.12/site-packages/shap/explainers/_deep/deep_tf.py:94: UserWarning: Your TensorFlow version is newer than 2.4.0 and so graph support has been removed in eager mode and some static graphs may not be supported. See PR #1483 for discussion.\n",
      "  warnings.warn(\n",
      "/home/jovyan/conda-envs/torch-gpu/lib/python3.12/site-packages/keras/src/models/functional.py:238: UserWarning: The structure of `inputs` doesn't match the expected structure.\n",
      "Expected: keras_tensor_272\n",
      "Received: inputs=['Tensor(shape=(100, 24))']\n",
      "  warnings.warn(msg)\n",
      "/home/jovyan/conda-envs/torch-gpu/lib/python3.12/site-packages/keras/src/models/functional.py:238: UserWarning: The structure of `inputs` doesn't match the expected structure.\n",
      "Expected: keras_tensor_272\n",
      "Received: inputs=['Tensor(shape=(200, 24))']\n",
      "  warnings.warn(msg)\n",
      "/home/jovyan/conda-envs/torch-gpu/lib/python3.12/site-packages/keras/src/models/functional.py:238: UserWarning: The structure of `inputs` doesn't match the expected structure.\n",
      "Expected: keras_tensor_272\n",
      "Received: inputs=['Tensor(shape=(560, 24))']\n",
      "  warnings.warn(msg)\n",
      "/home/jovyan/conda-envs/torch-gpu/lib/python3.12/site-packages/keras/src/layers/core/dense.py:87: UserWarning: Do not pass an `input_shape`/`input_dim` argument to a layer. When using Sequential models, prefer using an `Input(shape)` object as the first layer in the model instead.\n",
      "  super().__init__(activity_regularizer=activity_regularizer, **kwargs)\n"
     ]
    },
    {
     "name": "stdout",
     "output_type": "stream",
     "text": [
      "SHAP values and feature importances saved for ga_min-peak_memory.\n",
      "\n",
      "Solver: dp_min\n",
      "\n",
      "=== solution_time → num_classes=5 ===\n",
      " train bins: [0 1 2 3 4]\n",
      "  val bins: [0 1 2 3 4]\n",
      " test bins: [0 1 2 3 4]\n",
      "\n",
      "Training MLP for 'solution_time' (50 epochs)...\n",
      "\u001b[1m18/18\u001b[0m \u001b[32m━━━━━━━━━━━━━━━━━━━━\u001b[0m\u001b[37m\u001b[0m \u001b[1m1s\u001b[0m 36ms/step\n",
      "\u001b[1m18/18\u001b[0m \u001b[32m━━━━━━━━━━━━━━━━━━━━\u001b[0m\u001b[37m\u001b[0m \u001b[1m0s\u001b[0m 5ms/step \n"
     ]
    },
    {
     "name": "stderr",
     "output_type": "stream",
     "text": [
      "WARNING:absl:You are saving your model as an HDF5 file via `model.save()` or `keras.saving.save_model(model)`. This file format is considered legacy. We recommend using instead the native Keras format, e.g. `model.save('my_model.keras')` or `keras.saving.save_model(model, 'my_model.keras')`. \n"
     ]
    },
    {
     "name": "stdout",
     "output_type": "stream",
     "text": [
      "[TEST]\n",
      "solution_time (Test) - 50e | Acc: 0.8161, Prec: 0.6449, Rec: 0.6909, F1: 0.6613\n",
      "[VAL]\n",
      "solution_time (Val)  - 50e | Acc: 0.7071, Prec: 0.7597, Rec: 0.7724, F1: 0.7650\n",
      "  • saved MLP model → ./binres_min_kp/mlp_class/mlp_classifier_dp_min_solution_time_50e.h5\n"
     ]
    },
    {
     "name": "stderr",
     "output_type": "stream",
     "text": [
      "/home/jovyan/conda-envs/torch-gpu/lib/python3.12/site-packages/shap/explainers/_deep/deep_tf.py:94: UserWarning: Your TensorFlow version is newer than 2.4.0 and so graph support has been removed in eager mode and some static graphs may not be supported. See PR #1483 for discussion.\n",
      "  warnings.warn(\n",
      "/home/jovyan/conda-envs/torch-gpu/lib/python3.12/site-packages/keras/src/models/functional.py:238: UserWarning: The structure of `inputs` doesn't match the expected structure.\n",
      "Expected: keras_tensor_288\n",
      "Received: inputs=['Tensor(shape=(100, 24))']\n",
      "  warnings.warn(msg)\n",
      "/home/jovyan/conda-envs/torch-gpu/lib/python3.12/site-packages/keras/src/models/functional.py:238: UserWarning: The structure of `inputs` doesn't match the expected structure.\n",
      "Expected: keras_tensor_288\n",
      "Received: inputs=['Tensor(shape=(200, 24))']\n",
      "  warnings.warn(msg)\n",
      "/home/jovyan/conda-envs/torch-gpu/lib/python3.12/site-packages/keras/src/models/functional.py:238: UserWarning: The structure of `inputs` doesn't match the expected structure.\n",
      "Expected: keras_tensor_288\n",
      "Received: inputs=['Tensor(shape=(560, 24))']\n",
      "  warnings.warn(msg)\n",
      "/home/jovyan/conda-envs/torch-gpu/lib/python3.12/site-packages/keras/src/layers/core/dense.py:87: UserWarning: Do not pass an `input_shape`/`input_dim` argument to a layer. When using Sequential models, prefer using an `Input(shape)` object as the first layer in the model instead.\n",
      "  super().__init__(activity_regularizer=activity_regularizer, **kwargs)\n"
     ]
    },
    {
     "name": "stdout",
     "output_type": "stream",
     "text": [
      "SHAP values and feature importances saved for dp_min-solution_time.\n",
      "\n",
      "Training MLP for 'solution_time' (100 epochs)...\n",
      "\u001b[1m18/18\u001b[0m \u001b[32m━━━━━━━━━━━━━━━━━━━━\u001b[0m\u001b[37m\u001b[0m \u001b[1m1s\u001b[0m 38ms/step\n",
      "\u001b[1m18/18\u001b[0m \u001b[32m━━━━━━━━━━━━━━━━━━━━\u001b[0m\u001b[37m\u001b[0m \u001b[1m0s\u001b[0m 5ms/step \n"
     ]
    },
    {
     "name": "stderr",
     "output_type": "stream",
     "text": [
      "WARNING:absl:You are saving your model as an HDF5 file via `model.save()` or `keras.saving.save_model(model)`. This file format is considered legacy. We recommend using instead the native Keras format, e.g. `model.save('my_model.keras')` or `keras.saving.save_model(model, 'my_model.keras')`. \n"
     ]
    },
    {
     "name": "stdout",
     "output_type": "stream",
     "text": [
      "[TEST]\n",
      "solution_time (Test) - 100e | Acc: 0.8446, Prec: 0.7063, Rec: 0.6911, F1: 0.6976\n",
      "[VAL]\n",
      "solution_time (Val)  - 100e | Acc: 0.7018, Prec: 0.7287, Rec: 0.7392, F1: 0.7311\n",
      "  • saved MLP model → ./binres_min_kp/mlp_class/mlp_classifier_dp_min_solution_time_100e.h5\n"
     ]
    },
    {
     "name": "stderr",
     "output_type": "stream",
     "text": [
      "/home/jovyan/conda-envs/torch-gpu/lib/python3.12/site-packages/shap/explainers/_deep/deep_tf.py:94: UserWarning: Your TensorFlow version is newer than 2.4.0 and so graph support has been removed in eager mode and some static graphs may not be supported. See PR #1483 for discussion.\n",
      "  warnings.warn(\n",
      "/home/jovyan/conda-envs/torch-gpu/lib/python3.12/site-packages/keras/src/models/functional.py:238: UserWarning: The structure of `inputs` doesn't match the expected structure.\n",
      "Expected: keras_tensor_304\n",
      "Received: inputs=['Tensor(shape=(100, 24))']\n",
      "  warnings.warn(msg)\n",
      "/home/jovyan/conda-envs/torch-gpu/lib/python3.12/site-packages/keras/src/models/functional.py:238: UserWarning: The structure of `inputs` doesn't match the expected structure.\n",
      "Expected: keras_tensor_304\n",
      "Received: inputs=['Tensor(shape=(200, 24))']\n",
      "  warnings.warn(msg)\n",
      "/home/jovyan/conda-envs/torch-gpu/lib/python3.12/site-packages/keras/src/models/functional.py:238: UserWarning: The structure of `inputs` doesn't match the expected structure.\n",
      "Expected: keras_tensor_304\n",
      "Received: inputs=['Tensor(shape=(560, 24))']\n",
      "  warnings.warn(msg)\n",
      "/home/jovyan/conda-envs/torch-gpu/lib/python3.12/site-packages/keras/src/layers/core/dense.py:87: UserWarning: Do not pass an `input_shape`/`input_dim` argument to a layer. When using Sequential models, prefer using an `Input(shape)` object as the first layer in the model instead.\n",
      "  super().__init__(activity_regularizer=activity_regularizer, **kwargs)\n"
     ]
    },
    {
     "name": "stdout",
     "output_type": "stream",
     "text": [
      "SHAP values and feature importances saved for dp_min-solution_time.\n",
      "\n",
      "=== optimality_gap → num_classes=2 ===\n",
      " train bins: [0 1]\n",
      "  val bins: [0 1]\n",
      " test bins: [0]\n",
      "\n",
      "Training MLP for 'optimality_gap' (50 epochs)...\n",
      "\u001b[1m18/18\u001b[0m \u001b[32m━━━━━━━━━━━━━━━━━━━━\u001b[0m\u001b[37m\u001b[0m \u001b[1m1s\u001b[0m 36ms/step\n",
      "\u001b[1m18/18\u001b[0m \u001b[32m━━━━━━━━━━━━━━━━━━━━\u001b[0m\u001b[37m\u001b[0m \u001b[1m0s\u001b[0m 4ms/step \n",
      "[TEST]\n",
      "optimality_gap (Test) - 50e | Acc: 0.9821, Prec: 0.5000, Rec: 0.4911, F1: 0.4955\n",
      "[VAL]\n",
      "optimality_gap (Val)  - 50e | Acc: 0.9500, Prec: 0.4750, Rec: 0.5000, F1: 0.4872\n"
     ]
    },
    {
     "name": "stderr",
     "output_type": "stream",
     "text": [
      "WARNING:absl:You are saving your model as an HDF5 file via `model.save()` or `keras.saving.save_model(model)`. This file format is considered legacy. We recommend using instead the native Keras format, e.g. `model.save('my_model.keras')` or `keras.saving.save_model(model, 'my_model.keras')`. \n"
     ]
    },
    {
     "name": "stdout",
     "output_type": "stream",
     "text": [
      "  • saved MLP model → ./binres_min_kp/mlp_class/mlp_classifier_dp_min_optimality_gap_50e.h5\n"
     ]
    },
    {
     "name": "stderr",
     "output_type": "stream",
     "text": [
      "/home/jovyan/conda-envs/torch-gpu/lib/python3.12/site-packages/shap/explainers/_deep/deep_tf.py:94: UserWarning: Your TensorFlow version is newer than 2.4.0 and so graph support has been removed in eager mode and some static graphs may not be supported. See PR #1483 for discussion.\n",
      "  warnings.warn(\n",
      "/home/jovyan/conda-envs/torch-gpu/lib/python3.12/site-packages/keras/src/models/functional.py:238: UserWarning: The structure of `inputs` doesn't match the expected structure.\n",
      "Expected: keras_tensor_320\n",
      "Received: inputs=['Tensor(shape=(100, 24))']\n",
      "  warnings.warn(msg)\n",
      "/home/jovyan/conda-envs/torch-gpu/lib/python3.12/site-packages/keras/src/models/functional.py:238: UserWarning: The structure of `inputs` doesn't match the expected structure.\n",
      "Expected: keras_tensor_320\n",
      "Received: inputs=['Tensor(shape=(200, 24))']\n",
      "  warnings.warn(msg)\n",
      "/home/jovyan/conda-envs/torch-gpu/lib/python3.12/site-packages/keras/src/models/functional.py:238: UserWarning: The structure of `inputs` doesn't match the expected structure.\n",
      "Expected: keras_tensor_320\n",
      "Received: inputs=['Tensor(shape=(560, 24))']\n",
      "  warnings.warn(msg)\n",
      "/home/jovyan/conda-envs/torch-gpu/lib/python3.12/site-packages/keras/src/layers/core/dense.py:87: UserWarning: Do not pass an `input_shape`/`input_dim` argument to a layer. When using Sequential models, prefer using an `Input(shape)` object as the first layer in the model instead.\n",
      "  super().__init__(activity_regularizer=activity_regularizer, **kwargs)\n"
     ]
    },
    {
     "name": "stdout",
     "output_type": "stream",
     "text": [
      "SHAP values and feature importances saved for dp_min-optimality_gap.\n",
      "\n",
      "Training MLP for 'optimality_gap' (100 epochs)...\n",
      "\u001b[1m18/18\u001b[0m \u001b[32m━━━━━━━━━━━━━━━━━━━━\u001b[0m\u001b[37m\u001b[0m \u001b[1m1s\u001b[0m 38ms/step\n",
      "\u001b[1m18/18\u001b[0m \u001b[32m━━━━━━━━━━━━━━━━━━━━\u001b[0m\u001b[37m\u001b[0m \u001b[1m0s\u001b[0m 4ms/step \n"
     ]
    },
    {
     "name": "stderr",
     "output_type": "stream",
     "text": [
      "WARNING:absl:You are saving your model as an HDF5 file via `model.save()` or `keras.saving.save_model(model)`. This file format is considered legacy. We recommend using instead the native Keras format, e.g. `model.save('my_model.keras')` or `keras.saving.save_model(model, 'my_model.keras')`. \n"
     ]
    },
    {
     "name": "stdout",
     "output_type": "stream",
     "text": [
      "[TEST]\n",
      "optimality_gap (Test) - 100e | Acc: 1.0000, Prec: 1.0000, Rec: 1.0000, F1: 1.0000\n",
      "[VAL]\n",
      "optimality_gap (Val)  - 100e | Acc: 0.9500, Prec: 0.4750, Rec: 0.5000, F1: 0.4872\n",
      "  • saved MLP model → ./binres_min_kp/mlp_class/mlp_classifier_dp_min_optimality_gap_100e.h5\n"
     ]
    },
    {
     "name": "stderr",
     "output_type": "stream",
     "text": [
      "/home/jovyan/conda-envs/torch-gpu/lib/python3.12/site-packages/shap/explainers/_deep/deep_tf.py:94: UserWarning: Your TensorFlow version is newer than 2.4.0 and so graph support has been removed in eager mode and some static graphs may not be supported. See PR #1483 for discussion.\n",
      "  warnings.warn(\n",
      "/home/jovyan/conda-envs/torch-gpu/lib/python3.12/site-packages/keras/src/models/functional.py:238: UserWarning: The structure of `inputs` doesn't match the expected structure.\n",
      "Expected: keras_tensor_336\n",
      "Received: inputs=['Tensor(shape=(100, 24))']\n",
      "  warnings.warn(msg)\n",
      "/home/jovyan/conda-envs/torch-gpu/lib/python3.12/site-packages/keras/src/models/functional.py:238: UserWarning: The structure of `inputs` doesn't match the expected structure.\n",
      "Expected: keras_tensor_336\n",
      "Received: inputs=['Tensor(shape=(200, 24))']\n",
      "  warnings.warn(msg)\n",
      "/home/jovyan/conda-envs/torch-gpu/lib/python3.12/site-packages/keras/src/models/functional.py:238: UserWarning: The structure of `inputs` doesn't match the expected structure.\n",
      "Expected: keras_tensor_336\n",
      "Received: inputs=['Tensor(shape=(560, 24))']\n",
      "  warnings.warn(msg)\n",
      "/home/jovyan/conda-envs/torch-gpu/lib/python3.12/site-packages/keras/src/layers/core/dense.py:87: UserWarning: Do not pass an `input_shape`/`input_dim` argument to a layer. When using Sequential models, prefer using an `Input(shape)` object as the first layer in the model instead.\n",
      "  super().__init__(activity_regularizer=activity_regularizer, **kwargs)\n"
     ]
    },
    {
     "name": "stdout",
     "output_type": "stream",
     "text": [
      "SHAP values and feature importances saved for dp_min-optimality_gap.\n",
      "\n",
      "=== peak_memory → num_classes=5 ===\n",
      " train bins: [0 2 4]\n",
      "  val bins: [0 2 4]\n",
      " test bins: [0 2 4]\n",
      "\n",
      "Training MLP for 'peak_memory' (50 epochs)...\n",
      "\u001b[1m18/18\u001b[0m \u001b[32m━━━━━━━━━━━━━━━━━━━━\u001b[0m\u001b[37m\u001b[0m \u001b[1m1s\u001b[0m 38ms/step\n",
      "\u001b[1m18/18\u001b[0m \u001b[32m━━━━━━━━━━━━━━━━━━━━\u001b[0m\u001b[37m\u001b[0m \u001b[1m0s\u001b[0m 4ms/step \n"
     ]
    },
    {
     "name": "stderr",
     "output_type": "stream",
     "text": [
      "WARNING:absl:You are saving your model as an HDF5 file via `model.save()` or `keras.saving.save_model(model)`. This file format is considered legacy. We recommend using instead the native Keras format, e.g. `model.save('my_model.keras')` or `keras.saving.save_model(model, 'my_model.keras')`. \n"
     ]
    },
    {
     "name": "stdout",
     "output_type": "stream",
     "text": [
      "[TEST]\n",
      "peak_memory (Test) - 50e | Acc: 1.0000, Prec: 1.0000, Rec: 1.0000, F1: 1.0000\n",
      "[VAL]\n",
      "peak_memory (Val)  - 50e | Acc: 0.9946, Prec: 0.9979, Rec: 0.9750, F1: 0.9862\n",
      "  • saved MLP model → ./binres_min_kp/mlp_class/mlp_classifier_dp_min_peak_memory_50e.h5\n"
     ]
    },
    {
     "name": "stderr",
     "output_type": "stream",
     "text": [
      "/home/jovyan/conda-envs/torch-gpu/lib/python3.12/site-packages/shap/explainers/_deep/deep_tf.py:94: UserWarning: Your TensorFlow version is newer than 2.4.0 and so graph support has been removed in eager mode and some static graphs may not be supported. See PR #1483 for discussion.\n",
      "  warnings.warn(\n",
      "/home/jovyan/conda-envs/torch-gpu/lib/python3.12/site-packages/keras/src/models/functional.py:238: UserWarning: The structure of `inputs` doesn't match the expected structure.\n",
      "Expected: keras_tensor_352\n",
      "Received: inputs=['Tensor(shape=(100, 24))']\n",
      "  warnings.warn(msg)\n",
      "/home/jovyan/conda-envs/torch-gpu/lib/python3.12/site-packages/keras/src/models/functional.py:238: UserWarning: The structure of `inputs` doesn't match the expected structure.\n",
      "Expected: keras_tensor_352\n",
      "Received: inputs=['Tensor(shape=(200, 24))']\n",
      "  warnings.warn(msg)\n",
      "/home/jovyan/conda-envs/torch-gpu/lib/python3.12/site-packages/keras/src/models/functional.py:238: UserWarning: The structure of `inputs` doesn't match the expected structure.\n",
      "Expected: keras_tensor_352\n",
      "Received: inputs=['Tensor(shape=(560, 24))']\n",
      "  warnings.warn(msg)\n",
      "/home/jovyan/conda-envs/torch-gpu/lib/python3.12/site-packages/keras/src/layers/core/dense.py:87: UserWarning: Do not pass an `input_shape`/`input_dim` argument to a layer. When using Sequential models, prefer using an `Input(shape)` object as the first layer in the model instead.\n",
      "  super().__init__(activity_regularizer=activity_regularizer, **kwargs)\n"
     ]
    },
    {
     "name": "stdout",
     "output_type": "stream",
     "text": [
      "SHAP values and feature importances saved for dp_min-peak_memory.\n",
      "\n",
      "Training MLP for 'peak_memory' (100 epochs)...\n",
      "\u001b[1m18/18\u001b[0m \u001b[32m━━━━━━━━━━━━━━━━━━━━\u001b[0m\u001b[37m\u001b[0m \u001b[1m1s\u001b[0m 37ms/step\n",
      "\u001b[1m18/18\u001b[0m \u001b[32m━━━━━━━━━━━━━━━━━━━━\u001b[0m\u001b[37m\u001b[0m \u001b[1m0s\u001b[0m 5ms/step \n",
      "[TEST]\n",
      "peak_memory (Test) - 100e | Acc: 1.0000, Prec: 1.0000, Rec: 1.0000, F1: 1.0000\n",
      "[VAL]\n"
     ]
    },
    {
     "name": "stderr",
     "output_type": "stream",
     "text": [
      "WARNING:absl:You are saving your model as an HDF5 file via `model.save()` or `keras.saving.save_model(model)`. This file format is considered legacy. We recommend using instead the native Keras format, e.g. `model.save('my_model.keras')` or `keras.saving.save_model(model, 'my_model.keras')`. \n"
     ]
    },
    {
     "name": "stdout",
     "output_type": "stream",
     "text": [
      "peak_memory (Val)  - 100e | Acc: 0.9946, Prec: 0.9979, Rec: 0.9750, F1: 0.9862\n",
      "  • saved MLP model → ./binres_min_kp/mlp_class/mlp_classifier_dp_min_peak_memory_100e.h5\n"
     ]
    },
    {
     "name": "stderr",
     "output_type": "stream",
     "text": [
      "/home/jovyan/conda-envs/torch-gpu/lib/python3.12/site-packages/shap/explainers/_deep/deep_tf.py:94: UserWarning: Your TensorFlow version is newer than 2.4.0 and so graph support has been removed in eager mode and some static graphs may not be supported. See PR #1483 for discussion.\n",
      "  warnings.warn(\n",
      "/home/jovyan/conda-envs/torch-gpu/lib/python3.12/site-packages/keras/src/models/functional.py:238: UserWarning: The structure of `inputs` doesn't match the expected structure.\n",
      "Expected: keras_tensor_368\n",
      "Received: inputs=['Tensor(shape=(100, 24))']\n",
      "  warnings.warn(msg)\n",
      "/home/jovyan/conda-envs/torch-gpu/lib/python3.12/site-packages/keras/src/models/functional.py:238: UserWarning: The structure of `inputs` doesn't match the expected structure.\n",
      "Expected: keras_tensor_368\n",
      "Received: inputs=['Tensor(shape=(200, 24))']\n",
      "  warnings.warn(msg)\n",
      "/home/jovyan/conda-envs/torch-gpu/lib/python3.12/site-packages/keras/src/models/functional.py:238: UserWarning: The structure of `inputs` doesn't match the expected structure.\n",
      "Expected: keras_tensor_368\n",
      "Received: inputs=['Tensor(shape=(560, 24))']\n",
      "  warnings.warn(msg)\n",
      "/home/jovyan/conda-envs/torch-gpu/lib/python3.12/site-packages/keras/src/layers/core/dense.py:87: UserWarning: Do not pass an `input_shape`/`input_dim` argument to a layer. When using Sequential models, prefer using an `Input(shape)` object as the first layer in the model instead.\n",
      "  super().__init__(activity_regularizer=activity_regularizer, **kwargs)\n"
     ]
    },
    {
     "name": "stdout",
     "output_type": "stream",
     "text": [
      "SHAP values and feature importances saved for dp_min-peak_memory.\n",
      "\n",
      "Solver: bb_min\n",
      "\n",
      "=== solution_time → num_classes=5 ===\n",
      " train bins: [0 1 2 3 4]\n",
      "  val bins: [0 1 2 3 4]\n",
      " test bins: [0 1 2 3 4]\n",
      "\n",
      "Training MLP for 'solution_time' (50 epochs)...\n",
      "\u001b[1m18/18\u001b[0m \u001b[32m━━━━━━━━━━━━━━━━━━━━\u001b[0m\u001b[37m\u001b[0m \u001b[1m1s\u001b[0m 37ms/step\n",
      "\u001b[1m18/18\u001b[0m \u001b[32m━━━━━━━━━━━━━━━━━━━━\u001b[0m\u001b[37m\u001b[0m \u001b[1m0s\u001b[0m 5ms/step \n"
     ]
    },
    {
     "name": "stderr",
     "output_type": "stream",
     "text": [
      "WARNING:absl:You are saving your model as an HDF5 file via `model.save()` or `keras.saving.save_model(model)`. This file format is considered legacy. We recommend using instead the native Keras format, e.g. `model.save('my_model.keras')` or `keras.saving.save_model(model, 'my_model.keras')`. \n"
     ]
    },
    {
     "name": "stdout",
     "output_type": "stream",
     "text": [
      "[TEST]\n",
      "solution_time (Test) - 50e | Acc: 0.9411, Prec: 0.9078, Rec: 0.8986, F1: 0.8847\n",
      "[VAL]\n",
      "solution_time (Val)  - 50e | Acc: 0.8411, Prec: 0.8319, Rec: 0.8560, F1: 0.8336\n",
      "  • saved MLP model → ./binres_min_kp/mlp_class/mlp_classifier_bb_min_solution_time_50e.h5\n"
     ]
    },
    {
     "name": "stderr",
     "output_type": "stream",
     "text": [
      "/home/jovyan/conda-envs/torch-gpu/lib/python3.12/site-packages/shap/explainers/_deep/deep_tf.py:94: UserWarning: Your TensorFlow version is newer than 2.4.0 and so graph support has been removed in eager mode and some static graphs may not be supported. See PR #1483 for discussion.\n",
      "  warnings.warn(\n",
      "/home/jovyan/conda-envs/torch-gpu/lib/python3.12/site-packages/keras/src/models/functional.py:238: UserWarning: The structure of `inputs` doesn't match the expected structure.\n",
      "Expected: keras_tensor_384\n",
      "Received: inputs=['Tensor(shape=(100, 24))']\n",
      "  warnings.warn(msg)\n",
      "/home/jovyan/conda-envs/torch-gpu/lib/python3.12/site-packages/keras/src/models/functional.py:238: UserWarning: The structure of `inputs` doesn't match the expected structure.\n",
      "Expected: keras_tensor_384\n",
      "Received: inputs=['Tensor(shape=(200, 24))']\n",
      "  warnings.warn(msg)\n",
      "/home/jovyan/conda-envs/torch-gpu/lib/python3.12/site-packages/keras/src/models/functional.py:238: UserWarning: The structure of `inputs` doesn't match the expected structure.\n",
      "Expected: keras_tensor_384\n",
      "Received: inputs=['Tensor(shape=(560, 24))']\n",
      "  warnings.warn(msg)\n",
      "/home/jovyan/conda-envs/torch-gpu/lib/python3.12/site-packages/keras/src/layers/core/dense.py:87: UserWarning: Do not pass an `input_shape`/`input_dim` argument to a layer. When using Sequential models, prefer using an `Input(shape)` object as the first layer in the model instead.\n",
      "  super().__init__(activity_regularizer=activity_regularizer, **kwargs)\n"
     ]
    },
    {
     "name": "stdout",
     "output_type": "stream",
     "text": [
      "SHAP values and feature importances saved for bb_min-solution_time.\n",
      "\n",
      "Training MLP for 'solution_time' (100 epochs)...\n",
      "\u001b[1m18/18\u001b[0m \u001b[32m━━━━━━━━━━━━━━━━━━━━\u001b[0m\u001b[37m\u001b[0m \u001b[1m1s\u001b[0m 36ms/step\n",
      "\u001b[1m18/18\u001b[0m \u001b[32m━━━━━━━━━━━━━━━━━━━━\u001b[0m\u001b[37m\u001b[0m \u001b[1m0s\u001b[0m 5ms/step \n"
     ]
    },
    {
     "name": "stderr",
     "output_type": "stream",
     "text": [
      "WARNING:absl:You are saving your model as an HDF5 file via `model.save()` or `keras.saving.save_model(model)`. This file format is considered legacy. We recommend using instead the native Keras format, e.g. `model.save('my_model.keras')` or `keras.saving.save_model(model, 'my_model.keras')`. \n"
     ]
    },
    {
     "name": "stdout",
     "output_type": "stream",
     "text": [
      "[TEST]\n",
      "solution_time (Test) - 100e | Acc: 0.9357, Prec: 0.9024, Rec: 0.8713, F1: 0.8548\n",
      "[VAL]\n",
      "solution_time (Val)  - 100e | Acc: 0.8196, Prec: 0.8205, Rec: 0.8336, F1: 0.8142\n",
      "  • saved MLP model → ./binres_min_kp/mlp_class/mlp_classifier_bb_min_solution_time_100e.h5\n"
     ]
    },
    {
     "name": "stderr",
     "output_type": "stream",
     "text": [
      "/home/jovyan/conda-envs/torch-gpu/lib/python3.12/site-packages/shap/explainers/_deep/deep_tf.py:94: UserWarning: Your TensorFlow version is newer than 2.4.0 and so graph support has been removed in eager mode and some static graphs may not be supported. See PR #1483 for discussion.\n",
      "  warnings.warn(\n",
      "/home/jovyan/conda-envs/torch-gpu/lib/python3.12/site-packages/keras/src/models/functional.py:238: UserWarning: The structure of `inputs` doesn't match the expected structure.\n",
      "Expected: keras_tensor_400\n",
      "Received: inputs=['Tensor(shape=(100, 24))']\n",
      "  warnings.warn(msg)\n",
      "/home/jovyan/conda-envs/torch-gpu/lib/python3.12/site-packages/keras/src/models/functional.py:238: UserWarning: The structure of `inputs` doesn't match the expected structure.\n",
      "Expected: keras_tensor_400\n",
      "Received: inputs=['Tensor(shape=(200, 24))']\n",
      "  warnings.warn(msg)\n",
      "/home/jovyan/conda-envs/torch-gpu/lib/python3.12/site-packages/keras/src/models/functional.py:238: UserWarning: The structure of `inputs` doesn't match the expected structure.\n",
      "Expected: keras_tensor_400\n",
      "Received: inputs=['Tensor(shape=(560, 24))']\n",
      "  warnings.warn(msg)\n",
      "/home/jovyan/conda-envs/torch-gpu/lib/python3.12/site-packages/keras/src/layers/core/dense.py:87: UserWarning: Do not pass an `input_shape`/`input_dim` argument to a layer. When using Sequential models, prefer using an `Input(shape)` object as the first layer in the model instead.\n",
      "  super().__init__(activity_regularizer=activity_regularizer, **kwargs)\n"
     ]
    },
    {
     "name": "stdout",
     "output_type": "stream",
     "text": [
      "SHAP values and feature importances saved for bb_min-solution_time.\n",
      "\n",
      "=== optimality_gap → num_classes=5 ===\n",
      " train bins: [0 1 2 3 4]\n",
      "  val bins: [0 1 2 3 4]\n",
      " test bins: [0 1 2 3 4]\n",
      "\n",
      "Training MLP for 'optimality_gap' (50 epochs)...\n",
      "\u001b[1m18/18\u001b[0m \u001b[32m━━━━━━━━━━━━━━━━━━━━\u001b[0m\u001b[37m\u001b[0m \u001b[1m1s\u001b[0m 37ms/step\n",
      "\u001b[1m18/18\u001b[0m \u001b[32m━━━━━━━━━━━━━━━━━━━━\u001b[0m\u001b[37m\u001b[0m \u001b[1m0s\u001b[0m 5ms/step \n",
      "[TEST]\n",
      "optimality_gap (Test) - 50e | Acc: 0.8875, Prec: 0.5170, Rec: 0.7439, F1: 0.5784\n",
      "[VAL]\n"
     ]
    },
    {
     "name": "stderr",
     "output_type": "stream",
     "text": [
      "WARNING:absl:You are saving your model as an HDF5 file via `model.save()` or `keras.saving.save_model(model)`. This file format is considered legacy. We recommend using instead the native Keras format, e.g. `model.save('my_model.keras')` or `keras.saving.save_model(model, 'my_model.keras')`. \n"
     ]
    },
    {
     "name": "stdout",
     "output_type": "stream",
     "text": [
      "optimality_gap (Val)  - 50e | Acc: 0.6500, Prec: 0.2010, Rec: 0.2352, F1: 0.2149\n",
      "  • saved MLP model → ./binres_min_kp/mlp_class/mlp_classifier_bb_min_optimality_gap_50e.h5\n"
     ]
    },
    {
     "name": "stderr",
     "output_type": "stream",
     "text": [
      "/home/jovyan/conda-envs/torch-gpu/lib/python3.12/site-packages/shap/explainers/_deep/deep_tf.py:94: UserWarning: Your TensorFlow version is newer than 2.4.0 and so graph support has been removed in eager mode and some static graphs may not be supported. See PR #1483 for discussion.\n",
      "  warnings.warn(\n",
      "/home/jovyan/conda-envs/torch-gpu/lib/python3.12/site-packages/keras/src/models/functional.py:238: UserWarning: The structure of `inputs` doesn't match the expected structure.\n",
      "Expected: keras_tensor_416\n",
      "Received: inputs=['Tensor(shape=(100, 24))']\n",
      "  warnings.warn(msg)\n",
      "/home/jovyan/conda-envs/torch-gpu/lib/python3.12/site-packages/keras/src/models/functional.py:238: UserWarning: The structure of `inputs` doesn't match the expected structure.\n",
      "Expected: keras_tensor_416\n",
      "Received: inputs=['Tensor(shape=(200, 24))']\n",
      "  warnings.warn(msg)\n",
      "/home/jovyan/conda-envs/torch-gpu/lib/python3.12/site-packages/keras/src/models/functional.py:238: UserWarning: The structure of `inputs` doesn't match the expected structure.\n",
      "Expected: keras_tensor_416\n",
      "Received: inputs=['Tensor(shape=(560, 24))']\n",
      "  warnings.warn(msg)\n",
      "/home/jovyan/conda-envs/torch-gpu/lib/python3.12/site-packages/keras/src/layers/core/dense.py:87: UserWarning: Do not pass an `input_shape`/`input_dim` argument to a layer. When using Sequential models, prefer using an `Input(shape)` object as the first layer in the model instead.\n",
      "  super().__init__(activity_regularizer=activity_regularizer, **kwargs)\n"
     ]
    },
    {
     "name": "stdout",
     "output_type": "stream",
     "text": [
      "SHAP values and feature importances saved for bb_min-optimality_gap.\n",
      "\n",
      "Training MLP for 'optimality_gap' (100 epochs)...\n",
      "\u001b[1m18/18\u001b[0m \u001b[32m━━━━━━━━━━━━━━━━━━━━\u001b[0m\u001b[37m\u001b[0m \u001b[1m1s\u001b[0m 39ms/step\n",
      "\u001b[1m18/18\u001b[0m \u001b[32m━━━━━━━━━━━━━━━━━━━━\u001b[0m\u001b[37m\u001b[0m \u001b[1m0s\u001b[0m 4ms/step \n"
     ]
    },
    {
     "name": "stderr",
     "output_type": "stream",
     "text": [
      "WARNING:absl:You are saving your model as an HDF5 file via `model.save()` or `keras.saving.save_model(model)`. This file format is considered legacy. We recommend using instead the native Keras format, e.g. `model.save('my_model.keras')` or `keras.saving.save_model(model, 'my_model.keras')`. \n"
     ]
    },
    {
     "name": "stdout",
     "output_type": "stream",
     "text": [
      "[TEST]\n",
      "optimality_gap (Test) - 100e | Acc: 0.8750, Prec: 0.4500, Rec: 0.6939, F1: 0.5103\n",
      "[VAL]\n",
      "optimality_gap (Val)  - 100e | Acc: 0.6607, Prec: 0.2293, Rec: 0.2780, F1: 0.2463\n",
      "  • saved MLP model → ./binres_min_kp/mlp_class/mlp_classifier_bb_min_optimality_gap_100e.h5\n"
     ]
    },
    {
     "name": "stderr",
     "output_type": "stream",
     "text": [
      "/home/jovyan/conda-envs/torch-gpu/lib/python3.12/site-packages/shap/explainers/_deep/deep_tf.py:94: UserWarning: Your TensorFlow version is newer than 2.4.0 and so graph support has been removed in eager mode and some static graphs may not be supported. See PR #1483 for discussion.\n",
      "  warnings.warn(\n",
      "/home/jovyan/conda-envs/torch-gpu/lib/python3.12/site-packages/keras/src/models/functional.py:238: UserWarning: The structure of `inputs` doesn't match the expected structure.\n",
      "Expected: keras_tensor_432\n",
      "Received: inputs=['Tensor(shape=(100, 24))']\n",
      "  warnings.warn(msg)\n",
      "/home/jovyan/conda-envs/torch-gpu/lib/python3.12/site-packages/keras/src/models/functional.py:238: UserWarning: The structure of `inputs` doesn't match the expected structure.\n",
      "Expected: keras_tensor_432\n",
      "Received: inputs=['Tensor(shape=(200, 24))']\n",
      "  warnings.warn(msg)\n"
     ]
    },
    {
     "name": "stdout",
     "output_type": "stream",
     "text": [
      "SHAP values and feature importances saved for bb_min-optimality_gap.\n",
      "  • skipping 'peak_memory': only one class in train\n"
     ]
    },
    {
     "name": "stderr",
     "output_type": "stream",
     "text": [
      "/home/jovyan/conda-envs/torch-gpu/lib/python3.12/site-packages/keras/src/models/functional.py:238: UserWarning: The structure of `inputs` doesn't match the expected structure.\n",
      "Expected: keras_tensor_432\n",
      "Received: inputs=['Tensor(shape=(560, 24))']\n",
      "  warnings.warn(msg)\n"
     ]
    }
   ],
   "source": [
    "base_folder = \"./trainingData/final_td_min/td_models\" #Path to training data\n",
    "BINS_BASE_DIR = \"./trainingData/final_td_min/td_bindata\" #Path to bin data\n",
    "run_all_models(base_folder)"
   ]
  },
  {
   "cell_type": "code",
   "execution_count": null,
   "id": "ae7228f7",
   "metadata": {},
   "outputs": [],
   "source": []
  }
 ],
 "metadata": {
  "kernelspec": {
   "display_name": "Python [conda env:torch-gpu]",
   "language": "python",
   "name": "conda-env-torch-gpu-py"
  },
  "language_info": {
   "codemirror_mode": {
    "name": "ipython",
    "version": 3
   },
   "file_extension": ".py",
   "mimetype": "text/x-python",
   "name": "python",
   "nbconvert_exporter": "python",
   "pygments_lexer": "ipython3",
   "version": "3.12.8"
  }
 },
 "nbformat": 4,
 "nbformat_minor": 5
}
