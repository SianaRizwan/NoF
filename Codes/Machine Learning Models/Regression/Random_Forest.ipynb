{
 "cells": [
  {
   "cell_type": "code",
   "execution_count": 1,
   "id": "81bce8ad",
   "metadata": {},
   "outputs": [],
   "source": [
    "from sklearn.ensemble import RandomForestRegressor\n",
    "import shap\n",
    "import pandas as pd\n",
    "import numpy as np\n",
    "import os\n",
    "from sklearn.preprocessing import StandardScaler\n",
    "from sklearn.metrics import mean_absolute_error, mean_squared_error, r2_score\n",
    "import joblib\n",
    "from sklearn.model_selection import ParameterGrid\n",
    "import json"
   ]
  },
  {
   "cell_type": "code",
   "execution_count": 2,
   "id": "9e8ef7b7",
   "metadata": {},
   "outputs": [],
   "source": [
    "def evaluate(y_true, y_pred, results, solver_name, label):\n",
    "    mae = mean_absolute_error(y_true, y_pred)\n",
    "    mse = mean_squared_error(y_true, y_pred)\n",
    "    rmse = np.sqrt(mse)\n",
    "    r2 = r2_score(y_true, y_pred)\n",
    "    rel_rmse = rmse / np.mean(y_true)\n",
    "\n",
    "    safe_y_true = np.where(y_true == 0, 1e-8, y_true)\n",
    "    mape = np.mean(np.abs((y_true - y_pred) / safe_y_true)) * 100\n",
    "\n",
    "    result = {\n",
    "        \"Solver\": solver_name,\n",
    "        \"Dataset\": label,\n",
    "        \"MAE\": mae,\n",
    "        \"MSE\": mse,\n",
    "        \"RMSE\": rmse,\n",
    "        \"R2\": r2,\n",
    "        \"Rel_RMSE\": rel_rmse,\n",
    "        \"MAPE (%)\": mape,\n",
    "    }\n",
    "    results.append(result)"
   ]
  },
  {
   "cell_type": "code",
   "execution_count": null,
   "id": "2f070e0f",
   "metadata": {},
   "outputs": [],
   "source": [
    "def log_rf_shap_and_importance(model, X_val, y_val, pred_val, features, solver_name, target):\n",
    "   \n",
    "    background = shap.sample(X_val, min(100, X_val.shape[0]), random_state=42)\n",
    "\n",
    "    try:\n",
    "        explainer = shap.KernelExplainer(model.predict, background)\n",
    "        shap_values = explainer.shap_values(X_val, nsamples=100)\n",
    "\n",
    "        shap_df = pd.DataFrame(shap_values, columns=features)\n",
    "        shap_df[\"predicted_value\"] = pred_val\n",
    "        shap_df[\"actual_value\"] = y_val\n",
    "        shap_df[\"target\"] = target\n",
    "        shap_df[\"solver\"] = solver_name\n",
    "\n",
    "        os.makedirs(\"./rf/rf_shap_values\", exist_ok=True)\n",
    "        shap_filename = f\"./rf/rf_shap_values/shap_{solver_name}_{target}_reg.csv\"\n",
    "        shap_df.to_csv(shap_filename, index=False)\n",
    "\n",
    "        # Feature importance \n",
    "        importance_df = pd.DataFrame({\n",
    "            \"feature\": features,\n",
    "            \"shap_importance\": np.abs(shap_values).mean(axis=0),\n",
    "            \"model_importance\": model.feature_importances_,\n",
    "            \"target\": target,\n",
    "            \"solver\": solver_name\n",
    "        })\n",
    "\n",
    "        os.makedirs(\"./rf/rf_feature_importance\", exist_ok=True)\n",
    "        importance_file = \"./rf/rf_feature_importance/rf_feature_importance_reg.csv\"\n",
    "        importance_df.to_csv(importance_file, mode='a', index=False, header=not os.path.exists(importance_file))\n",
    "\n",
    "        #top-5\n",
    "        top5_file = \"./rf/rf_feature_importance/rf_top5_feature_importance_reg.csv\"\n",
    "        importance_df.sort_values(by=\"shap_importance\", ascending=False).head(5).to_csv(\n",
    "            top5_file, mode='a', index=False, header=not os.path.exists(top5_file)\n",
    "        )\n",
    "\n",
    "    except Exception as e:\n",
    "        print(f\"SHAP failed for {solver_name}-{target}: {e}\")"
   ]
  },
  {
   "cell_type": "code",
   "execution_count": null,
   "id": "6cda869e",
   "metadata": {},
   "outputs": [],
   "source": [
    "def train_rf_for_solver(solver_name, train_file, test_file, val_file):\n",
    "    print(f\"\\nSolver: {solver_name}\")\n",
    "    df_train = pd.read_csv(train_file)\n",
    "    df_test = pd.read_csv(test_file)\n",
    "    df_val = pd.read_csv(val_file)\n",
    "\n",
    "    df_train.dropna(inplace=True)\n",
    "    df_test.dropna(inplace=True)\n",
    "    df_val.dropna(inplace=True)\n",
    "\n",
    "    target_cols = [\"solution_time\", \"optimality_gap\", \"peak_memory\"]\n",
    "    features = [\n",
    "        \"number_of_elements\", \"capacity\", \"max_weight\", \"min_weight\", \"mean_weight\",\n",
    "        \"median_weight\", \"std_weight\", \"weight_range\", \"max_profit\", \"min_profit\", \"mean_profit\",\n",
    "        \"median_profit\", \"std_profit\", \"profit_range\", \"renting_ratio\", \"mean_weight_profit_ratio\",\n",
    "        \"median_weight_profit_ratio\", \"capacity_mean_weight_ratio\", \"capacity_median_weight_ratio\",\n",
    "        \"capacity_std_weight_ratio\", \"std_weight_profit_ratio\", \"weight_profit_correlation\",\n",
    "        \"ram\", \"cpu_cores\"\n",
    "    ]\n",
    "\n",
    "    for df in [df_train, df_test, df_val]:\n",
    "        for col in target_cols:\n",
    "            df[col] = pd.to_numeric(df[col], errors='coerce')\n",
    "            df.dropna(subset=[col], inplace=True)\n",
    "\n",
    "    scaler = StandardScaler()\n",
    "    X_train = scaler.fit_transform(df_train[features])\n",
    "    X_test = scaler.transform(df_test[features])\n",
    "    X_val = scaler.transform(df_val[features])\n",
    "\n",
    "    os.makedirs(\"./rf_tuning\", exist_ok=True)\n",
    "    os.makedirs(\"./rf_configs\", exist_ok=True)\n",
    "    results = []\n",
    "\n",
    "    for target in target_cols:\n",
    "        y_train = df_train[target].values\n",
    "        y_test = df_test[target].values\n",
    "        y_val = df_val[target].values\n",
    "\n",
    "        y_scaler = StandardScaler()\n",
    "        y_train_scaled = y_scaler.fit_transform(y_train.reshape(-1, 1)).flatten()\n",
    "        y_test_scaled = y_scaler.transform(y_test.reshape(-1, 1)).flatten()\n",
    "        y_val_scaled = y_scaler.transform(y_val.reshape(-1, 1)).flatten()\n",
    "\n",
    "        param_grid = {\n",
    "            \"n_estimators\": [100, 200, 500],\n",
    "            \"max_depth\": [10, 20]\n",
    "        }\n",
    "\n",
    "        best_rmse = float(\"inf\")\n",
    "        best_model = None\n",
    "        best_config = None\n",
    "        tuning_logs = []\n",
    "\n",
    "        for params in ParameterGrid(param_grid):\n",
    "            model = RandomForestRegressor(**params, random_state=42)\n",
    "            model.fit(X_train, y_train_scaled)\n",
    "\n",
    "            pred_val_scaled = model.predict(X_val)\n",
    "            pred_val = y_scaler.inverse_transform(pred_val_scaled.reshape(-1, 1)).flatten()\n",
    "            y_val_orig = y_scaler.inverse_transform(y_val_scaled.reshape(-1, 1)).flatten()\n",
    "            rmse = np.sqrt(mean_squared_error(y_val_orig, pred_val))\n",
    "\n",
    "            tuning_logs.append({**params, \"rmse\": rmse})\n",
    "\n",
    "            if rmse < best_rmse:\n",
    "                best_rmse = rmse\n",
    "                best_model = model\n",
    "                best_config = params\n",
    "                best_y_test = y_scaler.inverse_transform(y_test_scaled.reshape(-1, 1)).flatten()\n",
    "                best_y_val = y_val_orig\n",
    "                best_pred_test = y_scaler.inverse_transform(model.predict(X_test).reshape(-1, 1)).flatten()\n",
    "                best_pred_val = pred_val\n",
    "\n",
    "        tuning_df = pd.DataFrame(tuning_logs)\n",
    "        tuning_df.to_csv(\n",
    "            f\"./rf_tuning/tuning_rf_{solver_name}_{target}_reg.csv\", index=False\n",
    "        )\n",
    "        with open(f\"./rf_configs/best_rf_{solver_name}_{target}_reg.json\", \"w\") as f:\n",
    "            json.dump(best_config, f, indent=4)\n",
    "\n",
    "#         print(f\"\\nTarget: {target.upper()} | Best Params: {best_config}\")\n",
    "        print(\"[TEST]\")\n",
    "        evaluate(best_y_test, best_pred_test, results, solver_name, f\"{target} (Test)\")\n",
    "        print(\"[VAL]\")\n",
    "        evaluate(best_y_val, best_pred_val, results, solver_name, f\"{target} (Val)\")\n",
    "        \n",
    "        os.makedirs(\"./rf_models\", exist_ok=True)\n",
    "        model_path = f\"./rf_models/rf_model_{solver_name}_{target}.joblib\"\n",
    "        joblib.dump(best_model, model_path)\n",
    "        print(f\"Saved model to {model_path}\")\n",
    "\n",
    "        log_rf_shap_and_importance(best_model, X_val, best_y_val, best_pred_val, features, solver_name, target)\n",
    "\n",
    "    results_df = pd.DataFrame(results)\n",
    "    results_file = \"./rf_evaluation_results_reg.csv\"\n",
    "    results_df.to_csv(results_file, mode='a', index=False, header=not os.path.exists(results_file))"
   ]
  },
  {
   "cell_type": "code",
   "execution_count": 8,
   "id": "3c2fb3f9",
   "metadata": {},
   "outputs": [],
   "source": [
    "def run_all_models(base_folder):\n",
    "    for root, dirs, files in os.walk(base_folder):\n",
    "        for folder in dirs:\n",
    "            folder_path = os.path.join(root, folder)\n",
    "            csv_files = os.listdir(folder_path)\n",
    "\n",
    "            train_file = [f for f in csv_files if f.endswith(\"_train.csv\")]\n",
    "            test_file = [f for f in csv_files if f.endswith(\"_test.csv\")]\n",
    "            val_file = [f for f in csv_files if f.endswith(\"_val.csv\")]\n",
    "\n",
    "            if train_file and test_file and val_file:\n",
    "                train_fp = os.path.join(folder_path, train_file[0])\n",
    "                test_fp = os.path.join(folder_path, test_file[0])\n",
    "                val_fp = os.path.join(folder_path, val_file[0])\n",
    "\n",
    "                solver_name = folder\n",
    "                train_rf_for_solver(solver_name, train_fp, test_fp, val_fp)"
   ]
  },
  {
   "cell_type": "code",
   "execution_count": null,
   "id": "4c617f94",
   "metadata": {},
   "outputs": [
    {
     "name": "stdout",
     "output_type": "stream",
     "text": [
      "\n",
      "Solver: or_min\n",
      "[TEST]\n",
      "[VAL]\n",
      "Saved Random Forest model to ./results_min_kp/rf_models/rf_model_or_min_solution_time.joblib\n"
     ]
    },
    {
     "data": {
      "application/vnd.jupyter.widget-view+json": {
       "model_id": "553b42d0e048401ebad1a1834f03d97a",
       "version_major": 2,
       "version_minor": 0
      },
      "text/plain": [
       "  0%|          | 0/560 [00:00<?, ?it/s]"
      ]
     },
     "metadata": {},
     "output_type": "display_data"
    },
    {
     "name": "stdout",
     "output_type": "stream",
     "text": [
      "[TEST]\n",
      "[VAL]\n",
      "Saved Random Forest model to ./results_min_kp/rf_models/rf_model_or_min_optimality_gap.joblib\n"
     ]
    },
    {
     "data": {
      "application/vnd.jupyter.widget-view+json": {
       "model_id": "c0355cbdeefd4b57acbcb253677058aa",
       "version_major": 2,
       "version_minor": 0
      },
      "text/plain": [
       "  0%|          | 0/560 [00:00<?, ?it/s]"
      ]
     },
     "metadata": {},
     "output_type": "display_data"
    },
    {
     "name": "stdout",
     "output_type": "stream",
     "text": [
      "[TEST]\n",
      "[VAL]\n",
      "Saved Random Forest model to ./results_min_kp/rf_models/rf_model_or_min_peak_memory.joblib\n"
     ]
    },
    {
     "data": {
      "application/vnd.jupyter.widget-view+json": {
       "model_id": "7fcaa6360f4f4fb9a7cd51c4904bf838",
       "version_major": 2,
       "version_minor": 0
      },
      "text/plain": [
       "  0%|          | 0/560 [00:00<?, ?it/s]"
      ]
     },
     "metadata": {},
     "output_type": "display_data"
    },
    {
     "name": "stdout",
     "output_type": "stream",
     "text": [
      "\n",
      "Solver: gurobi_min\n",
      "[TEST]\n",
      "[VAL]\n",
      "Saved Random Forest model to ./results_min_kp/rf_models/rf_model_gurobi_min_solution_time.joblib\n"
     ]
    },
    {
     "data": {
      "application/vnd.jupyter.widget-view+json": {
       "model_id": "bc347670c7ce4987b2c42793c92685ac",
       "version_major": 2,
       "version_minor": 0
      },
      "text/plain": [
       "  0%|          | 0/560 [00:00<?, ?it/s]"
      ]
     },
     "metadata": {},
     "output_type": "display_data"
    },
    {
     "name": "stdout",
     "output_type": "stream",
     "text": [
      "[TEST]\n",
      "[VAL]\n",
      "Saved Random Forest model to ./results_min_kp/rf_models/rf_model_gurobi_min_optimality_gap.joblib\n"
     ]
    },
    {
     "name": "stderr",
     "output_type": "stream",
     "text": [
      "/tmp/ipykernel_1523359/4068784991.py:6: RuntimeWarning: invalid value encountered in scalar divide\n",
      "  rel_rmse = rmse / np.mean(y_true)\n",
      "/tmp/ipykernel_1523359/4068784991.py:6: RuntimeWarning: invalid value encountered in scalar divide\n",
      "  rel_rmse = rmse / np.mean(y_true)\n"
     ]
    },
    {
     "data": {
      "application/vnd.jupyter.widget-view+json": {
       "model_id": "7093e49b67074500bc643b3377053b86",
       "version_major": 2,
       "version_minor": 0
      },
      "text/plain": [
       "  0%|          | 0/560 [00:00<?, ?it/s]"
      ]
     },
     "metadata": {},
     "output_type": "display_data"
    },
    {
     "name": "stdout",
     "output_type": "stream",
     "text": [
      "[TEST]\n",
      "[VAL]\n",
      "Saved Random Forest model to ./results_min_kp/rf_models/rf_model_gurobi_min_peak_memory.joblib\n"
     ]
    },
    {
     "data": {
      "application/vnd.jupyter.widget-view+json": {
       "model_id": "0c031dc3552d4d0b9bd333db20b5b5ec",
       "version_major": 2,
       "version_minor": 0
      },
      "text/plain": [
       "  0%|          | 0/560 [00:00<?, ?it/s]"
      ]
     },
     "metadata": {},
     "output_type": "display_data"
    },
    {
     "name": "stdout",
     "output_type": "stream",
     "text": [
      "\n",
      "Solver: greedy_min\n",
      "[TEST]\n",
      "[VAL]\n",
      "Saved Random Forest model to ./results_min_kp/rf_models/rf_model_greedy_min_solution_time.joblib\n"
     ]
    },
    {
     "data": {
      "application/vnd.jupyter.widget-view+json": {
       "model_id": "54b3d6bf3491416c96c4f6499aabcf7f",
       "version_major": 2,
       "version_minor": 0
      },
      "text/plain": [
       "  0%|          | 0/560 [00:00<?, ?it/s]"
      ]
     },
     "metadata": {},
     "output_type": "display_data"
    },
    {
     "name": "stdout",
     "output_type": "stream",
     "text": [
      "[TEST]\n",
      "[VAL]\n",
      "Saved Random Forest model to ./results_min_kp/rf_models/rf_model_greedy_min_optimality_gap.joblib\n"
     ]
    },
    {
     "data": {
      "application/vnd.jupyter.widget-view+json": {
       "model_id": "d55b24f45f75475fa2bd92366eb20338",
       "version_major": 2,
       "version_minor": 0
      },
      "text/plain": [
       "  0%|          | 0/560 [00:00<?, ?it/s]"
      ]
     },
     "metadata": {},
     "output_type": "display_data"
    },
    {
     "name": "stdout",
     "output_type": "stream",
     "text": [
      "[TEST]\n",
      "[VAL]\n",
      "Saved Random Forest model to ./results_min_kp/rf_models/rf_model_greedy_min_peak_memory.joblib\n"
     ]
    },
    {
     "data": {
      "application/vnd.jupyter.widget-view+json": {
       "model_id": "6893f66f9d9a4f8a92cb9bbc1bdbf3bb",
       "version_major": 2,
       "version_minor": 0
      },
      "text/plain": [
       "  0%|          | 0/560 [00:00<?, ?it/s]"
      ]
     },
     "metadata": {},
     "output_type": "display_data"
    },
    {
     "name": "stdout",
     "output_type": "stream",
     "text": [
      "\n",
      "Solver: ga_min\n",
      "[TEST]\n",
      "[VAL]\n",
      "Saved Random Forest model to ./results_min_kp/rf_models/rf_model_ga_min_solution_time.joblib\n"
     ]
    },
    {
     "data": {
      "application/vnd.jupyter.widget-view+json": {
       "model_id": "325b2b537d0c4868920361e8c6adff15",
       "version_major": 2,
       "version_minor": 0
      },
      "text/plain": [
       "  0%|          | 0/560 [00:00<?, ?it/s]"
      ]
     },
     "metadata": {},
     "output_type": "display_data"
    },
    {
     "name": "stdout",
     "output_type": "stream",
     "text": [
      "[TEST]\n",
      "[VAL]\n",
      "Saved Random Forest model to ./results_min_kp/rf_models/rf_model_ga_min_optimality_gap.joblib\n"
     ]
    },
    {
     "data": {
      "application/vnd.jupyter.widget-view+json": {
       "model_id": "5ed445bc99a844b994085becf1497571",
       "version_major": 2,
       "version_minor": 0
      },
      "text/plain": [
       "  0%|          | 0/560 [00:00<?, ?it/s]"
      ]
     },
     "metadata": {},
     "output_type": "display_data"
    },
    {
     "name": "stdout",
     "output_type": "stream",
     "text": [
      "[TEST]\n",
      "[VAL]\n",
      "Saved Random Forest model to ./results_min_kp/rf_models/rf_model_ga_min_peak_memory.joblib\n"
     ]
    },
    {
     "data": {
      "application/vnd.jupyter.widget-view+json": {
       "model_id": "1fe015a5c47848c1a80427b3ef7a5eac",
       "version_major": 2,
       "version_minor": 0
      },
      "text/plain": [
       "  0%|          | 0/560 [00:00<?, ?it/s]"
      ]
     },
     "metadata": {},
     "output_type": "display_data"
    },
    {
     "name": "stdout",
     "output_type": "stream",
     "text": [
      "\n",
      "Solver: dp_min\n",
      "[TEST]\n",
      "[VAL]\n",
      "Saved Random Forest model to ./results_min_kp/rf_models/rf_model_dp_min_solution_time.joblib\n"
     ]
    },
    {
     "data": {
      "application/vnd.jupyter.widget-view+json": {
       "model_id": "c3c995353e3a44e0aaef31449966cc70",
       "version_major": 2,
       "version_minor": 0
      },
      "text/plain": [
       "  0%|          | 0/560 [00:00<?, ?it/s]"
      ]
     },
     "metadata": {},
     "output_type": "display_data"
    },
    {
     "name": "stdout",
     "output_type": "stream",
     "text": [
      "[TEST]\n",
      "[VAL]\n",
      "Saved Random Forest model to ./results_min_kp/rf_models/rf_model_dp_min_optimality_gap.joblib\n"
     ]
    },
    {
     "data": {
      "application/vnd.jupyter.widget-view+json": {
       "model_id": "7c824f3cc0d14619b6d380b8f567f50f",
       "version_major": 2,
       "version_minor": 0
      },
      "text/plain": [
       "  0%|          | 0/560 [00:00<?, ?it/s]"
      ]
     },
     "metadata": {},
     "output_type": "display_data"
    },
    {
     "name": "stdout",
     "output_type": "stream",
     "text": [
      "[TEST]\n",
      "[VAL]\n",
      "Saved Random Forest model to ./results_min_kp/rf_models/rf_model_dp_min_peak_memory.joblib\n"
     ]
    },
    {
     "data": {
      "application/vnd.jupyter.widget-view+json": {
       "model_id": "bf4302a6900f4607882f71ff90de8982",
       "version_major": 2,
       "version_minor": 0
      },
      "text/plain": [
       "  0%|          | 0/560 [00:00<?, ?it/s]"
      ]
     },
     "metadata": {},
     "output_type": "display_data"
    },
    {
     "name": "stdout",
     "output_type": "stream",
     "text": [
      "\n",
      "Solver: bb_min\n",
      "[TEST]\n",
      "[VAL]\n",
      "Saved Random Forest model to ./results_min_kp/rf_models/rf_model_bb_min_solution_time.joblib\n"
     ]
    },
    {
     "data": {
      "application/vnd.jupyter.widget-view+json": {
       "model_id": "4e38671e34e34d4f9d5b8d4903218fb7",
       "version_major": 2,
       "version_minor": 0
      },
      "text/plain": [
       "  0%|          | 0/560 [00:00<?, ?it/s]"
      ]
     },
     "metadata": {},
     "output_type": "display_data"
    },
    {
     "name": "stdout",
     "output_type": "stream",
     "text": [
      "[TEST]\n",
      "[VAL]\n",
      "Saved Random Forest model to ./results_min_kp/rf_models/rf_model_bb_min_optimality_gap.joblib\n"
     ]
    },
    {
     "data": {
      "application/vnd.jupyter.widget-view+json": {
       "model_id": "43fc05f981814241b10058ddd24f2da9",
       "version_major": 2,
       "version_minor": 0
      },
      "text/plain": [
       "  0%|          | 0/560 [00:00<?, ?it/s]"
      ]
     },
     "metadata": {},
     "output_type": "display_data"
    },
    {
     "name": "stdout",
     "output_type": "stream",
     "text": [
      "[TEST]\n",
      "[VAL]\n",
      "Saved Random Forest model to ./results_min_kp/rf_models/rf_model_bb_min_peak_memory.joblib\n"
     ]
    },
    {
     "data": {
      "application/vnd.jupyter.widget-view+json": {
       "model_id": "3b15a3208d964e62b8dff457503a095f",
       "version_major": 2,
       "version_minor": 0
      },
      "text/plain": [
       "  0%|          | 0/560 [00:00<?, ?it/s]"
      ]
     },
     "metadata": {},
     "output_type": "display_data"
    }
   ],
   "source": [
    "base_folder = \"./trainingData/final_td_min\" #Specify path to training data\n",
    "run_all_models(base_folder)"
   ]
  },
  {
   "cell_type": "code",
   "execution_count": null,
   "id": "0f94f0cd",
   "metadata": {},
   "outputs": [],
   "source": []
  }
 ],
 "metadata": {
  "kernelspec": {
   "display_name": "Python [conda env:torch-gpu]",
   "language": "python",
   "name": "conda-env-torch-gpu-py"
  },
  "language_info": {
   "codemirror_mode": {
    "name": "ipython",
    "version": 3
   },
   "file_extension": ".py",
   "mimetype": "text/x-python",
   "name": "python",
   "nbconvert_exporter": "python",
   "pygments_lexer": "ipython3",
   "version": "3.12.8"
  }
 },
 "nbformat": 4,
 "nbformat_minor": 5
}
