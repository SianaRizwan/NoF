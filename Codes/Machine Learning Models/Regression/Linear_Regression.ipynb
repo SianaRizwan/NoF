{
 "cells": [
  {
   "cell_type": "code",
   "execution_count": 1,
   "id": "99f39f0e",
   "metadata": {},
   "outputs": [
    {
     "name": "stdout",
     "output_type": "stream",
     "text": [
      "Requirement already satisfied: joblib in /home/jovyan/conda-envs/ollama_gpu/lib/python3.12/site-packages (1.4.2)\n",
      "Note: you may need to restart the kernel to use updated packages.\n"
     ]
    }
   ],
   "source": [
    "%pip install joblib\n",
    "\n",
    "import os\n",
    "import pandas as pd\n",
    "import numpy as np\n",
    "import joblib\n",
    "from sklearn.linear_model import LinearRegression\n",
    "from sklearn.preprocessing import StandardScaler\n",
    "from sklearn.metrics import mean_absolute_error, mean_squared_error, r2_score\n",
    "import shap\n",
    "import json"
   ]
  },
  {
   "cell_type": "code",
   "execution_count": 2,
   "id": "52bd85ae",
   "metadata": {},
   "outputs": [],
   "source": [
    "def evaluate(y_true, y_pred, results, solver_name, label):\n",
    "    mae = mean_absolute_error(y_true, y_pred)\n",
    "    mse = mean_squared_error(y_true, y_pred)\n",
    "    rmse = np.sqrt(mse)\n",
    "    r2 = r2_score(y_true, y_pred)\n",
    "    rel_rmse = rmse / np.mean(y_true)\n",
    "\n",
    "    safe_y_true = np.where(y_true == 0, 1e-8, y_true)\n",
    "    mape = np.mean(np.abs((y_true - y_pred) / safe_y_true)) * 100\n",
    "\n",
    "    result = {\n",
    "        \"Solver\": solver_name,\n",
    "        \"Dataset\": label,\n",
    "        \"MAE\": mae,\n",
    "        \"MSE\": mse,\n",
    "        \"RMSE\": rmse,\n",
    "        \"R2\": r2,\n",
    "        \"Rel_RMSE\": rel_rmse,\n",
    "        \"MAPE (%)\": mape,\n",
    "    }\n",
    "    results.append(result)"
   ]
  },
  {
   "cell_type": "code",
   "execution_count": null,
   "id": "f11e73dd",
   "metadata": {},
   "outputs": [],
   "source": [
    "def log_lr_shap_and_importance(model, X_val, y_val, pred_val, features, solver_name, target):\n",
    "\n",
    "    background = shap.sample(X_val, min(100, X_val.shape[0]), random_state=42)\n",
    "\n",
    "    try:\n",
    "        explainer = shap.KernelExplainer(model.predict, background)\n",
    "        shap_values = explainer.shap_values(X_val, nsamples=100)\n",
    "\n",
    "        shap_df = pd.DataFrame(shap_values, columns=features)\n",
    "        shap_df[\"predicted_value\"] = pred_val\n",
    "        shap_df[\"actual_value\"] = y_val.values\n",
    "        shap_df[\"target\"] = target\n",
    "        shap_df[\"solver\"] = solver_name\n",
    "\n",
    "        os.makedirs(\"./lr/lr_shap_values\", exist_ok=True)\n",
    "        shap_filename = f\"./lr/lr_shap_values/shap_{solver_name}_{target}_reg.csv\"\n",
    "        shap_df.to_csv(shap_filename, index=False)\n",
    "\n",
    "      \n",
    "        importance_df = pd.DataFrame({\n",
    "            \"feature\": features,\n",
    "            \"importance\": np.abs(shap_values).mean(axis=0),\n",
    "            \"coefficient\": model.coef_,\n",
    "            \"target\": target,\n",
    "            \"solver\": solver_name\n",
    "        })\n",
    "\n",
    "        os.makedirs(\"./lr/lr_feature_importance\", exist_ok=True)\n",
    "        importance_file = \"./lr/lr_feature_importance/lr_feature_importance_reg.csv\"\n",
    "        importance_df.to_csv(importance_file, mode='a', index=False, header=not os.path.exists(importance_file))\n",
    "\n",
    "        #  top-5 \n",
    "        top5_file = \"./lr/lr_feature_importance/lr_top5_feature_importance_reg.csv\"\n",
    "        importance_df.sort_values(by=\"importance\", ascending=False).head(5).to_csv(\n",
    "            top5_file, mode='a', index=False, header=not os.path.exists(top5_file)\n",
    "        )\n",
    "\n",
    "    except Exception as e:\n",
    "        print(f\"SHAP failed for {solver_name}-{target}: {e}\")"
   ]
  },
  {
   "cell_type": "code",
   "execution_count": null,
   "id": "d6425475",
   "metadata": {},
   "outputs": [],
   "source": [
    "def train_linear_for_solver(solver_name, train_file, test_file, val_file):\n",
    "    print(f\"\\nSolver: {solver_name}\")\n",
    "    df_train = pd.read_csv(train_file)\n",
    "    df_test = pd.read_csv(test_file)\n",
    "    df_val = pd.read_csv(val_file)\n",
    "        \n",
    "    df_train.dropna(inplace=True)\n",
    "    df_test.dropna(inplace=True)\n",
    "    df_val.dropna(inplace=True)\n",
    "\n",
    "    target_cols = [\"solution_time\", \"optimality_gap\", \"peak_memory\"]\n",
    "    features = [\n",
    "        \"number_of_elements\", \"capacity\", \"max_weight\", \"min_weight\", \"mean_weight\",\n",
    "        \"median_weight\", \"std_weight\", \"weight_range\", \"max_profit\", \"min_profit\", \"mean_profit\",\n",
    "        \"median_profit\", \"std_profit\", \"profit_range\", \"renting_ratio\", \"mean_weight_profit_ratio\",\n",
    "        \"median_weight_profit_ratio\", \"capacity_mean_weight_ratio\", \"capacity_median_weight_ratio\",\n",
    "        \"capacity_std_weight_ratio\", \"std_weight_profit_ratio\", \"weight_profit_correlation\",\n",
    "        \"ram\", \"cpu_cores\"\n",
    "    ]\n",
    "\n",
    "    for df in [df_train, df_test, df_val]:\n",
    "        for col in target_cols:\n",
    "            df[col] = pd.to_numeric(df[col], errors='coerce')\n",
    "            df.dropna(subset=[col], inplace=True)\n",
    "\n",
    "    scaler = StandardScaler()\n",
    "    X_train = scaler.fit_transform(df_train[features])\n",
    "    X_test = scaler.transform(df_test[features])\n",
    "    X_val = scaler.transform(df_val[features])\n",
    "    \n",
    "    results=[]\n",
    "\n",
    "    for target in target_cols:\n",
    "        y_train = df_train[target]\n",
    "        y_test = df_test[target]\n",
    "        y_val = df_val[target]\n",
    "\n",
    "        model = LinearRegression()\n",
    "        model.fit(X_train, y_train)\n",
    "\n",
    "        pred_test = model.predict(X_test)\n",
    "        pred_val = model.predict(X_val)\n",
    "\n",
    "        print(f\"Target: {target.upper()}\")\n",
    "        print(\"TEST\")\n",
    "        evaluate(y_test, pred_test, results, solver_name, label=f\"{target} (Test)\")\n",
    "        print(\"VAL\")\n",
    "        evaluate(y_val, pred_val, results, solver_name, label=f\"{target} (Val)\")\n",
    "        log_lr_shap_and_importance(model, X_val, y_val, pred_val, features, solver_name, target)\n",
    "        \n",
    "        \n",
    "        # Save model\n",
    "        os.makedirs(\"./lr_models\", exist_ok=True)\n",
    "        model_path = f\"./lr_models/lr_model_{solver_name}_{target}.joblib\"\n",
    "        joblib.dump(model, model_path)\n",
    "        print(f\"Saved model {model_path}\")\n",
    "\n",
    "\n",
    "\n",
    "\n",
    "    results_df = pd.DataFrame(results)\n",
    "    results_file = \"./lr_evaluation_results_reg.csv\"\n",
    "\n",
    "    if os.path.exists(results_file):\n",
    "        results_df.to_csv(results_file, mode='a', index=False, header=False)\n",
    "    else:\n",
    "        results_df.to_csv(results_file, index=False)"
   ]
  },
  {
   "cell_type": "code",
   "execution_count": 5,
   "id": "44184034",
   "metadata": {},
   "outputs": [],
   "source": [
    "def run_all_models(base_folder):\n",
    "    for root, dirs, files in os.walk(base_folder):\n",
    "        for folder in dirs:\n",
    "            folder_path = os.path.join(root, folder)\n",
    "            csv_files = os.listdir(folder_path)\n",
    "\n",
    "            train_file = [f for f in csv_files if f.endswith(\"_train.csv\")]\n",
    "            test_file = [f for f in csv_files if f.endswith(\"_test.csv\")]\n",
    "            val_file = [f for f in csv_files if f.endswith(\"_val.csv\")]\n",
    "\n",
    "            if train_file and test_file and val_file:\n",
    "                train_fp = os.path.join(folder_path, train_file[0])\n",
    "                test_fp = os.path.join(folder_path, test_file[0])\n",
    "                val_fp = os.path.join(folder_path, val_file[0])\n",
    "\n",
    "                solver_name = folder\n",
    "                train_linear_for_solver(solver_name, train_fp, test_fp, val_fp)"
   ]
  },
  {
   "cell_type": "code",
   "execution_count": null,
   "id": "8945c871",
   "metadata": {},
   "outputs": [
    {
     "name": "stdout",
     "output_type": "stream",
     "text": [
      "\n",
      "Solver: or_min\n",
      "Target: SOLUTION_TIME\n",
      " TEST\n",
      "VAL\n"
     ]
    },
    {
     "data": {
      "application/vnd.jupyter.widget-view+json": {
       "model_id": "9103eab142e94930986eecb0db5934fe",
       "version_major": 2,
       "version_minor": 0
      },
      "text/plain": [
       "  0%|          | 0/560 [00:00<?, ?it/s]"
      ]
     },
     "metadata": {},
     "output_type": "display_data"
    },
    {
     "name": "stdout",
     "output_type": "stream",
     "text": [
      "Saved Linear Regression model to ./results_min_kp/lr_models/lr_model_or_min_solution_time.joblib\n",
      "Target: OPTIMALITY_GAP\n",
      " TEST\n",
      "VAL\n"
     ]
    },
    {
     "data": {
      "application/vnd.jupyter.widget-view+json": {
       "model_id": "29a703adbbea46d4a15ad8dd999e4a0b",
       "version_major": 2,
       "version_minor": 0
      },
      "text/plain": [
       "  0%|          | 0/560 [00:00<?, ?it/s]"
      ]
     },
     "metadata": {},
     "output_type": "display_data"
    },
    {
     "name": "stdout",
     "output_type": "stream",
     "text": [
      "Saved Linear Regression model to ./results_min_kp/lr_models/lr_model_or_min_optimality_gap.joblib\n",
      "Target: PEAK_MEMORY\n",
      " TEST\n",
      "VAL\n"
     ]
    },
    {
     "data": {
      "application/vnd.jupyter.widget-view+json": {
       "model_id": "880465f26f8b41abba0c259c1e661d24",
       "version_major": 2,
       "version_minor": 0
      },
      "text/plain": [
       "  0%|          | 0/560 [00:00<?, ?it/s]"
      ]
     },
     "metadata": {},
     "output_type": "display_data"
    },
    {
     "name": "stdout",
     "output_type": "stream",
     "text": [
      "Saved Linear Regression model to ./results_min_kp/lr_models/lr_model_or_min_peak_memory.joblib\n",
      "\n",
      "Solver: gurobi_min\n",
      "Target: SOLUTION_TIME\n",
      " TEST\n",
      "VAL\n"
     ]
    },
    {
     "data": {
      "application/vnd.jupyter.widget-view+json": {
       "model_id": "a3447e012e654562a533e42b21c5d380",
       "version_major": 2,
       "version_minor": 0
      },
      "text/plain": [
       "  0%|          | 0/560 [00:00<?, ?it/s]"
      ]
     },
     "metadata": {},
     "output_type": "display_data"
    },
    {
     "name": "stdout",
     "output_type": "stream",
     "text": [
      "Saved Linear Regression model to ./results_min_kp/lr_models/lr_model_gurobi_min_solution_time.joblib\n",
      "Target: OPTIMALITY_GAP\n",
      " TEST\n",
      "VAL\n"
     ]
    },
    {
     "name": "stderr",
     "output_type": "stream",
     "text": [
      "/tmp/ipykernel_2859945/4068784991.py:6: RuntimeWarning: invalid value encountered in scalar divide\n",
      "  rel_rmse = rmse / np.mean(y_true)\n",
      "/tmp/ipykernel_2859945/4068784991.py:6: RuntimeWarning: invalid value encountered in scalar divide\n",
      "  rel_rmse = rmse / np.mean(y_true)\n"
     ]
    },
    {
     "data": {
      "application/vnd.jupyter.widget-view+json": {
       "model_id": "480010c3a6844add80f32a9960950f2e",
       "version_major": 2,
       "version_minor": 0
      },
      "text/plain": [
       "  0%|          | 0/560 [00:00<?, ?it/s]"
      ]
     },
     "metadata": {},
     "output_type": "display_data"
    },
    {
     "name": "stdout",
     "output_type": "stream",
     "text": [
      "Saved Linear Regression model to ./results_min_kp/lr_models/lr_model_gurobi_min_optimality_gap.joblib\n",
      "Target: PEAK_MEMORY\n",
      " TEST\n",
      "VAL\n"
     ]
    },
    {
     "data": {
      "application/vnd.jupyter.widget-view+json": {
       "model_id": "c80de5b0baa849cf9f3fa5e81ef0fd9e",
       "version_major": 2,
       "version_minor": 0
      },
      "text/plain": [
       "  0%|          | 0/560 [00:00<?, ?it/s]"
      ]
     },
     "metadata": {},
     "output_type": "display_data"
    },
    {
     "name": "stdout",
     "output_type": "stream",
     "text": [
      "Saved Linear Regression model to ./results_min_kp/lr_models/lr_model_gurobi_min_peak_memory.joblib\n",
      "\n",
      "Solver: greedy_min\n",
      "Target: SOLUTION_TIME\n",
      " TEST\n",
      "VAL\n"
     ]
    },
    {
     "data": {
      "application/vnd.jupyter.widget-view+json": {
       "model_id": "c476ebde74bb456b90504f4645e47b41",
       "version_major": 2,
       "version_minor": 0
      },
      "text/plain": [
       "  0%|          | 0/560 [00:00<?, ?it/s]"
      ]
     },
     "metadata": {},
     "output_type": "display_data"
    },
    {
     "name": "stdout",
     "output_type": "stream",
     "text": [
      "Saved Linear Regression model to ./results_min_kp/lr_models/lr_model_greedy_min_solution_time.joblib\n",
      "Target: OPTIMALITY_GAP\n",
      " TEST\n",
      "VAL\n"
     ]
    },
    {
     "data": {
      "application/vnd.jupyter.widget-view+json": {
       "model_id": "452b56ad117e4df4a3f2d759abb1f03e",
       "version_major": 2,
       "version_minor": 0
      },
      "text/plain": [
       "  0%|          | 0/560 [00:00<?, ?it/s]"
      ]
     },
     "metadata": {},
     "output_type": "display_data"
    },
    {
     "name": "stdout",
     "output_type": "stream",
     "text": [
      "Saved Linear Regression model to ./results_min_kp/lr_models/lr_model_greedy_min_optimality_gap.joblib\n",
      "Target: PEAK_MEMORY\n",
      " TEST\n",
      "VAL\n"
     ]
    },
    {
     "data": {
      "application/vnd.jupyter.widget-view+json": {
       "model_id": "472173d4d89e4b4a81fde42a87496dc0",
       "version_major": 2,
       "version_minor": 0
      },
      "text/plain": [
       "  0%|          | 0/560 [00:00<?, ?it/s]"
      ]
     },
     "metadata": {},
     "output_type": "display_data"
    },
    {
     "name": "stdout",
     "output_type": "stream",
     "text": [
      "Saved Linear Regression model to ./results_min_kp/lr_models/lr_model_greedy_min_peak_memory.joblib\n",
      "\n",
      "Solver: ga_min\n",
      "Target: SOLUTION_TIME\n",
      " TEST\n",
      "VAL\n"
     ]
    },
    {
     "data": {
      "application/vnd.jupyter.widget-view+json": {
       "model_id": "890568dd10fa451285cd69cc4865d1f4",
       "version_major": 2,
       "version_minor": 0
      },
      "text/plain": [
       "  0%|          | 0/560 [00:00<?, ?it/s]"
      ]
     },
     "metadata": {},
     "output_type": "display_data"
    },
    {
     "name": "stdout",
     "output_type": "stream",
     "text": [
      "Saved Linear Regression model to ./results_min_kp/lr_models/lr_model_ga_min_solution_time.joblib\n",
      "Target: OPTIMALITY_GAP\n",
      " TEST\n",
      "VAL\n"
     ]
    },
    {
     "data": {
      "application/vnd.jupyter.widget-view+json": {
       "model_id": "cfeb1e61df3a4e51865579eadcbd1040",
       "version_major": 2,
       "version_minor": 0
      },
      "text/plain": [
       "  0%|          | 0/560 [00:00<?, ?it/s]"
      ]
     },
     "metadata": {},
     "output_type": "display_data"
    },
    {
     "name": "stdout",
     "output_type": "stream",
     "text": [
      "Saved Linear Regression model to ./results_min_kp/lr_models/lr_model_ga_min_optimality_gap.joblib\n",
      "Target: PEAK_MEMORY\n",
      " TEST\n",
      "VAL\n"
     ]
    },
    {
     "data": {
      "application/vnd.jupyter.widget-view+json": {
       "model_id": "abd47da773604974b7f60e7dca080c0c",
       "version_major": 2,
       "version_minor": 0
      },
      "text/plain": [
       "  0%|          | 0/560 [00:00<?, ?it/s]"
      ]
     },
     "metadata": {},
     "output_type": "display_data"
    },
    {
     "name": "stdout",
     "output_type": "stream",
     "text": [
      "Saved Linear Regression model to ./results_min_kp/lr_models/lr_model_ga_min_peak_memory.joblib\n",
      "\n",
      "Solver: dp_min\n",
      "Target: SOLUTION_TIME\n",
      " TEST\n",
      "VAL\n"
     ]
    },
    {
     "data": {
      "application/vnd.jupyter.widget-view+json": {
       "model_id": "4742b849144445f59fc0419c5d042626",
       "version_major": 2,
       "version_minor": 0
      },
      "text/plain": [
       "  0%|          | 0/560 [00:00<?, ?it/s]"
      ]
     },
     "metadata": {},
     "output_type": "display_data"
    },
    {
     "name": "stdout",
     "output_type": "stream",
     "text": [
      "Saved Linear Regression model to ./results_min_kp/lr_models/lr_model_dp_min_solution_time.joblib\n",
      "Target: OPTIMALITY_GAP\n",
      " TEST\n",
      "VAL\n"
     ]
    },
    {
     "data": {
      "application/vnd.jupyter.widget-view+json": {
       "model_id": "14ae871d41134b08aeb9fc52dc3f4e38",
       "version_major": 2,
       "version_minor": 0
      },
      "text/plain": [
       "  0%|          | 0/560 [00:00<?, ?it/s]"
      ]
     },
     "metadata": {},
     "output_type": "display_data"
    },
    {
     "name": "stdout",
     "output_type": "stream",
     "text": [
      "Saved Linear Regression model to ./results_min_kp/lr_models/lr_model_dp_min_optimality_gap.joblib\n",
      "Target: PEAK_MEMORY\n",
      " TEST\n",
      "VAL\n"
     ]
    },
    {
     "data": {
      "application/vnd.jupyter.widget-view+json": {
       "model_id": "fd7d77229a164796a6b113a5afbcb4cf",
       "version_major": 2,
       "version_minor": 0
      },
      "text/plain": [
       "  0%|          | 0/560 [00:00<?, ?it/s]"
      ]
     },
     "metadata": {},
     "output_type": "display_data"
    },
    {
     "name": "stdout",
     "output_type": "stream",
     "text": [
      "Saved Linear Regression model to ./results_min_kp/lr_models/lr_model_dp_min_peak_memory.joblib\n",
      "\n",
      "Solver: bb_min\n",
      "Target: SOLUTION_TIME\n",
      " TEST\n",
      "VAL\n"
     ]
    },
    {
     "data": {
      "application/vnd.jupyter.widget-view+json": {
       "model_id": "3a164a8a20984756832932784269a2bb",
       "version_major": 2,
       "version_minor": 0
      },
      "text/plain": [
       "  0%|          | 0/560 [00:00<?, ?it/s]"
      ]
     },
     "metadata": {},
     "output_type": "display_data"
    },
    {
     "name": "stdout",
     "output_type": "stream",
     "text": [
      "Saved Linear Regression model to ./results_min_kp/lr_models/lr_model_bb_min_solution_time.joblib\n",
      "Target: OPTIMALITY_GAP\n",
      " TEST\n",
      "VAL\n"
     ]
    },
    {
     "data": {
      "application/vnd.jupyter.widget-view+json": {
       "model_id": "5702bd5bc6f04e81aa20db7294b6dc16",
       "version_major": 2,
       "version_minor": 0
      },
      "text/plain": [
       "  0%|          | 0/560 [00:00<?, ?it/s]"
      ]
     },
     "metadata": {},
     "output_type": "display_data"
    },
    {
     "name": "stdout",
     "output_type": "stream",
     "text": [
      "Saved Linear Regression model to ./results_min_kp/lr_models/lr_model_bb_min_optimality_gap.joblib\n",
      "Target: PEAK_MEMORY\n",
      " TEST\n",
      "VAL\n"
     ]
    },
    {
     "data": {
      "application/vnd.jupyter.widget-view+json": {
       "model_id": "d5f07b12d3b84486a315d5797d164930",
       "version_major": 2,
       "version_minor": 0
      },
      "text/plain": [
       "  0%|          | 0/560 [00:00<?, ?it/s]"
      ]
     },
     "metadata": {},
     "output_type": "display_data"
    },
    {
     "name": "stdout",
     "output_type": "stream",
     "text": [
      "Saved Linear Regression model to ./results_min_kp/lr_models/lr_model_bb_min_peak_memory.joblib\n"
     ]
    }
   ],
   "source": [
    "base_folder = \"./trainingData/final_td_min\"  #Path to training data\n",
    "run_all_models(base_folder)"
   ]
  },
  {
   "cell_type": "code",
   "execution_count": null,
   "id": "0f7c1eb6",
   "metadata": {},
   "outputs": [],
   "source": []
  }
 ],
 "metadata": {
  "kernelspec": {
   "display_name": "Python [conda env:ollama_gpu]",
   "language": "python",
   "name": "conda-env-ollama_gpu-py"
  },
  "language_info": {
   "codemirror_mode": {
    "name": "ipython",
    "version": 3
   },
   "file_extension": ".py",
   "mimetype": "text/x-python",
   "name": "python",
   "nbconvert_exporter": "python",
   "pygments_lexer": "ipython3",
   "version": "3.12.8"
  }
 },
 "nbformat": 4,
 "nbformat_minor": 5
}
