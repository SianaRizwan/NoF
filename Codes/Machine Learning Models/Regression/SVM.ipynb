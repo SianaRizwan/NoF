{
 "cells": [
  {
   "cell_type": "code",
   "execution_count": 2,
   "id": "037c6e2b",
   "metadata": {},
   "outputs": [],
   "source": [
    "import os\n",
    "import json\n",
    "import pandas as pd\n",
    "import numpy as np\n",
    "import joblib\n",
    "from sklearn.preprocessing import StandardScaler\n",
    "from sklearn.svm import SVR\n",
    "from sklearn.metrics import mean_absolute_error, mean_squared_error, r2_score\n",
    "import shap\n",
    "from sklearn.model_selection import ParameterGrid"
   ]
  },
  {
   "cell_type": "code",
   "execution_count": 3,
   "id": "a10812e5",
   "metadata": {},
   "outputs": [],
   "source": [
    "def evaluate(y_true, y_pred, results, solver_name, label):\n",
    "    mae = mean_absolute_error(y_true, y_pred)\n",
    "    mse = mean_squared_error(y_true, y_pred)\n",
    "    rmse = np.sqrt(mse)\n",
    "    r2 = r2_score(y_true, y_pred)\n",
    "    rel_rmse = rmse / np.mean(y_true)\n",
    "\n",
    "    safe_y_true = np.where(y_true == 0, 1e-8, y_true)\n",
    "    mape = np.mean(np.abs((y_true - y_pred) / safe_y_true)) * 100\n",
    "\n",
    "    result = {\n",
    "        \"Solver\": solver_name,\n",
    "        \"Dataset\": label,\n",
    "        \"MAE\": mae,\n",
    "        \"MSE\": mse,\n",
    "        \"RMSE\": rmse,\n",
    "        \"R2\": r2,\n",
    "        \"Rel_RMSE\": rel_rmse,\n",
    "        \"MAPE (%)\": mape,\n",
    "    }\n",
    "    results.append(result)"
   ]
  },
  {
   "cell_type": "code",
   "execution_count": null,
   "id": "5073a669",
   "metadata": {},
   "outputs": [],
   "source": [
    "def log_svm_shap_and_importance(model, X_val, y_val, pred_val, features, solver_name, target):\n",
    "   \n",
    "    background = shap.sample(X_val, min(100, X_val.shape[0]), random_state=42)\n",
    "\n",
    "    try:\n",
    "        explainer = shap.KernelExplainer(model.predict, background)\n",
    "        shap_values = explainer.shap_values(X_val, nsamples=100)\n",
    "\n",
    "        shap_df = pd.DataFrame(shap_values, columns=features)\n",
    "        shap_df[\"predicted_value\"] = pred_val\n",
    "        shap_df[\"actual_value\"] = y_val\n",
    "        shap_df[\"target\"] = target\n",
    "        shap_df[\"solver\"] = solver_name\n",
    "\n",
    "        os.makedirs(\"./svm/svm_shap_values\", exist_ok=True)\n",
    "        shap_filename = f\"./svm/svm_shap_values_scaled/shap_{solver_name}_{target}_reg.csv\"\n",
    "        shap_df.to_csv(shap_filename, index=False)\n",
    "\n",
    "        # Feature importance\n",
    "        importance_df = pd.DataFrame({\n",
    "            \"feature\": features,\n",
    "            \"importance\": np.abs(shap_values).mean(axis=0),\n",
    "            \"target\": target,\n",
    "            \"solver\": solver_name\n",
    "        })\n",
    "\n",
    "        os.makedirs(\"./svm/svm_feature_importance\", exist_ok=True)\n",
    "        importance_file = \"./svm/svm_feature_importance/svm_feature_importance_reg.csv\"\n",
    "        importance_df.to_csv(importance_file, mode='a', index=False, header=not os.path.exists(importance_file))\n",
    "\n",
    "        # Top 5 features\n",
    "        top5_file = \"./svm/svm_feature_importance/svm_top5_feature_importance_reg.csv\"\n",
    "        importance_df.sort_values(by=\"importance\", ascending=False).head(5).to_csv(\n",
    "            top5_file, mode='a', index=False, header=not os.path.exists(top5_file)\n",
    "        )\n",
    "\n",
    "    except Exception as e:\n",
    "        print(f\"SHAP failed for {solver_name}-{target}: {e}\")"
   ]
  },
  {
   "cell_type": "code",
   "execution_count": null,
   "id": "139db879",
   "metadata": {},
   "outputs": [],
   "source": [
    "def train_and_evaluate_model(solver_name, train_file, test_file, val_file):\n",
    "    df_train = pd.read_csv(train_file)\n",
    "    df_test = pd.read_csv(test_file)\n",
    "    df_val = pd.read_csv(val_file)\n",
    "\n",
    "    df_train.dropna(inplace=True)\n",
    "    df_test.dropna(inplace=True)\n",
    "    df_val.dropna(inplace=True)\n",
    "\n",
    "    target_cols = [\"solution_time\", \"optimality_gap\", \"peak_memory\"]\n",
    "    features = [\n",
    "        \"number_of_elements\", \"capacity\", \"max_weight\", \"min_weight\", \"mean_weight\",\n",
    "        \"median_weight\", \"std_weight\", \"weight_range\", \"max_profit\", \"min_profit\", \"mean_profit\",\n",
    "        \"median_profit\", \"std_profit\", \"profit_range\", \"renting_ratio\", \"mean_weight_profit_ratio\",\n",
    "        \"median_weight_profit_ratio\", \"capacity_mean_weight_ratio\", \"capacity_median_weight_ratio\",\n",
    "        \"capacity_std_weight_ratio\", \"std_weight_profit_ratio\", \"weight_profit_correlation\",\n",
    "        \"ram\", \"cpu_cores\"\n",
    "    ]\n",
    "\n",
    "    for df in [df_train, df_test, df_val]:\n",
    "        for col in target_cols:\n",
    "            df[col] = pd.to_numeric(df[col], errors='coerce')\n",
    "            df.dropna(subset=[col], inplace=True)\n",
    "\n",
    "    scaler = StandardScaler()\n",
    "    X_train = scaler.fit_transform(df_train[features])\n",
    "    X_test = scaler.transform(df_test[features])\n",
    "    X_val = scaler.transform(df_val[features])\n",
    "\n",
    "    os.makedirs(\"./svm_tuning\", exist_ok=True)\n",
    "    os.makedirs(\"./svm_configs\", exist_ok=True)\n",
    "    results = []\n",
    "\n",
    "    for target in target_cols:\n",
    "        y_train = df_train[target].values\n",
    "        y_test = df_test[target].values\n",
    "        y_val = df_val[target].values\n",
    "\n",
    "        y_scaler = StandardScaler()\n",
    "        y_train_scaled = y_scaler.fit_transform(y_train.reshape(-1, 1)).flatten()\n",
    "        y_test_scaled = y_scaler.transform(y_test.reshape(-1, 1)).flatten()\n",
    "        y_val_scaled = y_scaler.transform(y_val.reshape(-1, 1)).flatten()\n",
    "\n",
    "        param_grid = {\n",
    "            \"C\": [10, 100],\n",
    "            \"epsilon\": [0.01, 0.1],\n",
    "            \"kernel\": [\"rbf\", \"linear\"]\n",
    "        }\n",
    "\n",
    "        best_rmse = float(\"inf\")\n",
    "        best_model = None\n",
    "        best_config = None\n",
    "        tuning_logs = []\n",
    "\n",
    "        for params in ParameterGrid(param_grid):\n",
    "            model = SVR(**params)\n",
    "            model.fit(X_train, y_train_scaled)\n",
    "\n",
    "            pred_val_scaled = model.predict(X_val)\n",
    "            pred_val = y_scaler.inverse_transform(pred_val_scaled.reshape(-1, 1)).flatten()\n",
    "            y_val_orig = y_scaler.inverse_transform(y_val_scaled.reshape(-1, 1)).flatten()\n",
    "\n",
    "            rmse = np.sqrt(mean_squared_error(y_val_orig, pred_val))\n",
    "            tuning_logs.append({**params, \"rmse\": rmse})\n",
    "\n",
    "            if rmse < best_rmse:\n",
    "                best_rmse = rmse\n",
    "                best_model = model\n",
    "                best_config = params\n",
    "                best_y_test = y_scaler.inverse_transform(y_test_scaled.reshape(-1, 1)).flatten()\n",
    "                best_y_val = y_val_orig\n",
    "                best_pred_test = y_scaler.inverse_transform(model.predict(X_test).reshape(-1, 1)).flatten()\n",
    "                best_pred_val = pred_val\n",
    "\n",
    "        # Save tuning logs and best config\n",
    "        pd.DataFrame(tuning_logs).to_csv(\n",
    "            f\"./svm_tuning/tuning_svm_{solver_name}_{target}.csv\", index=False\n",
    "        )\n",
    "        with open(f\"./svm_configs/best_svm_{solver_name}_{target}.json\", \"w\") as f:\n",
    "            json.dump(best_config, f, indent=4)\n",
    "\n",
    "        print(f\"\\nTarget: {target.upper()} | Best Params: {best_config}\")\n",
    "        print(\"[TEST]\")\n",
    "        evaluate(best_y_test, best_pred_test, results, solver_name, f\"{target} (Test)\")\n",
    "        print(\"[VAL]\")\n",
    "        evaluate(best_y_val, best_pred_val, results, solver_name, f\"{target} (Val)\")\n",
    "        \n",
    "        os.makedirs(\"./svm_models\", exist_ok=True)\n",
    "        model_path = f\"./svm_models/svm_model_{solver_name}_{target}.joblib\"\n",
    "        joblib.dump(best_model, model_path)\n",
    "        print(f\"Saved model to {model_path}\")\n",
    "\n",
    "        log_svm_shap_and_importance(best_model, X_val, best_y_val, best_pred_val, features, solver_name, target)\n",
    "\n",
    "    results_df = pd.DataFrame(results)\n",
    "    results_file = \"./svm_evaluation_results_reg.csv\"\n",
    "    results_df.to_csv(results_file, mode='a', index=False, header=not os.path.exists(results_file))"
   ]
  },
  {
   "cell_type": "code",
   "execution_count": null,
   "id": "0fd18bea",
   "metadata": {},
   "outputs": [],
   "source": [
    "def run_all_models(base_folder):\n",
    "    for root, dirs, files in os.walk(base_folder):\n",
    "        for folder in dirs:\n",
    "            folder_path = os.path.join(root, folder)\n",
    "            csv_files = os.listdir(folder_path)\n",
    "\n",
    "            train_file = [f for f in csv_files if f.endswith(\"_train.csv\")]\n",
    "            test_file = [f for f in csv_files if f.endswith(\"_test.csv\")]\n",
    "            val_file = [f for f in csv_files if f.endswith(\"_val.csv\")]\n",
    "\n",
    "            if train_file and test_file and val_file:\n",
    "                train_fp = os.path.join(folder_path, train_file[0])\n",
    "                test_fp = os.path.join(folder_path, test_file[0])\n",
    "                val_fp = os.path.join(folder_path, val_file[0])\n",
    "\n",
    "                solver_name = folder  \n",
    "                train_and_evaluate_model(solver_name, train_fp, test_fp, val_fp)"
   ]
  },
  {
   "cell_type": "code",
   "execution_count": null,
   "id": "8c909fcc",
   "metadata": {},
   "outputs": [
    {
     "name": "stdout",
     "output_type": "stream",
     "text": [
      "\n",
      "Target: SOLUTION_TIME | Best Params: {'C': 10, 'epsilon': 0.01, 'kernel': 'rbf'}\n",
      "[TEST]\n",
      "[VAL]\n",
      "Saved SVM model to ./results_min_kp/svm_models/svm_model_or_min_solution_time.joblib\n"
     ]
    },
    {
     "data": {
      "application/vnd.jupyter.widget-view+json": {
       "model_id": "b2bc629340c84c538aeb7b0969b75868",
       "version_major": 2,
       "version_minor": 0
      },
      "text/plain": [
       "  0%|          | 0/560 [00:00<?, ?it/s]"
      ]
     },
     "metadata": {},
     "output_type": "display_data"
    },
    {
     "name": "stdout",
     "output_type": "stream",
     "text": [
      "SHAP computation failed for or_min-solution_time: Cannot save file into a non-existent directory: 'results_min_kp/svm/svm_shap_values_scaled'\n",
      "\n",
      "Target: OPTIMALITY_GAP | Best Params: {'C': 10, 'epsilon': 0.1, 'kernel': 'linear'}\n",
      "[TEST]\n",
      "[VAL]\n",
      "Saved SVM model to ./results_min_kp/svm_models/svm_model_or_min_optimality_gap.joblib\n"
     ]
    },
    {
     "data": {
      "application/vnd.jupyter.widget-view+json": {
       "model_id": "d52475d05e09402fae52369d27b245c8",
       "version_major": 2,
       "version_minor": 0
      },
      "text/plain": [
       "  0%|          | 0/560 [00:00<?, ?it/s]"
      ]
     },
     "metadata": {},
     "output_type": "display_data"
    },
    {
     "name": "stdout",
     "output_type": "stream",
     "text": [
      "SHAP computation failed for or_min-optimality_gap: Cannot save file into a non-existent directory: 'results_min_kp/svm/svm_shap_values_scaled'\n",
      "\n",
      "Target: PEAK_MEMORY | Best Params: {'C': 10, 'epsilon': 0.1, 'kernel': 'rbf'}\n",
      "[TEST]\n",
      "[VAL]\n",
      "Saved SVM model to ./results_min_kp/svm_models/svm_model_or_min_peak_memory.joblib\n"
     ]
    },
    {
     "data": {
      "application/vnd.jupyter.widget-view+json": {
       "model_id": "0d8cca057a5644d194a3c360d247fb25",
       "version_major": 2,
       "version_minor": 0
      },
      "text/plain": [
       "  0%|          | 0/560 [00:00<?, ?it/s]"
      ]
     },
     "metadata": {},
     "output_type": "display_data"
    },
    {
     "name": "stdout",
     "output_type": "stream",
     "text": [
      "SHAP computation failed for or_min-peak_memory: Cannot save file into a non-existent directory: 'results_min_kp/svm/svm_shap_values_scaled'\n",
      "\n",
      "Target: SOLUTION_TIME | Best Params: {'C': 10, 'epsilon': 0.1, 'kernel': 'rbf'}\n",
      "[TEST]\n",
      "[VAL]\n",
      "Saved SVM model to ./results_min_kp/svm_models/svm_model_gurobi_min_solution_time.joblib\n"
     ]
    },
    {
     "data": {
      "application/vnd.jupyter.widget-view+json": {
       "model_id": "1aa2b73b4c2443a7b2d79346daf75938",
       "version_major": 2,
       "version_minor": 0
      },
      "text/plain": [
       "  0%|          | 0/560 [00:00<?, ?it/s]"
      ]
     },
     "metadata": {},
     "output_type": "display_data"
    },
    {
     "name": "stdout",
     "output_type": "stream",
     "text": [
      "SHAP computation failed for gurobi_min-solution_time: Cannot save file into a non-existent directory: 'results_min_kp/svm/svm_shap_values_scaled'\n",
      "\n",
      "Target: OPTIMALITY_GAP | Best Params: {'C': 10, 'epsilon': 0.01, 'kernel': 'rbf'}\n",
      "[TEST]\n",
      "[VAL]\n",
      "Saved SVM model to ./results_min_kp/svm_models/svm_model_gurobi_min_optimality_gap.joblib\n"
     ]
    },
    {
     "name": "stderr",
     "output_type": "stream",
     "text": [
      "/tmp/ipykernel_1524531/4068784991.py:6: RuntimeWarning: invalid value encountered in scalar divide\n",
      "  rel_rmse = rmse / np.mean(y_true)\n",
      "/tmp/ipykernel_1524531/4068784991.py:6: RuntimeWarning: invalid value encountered in scalar divide\n",
      "  rel_rmse = rmse / np.mean(y_true)\n"
     ]
    },
    {
     "data": {
      "application/vnd.jupyter.widget-view+json": {
       "model_id": "60e6dfaf3b9d4efb97831b796c36994e",
       "version_major": 2,
       "version_minor": 0
      },
      "text/plain": [
       "  0%|          | 0/560 [00:00<?, ?it/s]"
      ]
     },
     "metadata": {},
     "output_type": "display_data"
    },
    {
     "name": "stdout",
     "output_type": "stream",
     "text": [
      "SHAP computation failed for gurobi_min-optimality_gap: Cannot save file into a non-existent directory: 'results_min_kp/svm/svm_shap_values_scaled'\n",
      "\n",
      "Target: PEAK_MEMORY | Best Params: {'C': 10, 'epsilon': 0.01, 'kernel': 'rbf'}\n",
      "[TEST]\n",
      "[VAL]\n",
      "Saved SVM model to ./results_min_kp/svm_models/svm_model_gurobi_min_peak_memory.joblib\n"
     ]
    },
    {
     "data": {
      "application/vnd.jupyter.widget-view+json": {
       "model_id": "5c132873ba54462d8decaf66d5122c0b",
       "version_major": 2,
       "version_minor": 0
      },
      "text/plain": [
       "  0%|          | 0/560 [00:00<?, ?it/s]"
      ]
     },
     "metadata": {},
     "output_type": "display_data"
    },
    {
     "name": "stdout",
     "output_type": "stream",
     "text": [
      "SHAP computation failed for gurobi_min-peak_memory: Cannot save file into a non-existent directory: 'results_min_kp/svm/svm_shap_values_scaled'\n",
      "\n",
      "Target: SOLUTION_TIME | Best Params: {'C': 10, 'epsilon': 0.01, 'kernel': 'linear'}\n",
      "[TEST]\n",
      "[VAL]\n",
      "Saved SVM model to ./results_min_kp/svm_models/svm_model_greedy_min_solution_time.joblib\n"
     ]
    },
    {
     "data": {
      "application/vnd.jupyter.widget-view+json": {
       "model_id": "11b40ec0b04f4809b2ff2c002b66cf16",
       "version_major": 2,
       "version_minor": 0
      },
      "text/plain": [
       "  0%|          | 0/560 [00:00<?, ?it/s]"
      ]
     },
     "metadata": {},
     "output_type": "display_data"
    },
    {
     "name": "stdout",
     "output_type": "stream",
     "text": [
      "SHAP computation failed for greedy_min-solution_time: Cannot save file into a non-existent directory: 'results_min_kp/svm/svm_shap_values_scaled'\n",
      "\n",
      "Target: OPTIMALITY_GAP | Best Params: {'C': 10, 'epsilon': 0.1, 'kernel': 'rbf'}\n",
      "[TEST]\n",
      "[VAL]\n",
      "Saved SVM model to ./results_min_kp/svm_models/svm_model_greedy_min_optimality_gap.joblib\n"
     ]
    },
    {
     "data": {
      "application/vnd.jupyter.widget-view+json": {
       "model_id": "953071d8564b40009d3303f238476c6c",
       "version_major": 2,
       "version_minor": 0
      },
      "text/plain": [
       "  0%|          | 0/560 [00:00<?, ?it/s]"
      ]
     },
     "metadata": {},
     "output_type": "display_data"
    },
    {
     "name": "stdout",
     "output_type": "stream",
     "text": [
      "SHAP computation failed for greedy_min-optimality_gap: Cannot save file into a non-existent directory: 'results_min_kp/svm/svm_shap_values_scaled'\n",
      "\n",
      "Target: PEAK_MEMORY | Best Params: {'C': 10, 'epsilon': 0.01, 'kernel': 'rbf'}\n",
      "[TEST]\n",
      "[VAL]\n",
      "Saved SVM model to ./results_min_kp/svm_models/svm_model_greedy_min_peak_memory.joblib\n"
     ]
    },
    {
     "data": {
      "application/vnd.jupyter.widget-view+json": {
       "model_id": "9e64f27e79924c94bd41bf80261eb3c4",
       "version_major": 2,
       "version_minor": 0
      },
      "text/plain": [
       "  0%|          | 0/560 [00:00<?, ?it/s]"
      ]
     },
     "metadata": {},
     "output_type": "display_data"
    },
    {
     "name": "stdout",
     "output_type": "stream",
     "text": [
      "SHAP computation failed for greedy_min-peak_memory: Cannot save file into a non-existent directory: 'results_min_kp/svm/svm_shap_values_scaled'\n",
      "\n",
      "Target: SOLUTION_TIME | Best Params: {'C': 10, 'epsilon': 0.01, 'kernel': 'linear'}\n",
      "[TEST]\n",
      "[VAL]\n",
      "Saved SVM model to ./results_min_kp/svm_models/svm_model_ga_min_solution_time.joblib\n"
     ]
    },
    {
     "data": {
      "application/vnd.jupyter.widget-view+json": {
       "model_id": "f9534ee120624d7fa536585ef089884b",
       "version_major": 2,
       "version_minor": 0
      },
      "text/plain": [
       "  0%|          | 0/560 [00:00<?, ?it/s]"
      ]
     },
     "metadata": {},
     "output_type": "display_data"
    },
    {
     "name": "stdout",
     "output_type": "stream",
     "text": [
      "SHAP computation failed for ga_min-solution_time: Cannot save file into a non-existent directory: 'results_min_kp/svm/svm_shap_values_scaled'\n",
      "\n",
      "Target: OPTIMALITY_GAP | Best Params: {'C': 100, 'epsilon': 0.1, 'kernel': 'rbf'}\n",
      "[TEST]\n",
      "[VAL]\n",
      "Saved SVM model to ./results_min_kp/svm_models/svm_model_ga_min_optimality_gap.joblib\n"
     ]
    },
    {
     "data": {
      "application/vnd.jupyter.widget-view+json": {
       "model_id": "ea5ef8b34d4b44779da67d25930915de",
       "version_major": 2,
       "version_minor": 0
      },
      "text/plain": [
       "  0%|          | 0/560 [00:00<?, ?it/s]"
      ]
     },
     "metadata": {},
     "output_type": "display_data"
    },
    {
     "name": "stderr",
     "output_type": "stream",
     "text": [
      "IOPub message rate exceeded.\n",
      "The Jupyter server will temporarily stop sending output\n",
      "to the client in order to avoid crashing it.\n",
      "To change this limit, set the config variable\n",
      "`--ServerApp.iopub_msg_rate_limit`.\n",
      "\n",
      "Current values:\n",
      "ServerApp.iopub_msg_rate_limit=1000.0 (msgs/sec)\n",
      "ServerApp.rate_limit_window=3.0 (secs)\n",
      "\n"
     ]
    }
   ],
   "source": [
    "base_folder = \"./trainingData/final_td_min\"  #Path to training data\n",
    "run_all_models(base_folder)"
   ]
  },
  {
   "cell_type": "code",
   "execution_count": null,
   "id": "ba06cb38",
   "metadata": {},
   "outputs": [],
   "source": []
  }
 ],
 "metadata": {
  "kernelspec": {
   "display_name": "Python [conda env:torch-gpu]",
   "language": "python",
   "name": "conda-env-torch-gpu-py"
  },
  "language_info": {
   "codemirror_mode": {
    "name": "ipython",
    "version": 3
   },
   "file_extension": ".py",
   "mimetype": "text/x-python",
   "name": "python",
   "nbconvert_exporter": "python",
   "pygments_lexer": "ipython3",
   "version": "3.12.8"
  }
 },
 "nbformat": 4,
 "nbformat_minor": 5
}
