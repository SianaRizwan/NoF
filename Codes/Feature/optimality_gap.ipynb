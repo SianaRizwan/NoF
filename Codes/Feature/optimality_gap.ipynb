{
 "cells": [
  {
   "cell_type": "code",
   "execution_count": null,
   "id": "6f3eeb66-aa5b-4694-af09-7fc539915cd1",
   "metadata": {},
   "outputs": [],
   "source": [
    "import os\n",
    "import pandas as pd\n",
    "\n",
    "def calculate_optimality_gap(folder_path):\n",
    "    for filename in os.listdir(folder_path):\n",
    "        if filename.endswith(\".csv\"):\n",
    "            file_path = os.path.join(folder_path, filename)\n",
    "            try:\n",
    "                df = pd.read_csv(file_path)\n",
    "                if \"gurobi\" in df.columns and \"Total Profit\" in df.columns:\n",
    "                    df[\"optimality_gap\"] = ((df[\"gurobi\"] - df[\"Total Profit\"]).abs() / df[\"gurobi\"].replace(0, 1e-8)) * 100\n",
    "                    df.to_csv(file_path, index=False)\n",
    "                else:\n",
    "                    print(f\"Missing columns: {filename}\")\n",
    "            except Exception as e:\n",
    "                print(f\"Error {filename}: {e}\")\n",
    "\n",
    "# Specify the folder path containing all the csv's to be processed\n",
    "folder = \"folder_path\"\n",
    "calculate_optimality_gap(folder)\n"
   ]
  },
  {
   "cell_type": "code",
   "execution_count": null,
   "id": "b6ac8657-0df8-4e18-92ad-4bcb74ffc94f",
   "metadata": {},
   "outputs": [],
   "source": []
  }
 ],
 "metadata": {
  "kernelspec": {
   "display_name": "Python 3 (ipykernel)",
   "language": "python",
   "name": "python3"
  },
  "language_info": {
   "codemirror_mode": {
    "name": "ipython",
    "version": 3
   },
   "file_extension": ".py",
   "mimetype": "text/x-python",
   "name": "python",
   "nbconvert_exporter": "python",
   "pygments_lexer": "ipython3",
   "version": "3.12.7"
  }
 },
 "nbformat": 4,
 "nbformat_minor": 5
}
