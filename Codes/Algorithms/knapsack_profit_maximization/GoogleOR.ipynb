{
 "cells": [
  {
   "cell_type": "code",
   "execution_count": 1,
   "id": "21fb3b8e",
   "metadata": {},
   "outputs": [
    {
     "name": "stdout",
     "output_type": "stream",
     "text": [
      "Requirement already satisfied: ortools in /home/jovyan/conda-envs/torch-gpu/lib/python3.12/site-packages (9.12.4544)\n",
      "Requirement already satisfied: absl-py>=2.0.0 in /home/jovyan/conda-envs/torch-gpu/lib/python3.12/site-packages (from ortools) (2.1.0)\n",
      "Requirement already satisfied: numpy>=1.13.3 in /home/jovyan/conda-envs/torch-gpu/lib/python3.12/site-packages (from ortools) (2.1.3)\n",
      "Requirement already satisfied: pandas>=2.0.0 in /home/jovyan/conda-envs/torch-gpu/lib/python3.12/site-packages (from ortools) (2.2.3)\n",
      "Requirement already satisfied: protobuf<5.30,>=5.29.3 in /home/jovyan/conda-envs/torch-gpu/lib/python3.12/site-packages (from ortools) (5.29.3)\n",
      "Requirement already satisfied: immutabledict>=3.0.0 in /home/jovyan/conda-envs/torch-gpu/lib/python3.12/site-packages (from ortools) (4.2.1)\n",
      "Requirement already satisfied: python-dateutil>=2.8.2 in /home/jovyan/conda-envs/torch-gpu/lib/python3.12/site-packages (from pandas>=2.0.0->ortools) (2.9.0.post0)\n",
      "Requirement already satisfied: pytz>=2020.1 in /home/jovyan/conda-envs/torch-gpu/lib/python3.12/site-packages (from pandas>=2.0.0->ortools) (2024.2)\n",
      "Requirement already satisfied: tzdata>=2022.7 in /home/jovyan/conda-envs/torch-gpu/lib/python3.12/site-packages (from pandas>=2.0.0->ortools) (2025.1)\n",
      "Requirement already satisfied: six>=1.5 in /home/jovyan/conda-envs/torch-gpu/lib/python3.12/site-packages (from python-dateutil>=2.8.2->pandas>=2.0.0->ortools) (1.16.0)\n",
      "Note: you may need to restart the kernel to use updated packages.\n",
      "Requirement already satisfied: psutil in /home/jovyan/conda-envs/torch-gpu/lib/python3.12/site-packages (5.9.0)\n",
      "Note: you may need to restart the kernel to use updated packages.\n"
     ]
    }
   ],
   "source": [
    "%pip install ortools\n",
    "%pip install psutil\n",
    "\n",
    "import os\n",
    "import csv\n",
    "import ast\n",
    "import time\n",
    "import numpy as np\n",
    "import pandas as pd\n",
    "from tqdm import tqdm\n",
    "import psutil\n",
    "from ortools.linear_solver import pywraplp"
   ]
  },
  {
   "cell_type": "code",
   "execution_count": 2,
   "id": "eba42fd4",
   "metadata": {},
   "outputs": [],
   "source": [
    "import resource\n",
    "\n",
    "def get_memory_usage_in_kb():\n",
    "    process = psutil.Process()\n",
    "    mem_info = process.memory_info()\n",
    "    return mem_info.rss // 1024  # Convert bytes to KB"
   ]
  },
  {
   "cell_type": "code",
   "execution_count": 3,
   "id": "c7fb6418",
   "metadata": {},
   "outputs": [],
   "source": [
    "import resource\n",
    "\n",
    "def set_memory_limit_gb(gb_limit):\n",
    "    soft, hard = gb_limit * 1024 ** 3, gb_limit * 1024 ** 3  # Convert GB to bytes\n",
    "    resource.setrlimit(resource.RLIMIT_AS, (soft, hard))"
   ]
  },
  {
   "cell_type": "code",
   "execution_count": 4,
   "id": "798e2c6b",
   "metadata": {},
   "outputs": [],
   "source": [
    "def parse_knapsack_csv(file_path):\n",
    "    instances = []\n",
    "    with open(file_path, 'r') as infile:\n",
    "        reader = csv.DictReader(infile)\n",
    "        for row in reader:\n",
    "            weights = list(map(float, row['Weights'].strip('[]').split(',')))\n",
    "            prices = list(map(float, row['Prices'].strip('[]').split(',')))\n",
    "            capacity = float(row['knapsack_capacity'])\n",
    "            items = [(i + 1, prices[i], weights[i]) for i in range(len(weights))]\n",
    "            instances.append((len(items), items, weights, prices, capacity))\n",
    "    return instances"
   ]
  },
  {
   "cell_type": "code",
   "execution_count": null,
   "id": "339757d7",
   "metadata": {},
   "outputs": [],
   "source": [
    "def solve_knapsack_with_GoogleOR(items, capacity, ram):\n",
    "    set_memory_limit_gb(ram)\n",
    "    solver = pywraplp.Solver.CreateSolver('SCIP')\n",
    "    if not solver:\n",
    "        raise Exception(\"Solver not created.\")\n",
    "\n",
    "    num_items = len(items)\n",
    "    x = [solver.BoolVar(f\"x_{i}\") for i in range(num_items)]\n",
    "    \n",
    "    profit = [item[1] for item in items]\n",
    "    solver.Maximize(solver.Sum(profit[i] * x[i] for i in range(num_items)))\n",
    "    \n",
    "    weight = [item[2] for item in items]\n",
    "    solver.Add(solver.Sum(weight[i] * x[i] for i in range(num_items)) <= capacity)\n",
    "    solver.SetTimeLimit(300 * 1000) \n",
    "\n",
    "    result = {\"objective_value\": np.nan, \"selected_items\": [], \"time_taken\": np.nan,\n",
    "              \"iterations_count\": None, \"node_count\": None, \"peak_memory\": np.nan}\n",
    "\n",
    "    try:\n",
    "        start_time = time.time()\n",
    "        mem_before = get_memory_usage_in_kb()\n",
    "\n",
    "        status = solver.Solve()\n",
    "\n",
    "        mem_after = get_memory_usage_in_kb()\n",
    "        end_time = time.time()\n",
    "\n",
    "        result[\"time_taken\"] = end_time - start_time\n",
    "        result[\"peak_memory\"] = max(mem_before, mem_after)\n",
    "\n",
    "        if status == pywraplp.Solver.OPTIMAL:\n",
    "            print(\"Optimal solution found\")\n",
    "            result[\"objective_value\"] = solver.Objective().Value()\n",
    "            result[\"selected_items\"] = [items[i][0] for i in range(num_items) if x[i].solution_value() > 0.5]\n",
    "        else:\n",
    "            print(\"Solution not optimal/failed\")\n",
    "\n",
    "    except Exception as e:\n",
    "        print(f\"Error:: {e}\")\n",
    "\n",
    "    return result"
   ]
  },
  {
   "cell_type": "code",
   "execution_count": null,
   "id": "8b75a1ad",
   "metadata": {},
   "outputs": [],
   "source": [
    "def process_knapsack_instances(input_csv_path, output_csv_path):\n",
    "    # Parse the knapsack dataset\n",
    "    instances = parse_knapsack_csv(input_csv_path)\n",
    "    results = []\n",
    "    ram = 256 #Specify the ram\n",
    "    cpu_cores = 32 #Specify number_of_cpu_cores of your system\n",
    "     \n",
    "    for instance_idx, (n, items, weights, prices, capacity) in tqdm(enumerate(instances, start=1), total=len(instances), desc=\"Processing instances\"):\n",
    "        output = solve_knapsack_with_GoogleOR(items, capacity, ram)     \n",
    "        result = {\n",
    "            'number_of_elements': n,\n",
    "            'capacity': capacity,\n",
    "            'total_profit':  output[\"objective_value\"],\n",
    "            'solution_time': output[\"time_taken\"],\n",
    "            'ram': ram,\n",
    "            'cpu_cores': cpu_cores,\n",
    "            'peak_memory': output[\"peak_memory\"]\n",
    "        }\n",
    "        results.append(result)\n",
    "\n",
    "    \n",
    "    fieldnames =  list(results[0].keys())\n",
    "    \n",
    "    with open(output_csv_path, 'w', newline='') as csvfile:\n",
    "        writer = csv.DictWriter(csvfile, fieldnames=fieldnames)\n",
    "        writer.writeheader()\n",
    "        writer.writerows(merged_results)\n",
    "    \n",
    "    print(f\"Results saved to {output_csv_path}\")"
   ]
  },
  {
   "cell_type": "code",
   "execution_count": null,
   "id": "0227c81e",
   "metadata": {},
   "outputs": [
    {
     "name": "stderr",
     "output_type": "stream",
     "text": [
      "Processing instances:   1%|          | 2/199 [00:00<00:16, 12.01it/s]"
     ]
    },
    {
     "name": "stdout",
     "output_type": "stream",
     "text": [
      "Optimal solution found\n",
      "Optimal solution found\n"
     ]
    },
    {
     "name": "stderr",
     "output_type": "stream",
     "text": [
      "Processing instances:   2%|▏         | 4/199 [00:00<00:20,  9.54it/s]"
     ]
    },
    {
     "name": "stdout",
     "output_type": "stream",
     "text": [
      "Optimal solution found\n",
      "Optimal solution found\n"
     ]
    },
    {
     "name": "stderr",
     "output_type": "stream",
     "text": [
      "Processing instances:   3%|▎         | 5/199 [05:00<4:47:22, 88.88s/it]"
     ]
    },
    {
     "name": "stdout",
     "output_type": "stream",
     "text": [
      "Solution not optimal or failed\n"
     ]
    },
    {
     "name": "stderr",
     "output_type": "stream",
     "text": [
      "Processing instances:   3%|▎         | 6/199 [05:12<3:32:02, 65.92s/it]"
     ]
    },
    {
     "name": "stdout",
     "output_type": "stream",
     "text": [
      "Optimal solution found\n"
     ]
    },
    {
     "name": "stderr",
     "output_type": "stream",
     "text": [
      "Processing instances:   4%|▎         | 7/199 [05:13<2:29:30, 46.72s/it]"
     ]
    },
    {
     "name": "stdout",
     "output_type": "stream",
     "text": [
      "Optimal solution found\n"
     ]
    },
    {
     "name": "stderr",
     "output_type": "stream",
     "text": [
      "Processing instances:   4%|▍         | 8/199 [05:16<1:47:13, 33.68s/it]"
     ]
    },
    {
     "name": "stdout",
     "output_type": "stream",
     "text": [
      "Optimal solution found\n",
      "Optimal solution found\n"
     ]
    },
    {
     "name": "stderr",
     "output_type": "stream",
     "text": [
      "Processing instances:   5%|▌         | 10/199 [05:17<57:30, 18.26s/it] "
     ]
    },
    {
     "name": "stdout",
     "output_type": "stream",
     "text": [
      "Optimal solution found\n"
     ]
    },
    {
     "name": "stderr",
     "output_type": "stream",
     "text": [
      "Processing instances:   7%|▋         | 14/199 [05:19<21:31,  6.98s/it]"
     ]
    },
    {
     "name": "stdout",
     "output_type": "stream",
     "text": [
      "Optimal solution found\n",
      "Optimal solution found\n",
      "Optimal solution found\n",
      "Optimal solution found\n"
     ]
    },
    {
     "name": "stderr",
     "output_type": "stream",
     "text": [
      "Processing instances:   9%|▊         | 17/199 [05:20<11:14,  3.70s/it]"
     ]
    },
    {
     "name": "stdout",
     "output_type": "stream",
     "text": [
      "Optimal solution found\n",
      "Optimal solution found\n",
      "Optimal solution found\n",
      "Optimal solution found\n"
     ]
    },
    {
     "name": "stderr",
     "output_type": "stream",
     "text": [
      "Processing instances:  10%|▉         | 19/199 [05:20<07:23,  2.47s/it]"
     ]
    },
    {
     "name": "stdout",
     "output_type": "stream",
     "text": [
      "Optimal solution found\n",
      "Optimal solution found\n"
     ]
    },
    {
     "name": "stderr",
     "output_type": "stream",
     "text": [
      "Processing instances:  12%|█▏        | 23/199 [05:21<03:46,  1.29s/it]"
     ]
    },
    {
     "name": "stdout",
     "output_type": "stream",
     "text": [
      "Optimal solution found\n",
      "Optimal solution found\n",
      "Optimal solution found\n"
     ]
    },
    {
     "name": "stderr",
     "output_type": "stream",
     "text": [
      "Processing instances:  13%|█▎        | 25/199 [05:23<03:09,  1.09s/it]"
     ]
    },
    {
     "name": "stdout",
     "output_type": "stream",
     "text": [
      "Optimal solution found\n",
      "Optimal solution found\n"
     ]
    },
    {
     "name": "stderr",
     "output_type": "stream",
     "text": [
      "Processing instances:  13%|█▎        | 26/199 [05:28<05:21,  1.86s/it]"
     ]
    },
    {
     "name": "stdout",
     "output_type": "stream",
     "text": [
      "Optimal solution found\n"
     ]
    },
    {
     "name": "stderr",
     "output_type": "stream",
     "text": [
      "Processing instances:  15%|█▌        | 30/199 [05:36<04:38,  1.65s/it]"
     ]
    },
    {
     "name": "stdout",
     "output_type": "stream",
     "text": [
      "Optimal solution found\n",
      "Optimal solution found\n",
      "Optimal solution found\n",
      "Optimal solution found\n",
      "Optimal solution found\n"
     ]
    },
    {
     "name": "stderr",
     "output_type": "stream",
     "text": [
      "Processing instances:  16%|█▌        | 32/199 [05:36<03:22,  1.21s/it]"
     ]
    },
    {
     "name": "stdout",
     "output_type": "stream",
     "text": [
      "Optimal solution found\n"
     ]
    },
    {
     "name": "stderr",
     "output_type": "stream",
     "text": [
      "Processing instances:  17%|█▋        | 33/199 [05:37<03:00,  1.09s/it]"
     ]
    },
    {
     "name": "stdout",
     "output_type": "stream",
     "text": [
      "Optimal solution found\n"
     ]
    },
    {
     "name": "stderr",
     "output_type": "stream",
     "text": [
      "Processing instances:  17%|█▋        | 34/199 [05:38<02:50,  1.03s/it]"
     ]
    },
    {
     "name": "stdout",
     "output_type": "stream",
     "text": [
      "Optimal solution found\n",
      "Optimal solution found\n"
     ]
    },
    {
     "name": "stderr",
     "output_type": "stream",
     "text": [
      "Processing instances:  18%|█▊        | 36/199 [05:40<02:57,  1.09s/it]"
     ]
    },
    {
     "name": "stdout",
     "output_type": "stream",
     "text": [
      "Optimal solution found\n",
      "Optimal solution found\n"
     ]
    },
    {
     "name": "stderr",
     "output_type": "stream",
     "text": [
      "Processing instances:  19%|█▉        | 38/199 [05:53<07:45,  2.89s/it]"
     ]
    },
    {
     "name": "stdout",
     "output_type": "stream",
     "text": [
      "Optimal solution found\n"
     ]
    },
    {
     "name": "stderr",
     "output_type": "stream",
     "text": [
      "Processing instances:  20%|█▉        | 39/199 [06:37<29:23, 11.02s/it]"
     ]
    },
    {
     "name": "stdout",
     "output_type": "stream",
     "text": [
      "Optimal solution found\n"
     ]
    },
    {
     "name": "stderr",
     "output_type": "stream",
     "text": [
      "Processing instances:  20%|██        | 40/199 [06:41<25:11,  9.51s/it]"
     ]
    },
    {
     "name": "stdout",
     "output_type": "stream",
     "text": [
      "Optimal solution found\n"
     ]
    },
    {
     "name": "stderr",
     "output_type": "stream",
     "text": [
      "Processing instances:  21%|██        | 41/199 [06:41<19:11,  7.29s/it]"
     ]
    },
    {
     "name": "stdout",
     "output_type": "stream",
     "text": [
      "Optimal solution found\n"
     ]
    },
    {
     "name": "stderr",
     "output_type": "stream",
     "text": [
      "Processing instances:  21%|██        | 42/199 [06:42<14:34,  5.57s/it]"
     ]
    },
    {
     "name": "stdout",
     "output_type": "stream",
     "text": [
      "Optimal solution found\n"
     ]
    },
    {
     "name": "stderr",
     "output_type": "stream",
     "text": [
      "Processing instances:  22%|██▏       | 44/199 [06:45<09:34,  3.71s/it]"
     ]
    },
    {
     "name": "stdout",
     "output_type": "stream",
     "text": [
      "Optimal solution found\n",
      "Optimal solution found\n",
      "Optimal solution found\n"
     ]
    },
    {
     "name": "stderr",
     "output_type": "stream",
     "text": [
      "Processing instances:  24%|██▍       | 48/199 [06:46<03:28,  1.38s/it]"
     ]
    },
    {
     "name": "stdout",
     "output_type": "stream",
     "text": [
      "Optimal solution found\n",
      "Optimal solution found\n",
      "Optimal solution found\n"
     ]
    },
    {
     "name": "stderr",
     "output_type": "stream",
     "text": [
      "Processing instances:  25%|██▍       | 49/199 [06:47<02:55,  1.17s/it]"
     ]
    },
    {
     "name": "stdout",
     "output_type": "stream",
     "text": [
      "Optimal solution found\n"
     ]
    },
    {
     "name": "stderr",
     "output_type": "stream",
     "text": [
      "Processing instances:  25%|██▌       | 50/199 [06:47<02:23,  1.04it/s]"
     ]
    },
    {
     "name": "stdout",
     "output_type": "stream",
     "text": [
      "Optimal solution found\n",
      "Optimal solution found\n",
      "Optimal solution found\n"
     ]
    },
    {
     "name": "stderr",
     "output_type": "stream",
     "text": [
      "Processing instances:  27%|██▋       | 53/199 [06:47<01:17,  1.89it/s]"
     ]
    },
    {
     "name": "stdout",
     "output_type": "stream",
     "text": [
      "Optimal solution found\n",
      "Optimal solution found\n",
      "Optimal solution found\n"
     ]
    },
    {
     "name": "stderr",
     "output_type": "stream",
     "text": [
      "Processing instances:  28%|██▊       | 56/199 [06:54<03:04,  1.29s/it]"
     ]
    },
    {
     "name": "stdout",
     "output_type": "stream",
     "text": [
      "Optimal solution found\n"
     ]
    },
    {
     "name": "stderr",
     "output_type": "stream",
     "text": [
      "Processing instances:  29%|██▊       | 57/199 [06:55<03:01,  1.28s/it]"
     ]
    },
    {
     "name": "stdout",
     "output_type": "stream",
     "text": [
      "Optimal solution found\n",
      "Optimal solution found\n"
     ]
    },
    {
     "name": "stderr",
     "output_type": "stream",
     "text": [
      "Processing instances:  30%|███       | 60/199 [06:56<01:52,  1.24it/s]"
     ]
    },
    {
     "name": "stdout",
     "output_type": "stream",
     "text": [
      "Optimal solution found\n",
      "Optimal solution found\n"
     ]
    },
    {
     "name": "stderr",
     "output_type": "stream",
     "text": [
      "Processing instances:  31%|███       | 61/199 [07:00<03:13,  1.40s/it]"
     ]
    },
    {
     "name": "stdout",
     "output_type": "stream",
     "text": [
      "Optimal solution found\n"
     ]
    },
    {
     "name": "stderr",
     "output_type": "stream",
     "text": [
      "Processing instances:  32%|███▏      | 63/199 [08:22<34:27, 15.20s/it]"
     ]
    },
    {
     "name": "stdout",
     "output_type": "stream",
     "text": [
      "Optimal solution found\n",
      "Optimal solution found\n"
     ]
    },
    {
     "name": "stderr",
     "output_type": "stream",
     "text": [
      "Processing instances:  32%|███▏      | 64/199 [08:23<25:37, 11.39s/it]"
     ]
    },
    {
     "name": "stdout",
     "output_type": "stream",
     "text": [
      "Optimal solution found\n"
     ]
    },
    {
     "name": "stderr",
     "output_type": "stream",
     "text": [
      "Processing instances:  33%|███▎      | 65/199 [13:23<3:21:00, 90.00s/it]"
     ]
    },
    {
     "name": "stdout",
     "output_type": "stream",
     "text": [
      "Solution not optimal or failed\n",
      "Optimal solution found\n"
     ]
    },
    {
     "name": "stderr",
     "output_type": "stream",
     "text": [
      "Processing instances:  34%|███▎      | 67/199 [13:48<2:03:10, 55.99s/it]"
     ]
    },
    {
     "name": "stdout",
     "output_type": "stream",
     "text": [
      "Optimal solution found\n"
     ]
    },
    {
     "name": "stderr",
     "output_type": "stream",
     "text": [
      "Processing instances:  34%|███▍      | 68/199 [13:49<1:33:47, 42.96s/it]"
     ]
    },
    {
     "name": "stdout",
     "output_type": "stream",
     "text": [
      "Optimal solution found\n"
     ]
    },
    {
     "name": "stderr",
     "output_type": "stream",
     "text": [
      "Processing instances:  35%|███▍      | 69/199 [13:50<1:09:42, 32.17s/it]"
     ]
    },
    {
     "name": "stdout",
     "output_type": "stream",
     "text": [
      "Optimal solution found\n"
     ]
    },
    {
     "name": "stderr",
     "output_type": "stream",
     "text": [
      "Processing instances:  35%|███▌      | 70/199 [13:50<50:53, 23.67s/it]  "
     ]
    },
    {
     "name": "stdout",
     "output_type": "stream",
     "text": [
      "Optimal solution found\n"
     ]
    },
    {
     "name": "stderr",
     "output_type": "stream",
     "text": [
      "Processing instances:  36%|███▌      | 71/199 [13:51<37:26, 17.55s/it]"
     ]
    },
    {
     "name": "stdout",
     "output_type": "stream",
     "text": [
      "Optimal solution found\n",
      "Optimal solution found\n"
     ]
    },
    {
     "name": "stderr",
     "output_type": "stream",
     "text": [
      "Processing instances:  37%|███▋      | 74/199 [14:02<19:23,  9.31s/it]"
     ]
    },
    {
     "name": "stdout",
     "output_type": "stream",
     "text": [
      "Optimal solution found\n",
      "Optimal solution found\n"
     ]
    },
    {
     "name": "stderr",
     "output_type": "stream",
     "text": [
      "Processing instances:  38%|███▊      | 75/199 [14:10<18:20,  8.87s/it]"
     ]
    },
    {
     "name": "stdout",
     "output_type": "stream",
     "text": [
      "Optimal solution found\n"
     ]
    },
    {
     "name": "stderr",
     "output_type": "stream",
     "text": [
      "Processing instances:  38%|███▊      | 76/199 [14:11<14:13,  6.94s/it]"
     ]
    },
    {
     "name": "stdout",
     "output_type": "stream",
     "text": [
      "Optimal solution found\n"
     ]
    },
    {
     "name": "stderr",
     "output_type": "stream",
     "text": [
      "Processing instances:  39%|███▊      | 77/199 [14:12<10:23,  5.11s/it]"
     ]
    },
    {
     "name": "stdout",
     "output_type": "stream",
     "text": [
      "Optimal solution found\n",
      "Optimal solution found\n"
     ]
    },
    {
     "name": "stderr",
     "output_type": "stream",
     "text": [
      "Processing instances:  40%|███▉      | 79/199 [14:12<06:04,  3.04s/it]"
     ]
    },
    {
     "name": "stdout",
     "output_type": "stream",
     "text": [
      "Optimal solution found\n",
      "Optimal solution found\n"
     ]
    },
    {
     "name": "stderr",
     "output_type": "stream",
     "text": [
      "Processing instances:  41%|████      | 81/199 [14:15<04:28,  2.28s/it]"
     ]
    },
    {
     "name": "stdout",
     "output_type": "stream",
     "text": [
      "Optimal solution found\n"
     ]
    },
    {
     "name": "stderr",
     "output_type": "stream",
     "text": [
      "Processing instances:  41%|████      | 82/199 [14:15<03:44,  1.92s/it]"
     ]
    },
    {
     "name": "stdout",
     "output_type": "stream",
     "text": [
      "Optimal solution found\n"
     ]
    },
    {
     "name": "stderr",
     "output_type": "stream",
     "text": [
      "Processing instances:  42%|████▏     | 83/199 [14:16<03:16,  1.69s/it]"
     ]
    },
    {
     "name": "stdout",
     "output_type": "stream",
     "text": [
      "Optimal solution found\n"
     ]
    },
    {
     "name": "stderr",
     "output_type": "stream",
     "text": [
      "Processing instances:  42%|████▏     | 84/199 [14:17<02:58,  1.55s/it]"
     ]
    },
    {
     "name": "stdout",
     "output_type": "stream",
     "text": [
      "Optimal solution found\n"
     ]
    },
    {
     "name": "stderr",
     "output_type": "stream",
     "text": [
      "Processing instances:  43%|████▎     | 85/199 [14:18<02:23,  1.26s/it]"
     ]
    },
    {
     "name": "stdout",
     "output_type": "stream",
     "text": [
      "Optimal solution found\n"
     ]
    },
    {
     "name": "stderr",
     "output_type": "stream",
     "text": [
      "Processing instances:  43%|████▎     | 86/199 [14:22<04:04,  2.16s/it]"
     ]
    },
    {
     "name": "stdout",
     "output_type": "stream",
     "text": [
      "Optimal solution found\n"
     ]
    },
    {
     "name": "stderr",
     "output_type": "stream",
     "text": [
      "Processing instances:  44%|████▎     | 87/199 [14:23<03:04,  1.65s/it]"
     ]
    },
    {
     "name": "stdout",
     "output_type": "stream",
     "text": [
      "Optimal solution found\n"
     ]
    },
    {
     "name": "stderr",
     "output_type": "stream",
     "text": [
      "Processing instances:  44%|████▍     | 88/199 [14:23<02:22,  1.28s/it]"
     ]
    },
    {
     "name": "stdout",
     "output_type": "stream",
     "text": [
      "Optimal solution found\n"
     ]
    },
    {
     "name": "stderr",
     "output_type": "stream",
     "text": [
      "Processing instances:  45%|████▍     | 89/199 [19:23<2:41:39, 88.18s/it]"
     ]
    },
    {
     "name": "stdout",
     "output_type": "stream",
     "text": [
      "Solution not optimal or failed\n"
     ]
    },
    {
     "name": "stderr",
     "output_type": "stream",
     "text": [
      "Processing instances:  45%|████▌     | 90/199 [20:23<2:25:06, 79.88s/it]"
     ]
    },
    {
     "name": "stdout",
     "output_type": "stream",
     "text": [
      "Optimal solution found\n"
     ]
    },
    {
     "name": "stderr",
     "output_type": "stream",
     "text": [
      "Processing instances:  46%|████▌     | 91/199 [20:24<1:41:34, 56.43s/it]"
     ]
    },
    {
     "name": "stdout",
     "output_type": "stream",
     "text": [
      "Optimal solution found\n",
      "Optimal solution found\n"
     ]
    },
    {
     "name": "stderr",
     "output_type": "stream",
     "text": [
      "Processing instances:  47%|████▋     | 93/199 [20:24<54:11, 30.67s/it]  "
     ]
    },
    {
     "name": "stdout",
     "output_type": "stream",
     "text": [
      "Optimal solution found\n"
     ]
    },
    {
     "name": "stderr",
     "output_type": "stream",
     "text": [
      "Processing instances:  47%|████▋     | 94/199 [20:25<40:53, 23.36s/it]"
     ]
    },
    {
     "name": "stdout",
     "output_type": "stream",
     "text": [
      "Optimal solution found\n",
      "Optimal solution found\n"
     ]
    },
    {
     "name": "stderr",
     "output_type": "stream",
     "text": [
      "Processing instances:  48%|████▊     | 96/199 [20:26<24:01, 14.00s/it]"
     ]
    },
    {
     "name": "stdout",
     "output_type": "stream",
     "text": [
      "Optimal solution found\n"
     ]
    },
    {
     "name": "stderr",
     "output_type": "stream",
     "text": [
      "Processing instances:  49%|████▊     | 97/199 [20:27<18:37, 10.96s/it]"
     ]
    },
    {
     "name": "stdout",
     "output_type": "stream",
     "text": [
      "Optimal solution found\n",
      "Optimal solution found\n"
     ]
    },
    {
     "name": "stderr",
     "output_type": "stream",
     "text": [
      "Processing instances:  50%|████▉     | 99/199 [20:28<11:26,  6.86s/it]"
     ]
    },
    {
     "name": "stdout",
     "output_type": "stream",
     "text": [
      "Optimal solution found\n"
     ]
    },
    {
     "name": "stderr",
     "output_type": "stream",
     "text": [
      "Processing instances:  50%|█████     | 100/199 [20:29<09:10,  5.56s/it]"
     ]
    },
    {
     "name": "stdout",
     "output_type": "stream",
     "text": [
      "Optimal solution found\n"
     ]
    },
    {
     "name": "stderr",
     "output_type": "stream",
     "text": [
      "Processing instances:  51%|█████     | 101/199 [20:29<07:02,  4.31s/it]"
     ]
    },
    {
     "name": "stdout",
     "output_type": "stream",
     "text": [
      "Optimal solution found\n"
     ]
    },
    {
     "name": "stderr",
     "output_type": "stream",
     "text": [
      "Processing instances:  51%|█████▏    | 102/199 [20:30<05:23,  3.34s/it]"
     ]
    },
    {
     "name": "stdout",
     "output_type": "stream",
     "text": [
      "Optimal solution found\n"
     ]
    },
    {
     "name": "stderr",
     "output_type": "stream",
     "text": [
      "Processing instances:  52%|█████▏    | 103/199 [20:33<05:05,  3.19s/it]"
     ]
    },
    {
     "name": "stdout",
     "output_type": "stream",
     "text": [
      "Optimal solution found\n"
     ]
    },
    {
     "name": "stderr",
     "output_type": "stream",
     "text": [
      "Processing instances:  53%|█████▎    | 105/199 [20:33<02:51,  1.82s/it]"
     ]
    },
    {
     "name": "stdout",
     "output_type": "stream",
     "text": [
      "Optimal solution found\n",
      "Optimal solution found\n"
     ]
    },
    {
     "name": "stderr",
     "output_type": "stream",
     "text": [
      "Processing instances:  53%|█████▎    | 106/199 [20:34<02:12,  1.42s/it]"
     ]
    },
    {
     "name": "stdout",
     "output_type": "stream",
     "text": [
      "Optimal solution found\n"
     ]
    },
    {
     "name": "stderr",
     "output_type": "stream",
     "text": [
      "Processing instances:  54%|█████▍    | 107/199 [20:34<01:47,  1.17s/it]"
     ]
    },
    {
     "name": "stdout",
     "output_type": "stream",
     "text": [
      "Optimal solution found\n"
     ]
    },
    {
     "name": "stderr",
     "output_type": "stream",
     "text": [
      "Processing instances:  54%|█████▍    | 108/199 [20:35<01:30,  1.01it/s]"
     ]
    },
    {
     "name": "stdout",
     "output_type": "stream",
     "text": [
      "Optimal solution found\n"
     ]
    },
    {
     "name": "stderr",
     "output_type": "stream",
     "text": [
      "Processing instances:  55%|█████▍    | 109/199 [20:35<01:12,  1.25it/s]"
     ]
    },
    {
     "name": "stdout",
     "output_type": "stream",
     "text": [
      "Optimal solution found\n",
      "Optimal solution found\n",
      "Optimal solution found\n",
      "Optimal solution found\n",
      "Optimal solution found\n"
     ]
    },
    {
     "name": "stderr",
     "output_type": "stream",
     "text": [
      "Processing instances:  57%|█████▋    | 114/199 [20:36<00:27,  3.12it/s]"
     ]
    },
    {
     "name": "stdout",
     "output_type": "stream",
     "text": [
      "Optimal solution found\n",
      "Optimal solution found\n"
     ]
    },
    {
     "name": "stderr",
     "output_type": "stream",
     "text": [
      "Processing instances:  60%|█████▉    | 119/199 [20:36<00:16,  4.88it/s]"
     ]
    },
    {
     "name": "stdout",
     "output_type": "stream",
     "text": [
      "Optimal solution found\n",
      "Optimal solution found\n",
      "Optimal solution found\n",
      "Optimal solution found\n",
      "Optimal solution found\n"
     ]
    },
    {
     "name": "stderr",
     "output_type": "stream",
     "text": [
      "Processing instances:  63%|██████▎   | 125/199 [20:37<00:11,  6.25it/s]"
     ]
    },
    {
     "name": "stdout",
     "output_type": "stream",
     "text": [
      "Optimal solution found\n",
      "Optimal solution found\n",
      "Optimal solution found\n",
      "Optimal solution found\n",
      "Optimal solution found\n"
     ]
    },
    {
     "name": "stderr",
     "output_type": "stream",
     "text": [
      "Processing instances:  66%|██████▌   | 131/199 [22:25<08:26,  7.45s/it]"
     ]
    },
    {
     "name": "stdout",
     "output_type": "stream",
     "text": [
      "Optimal solution found\n",
      "Optimal solution found\n",
      "Optimal solution found\n",
      "Optimal solution found\n",
      "Optimal solution found\n",
      "Optimal solution found\n",
      "Optimal solution found\n",
      "Optimal solution found\n"
     ]
    },
    {
     "name": "stderr",
     "output_type": "stream",
     "text": [
      "Processing instances:  67%|██████▋   | 134/199 [22:26<05:45,  5.31s/it]"
     ]
    },
    {
     "name": "stdout",
     "output_type": "stream",
     "text": [
      "Optimal solution found\n",
      "Optimal solution found\n",
      "Optimal solution found\n"
     ]
    },
    {
     "name": "stderr",
     "output_type": "stream",
     "text": [
      "Processing instances:  69%|██████▉   | 137/199 [22:26<03:53,  3.76s/it]"
     ]
    },
    {
     "name": "stdout",
     "output_type": "stream",
     "text": [
      "Optimal solution found\n"
     ]
    },
    {
     "name": "stderr",
     "output_type": "stream",
     "text": [
      "Processing instances:  71%|███████   | 141/199 [22:29<02:24,  2.49s/it]"
     ]
    },
    {
     "name": "stdout",
     "output_type": "stream",
     "text": [
      "Optimal solution found\n",
      "Optimal solution found\n",
      "Optimal solution found\n",
      "Optimal solution found\n",
      "Optimal solution found\n",
      "Optimal solution found\n"
     ]
    },
    {
     "name": "stderr",
     "output_type": "stream",
     "text": [
      "Processing instances:  72%|███████▏  | 144/199 [22:38<02:26,  2.67s/it]"
     ]
    },
    {
     "name": "stdout",
     "output_type": "stream",
     "text": [
      "Optimal solution found\n"
     ]
    },
    {
     "name": "stderr",
     "output_type": "stream",
     "text": [
      "Processing instances:  73%|███████▎  | 145/199 [22:39<02:08,  2.37s/it]"
     ]
    },
    {
     "name": "stdout",
     "output_type": "stream",
     "text": [
      "Optimal solution found\n"
     ]
    },
    {
     "name": "stderr",
     "output_type": "stream",
     "text": [
      "Processing instances:  73%|███████▎  | 146/199 [22:39<01:49,  2.07s/it]"
     ]
    },
    {
     "name": "stdout",
     "output_type": "stream",
     "text": [
      "Optimal solution found\n",
      "Optimal solution found\n",
      "Optimal solution found\n",
      "Optimal solution found\n"
     ]
    },
    {
     "name": "stderr",
     "output_type": "stream",
     "text": [
      "Processing instances:  77%|███████▋  | 154/199 [22:58<01:27,  1.94s/it]"
     ]
    },
    {
     "name": "stdout",
     "output_type": "stream",
     "text": [
      "Optimal solution found\n",
      "Optimal solution found\n",
      "Optimal solution found\n",
      "Optimal solution found\n",
      "Optimal solution found\n"
     ]
    },
    {
     "name": "stderr",
     "output_type": "stream",
     "text": [
      "Processing instances:  80%|███████▉  | 159/199 [22:58<00:42,  1.05s/it]"
     ]
    },
    {
     "name": "stdout",
     "output_type": "stream",
     "text": [
      "Optimal solution found\n",
      "Optimal solution found\n",
      "Optimal solution found\n",
      "Optimal solution found\n",
      "Optimal solution found\n"
     ]
    },
    {
     "name": "stderr",
     "output_type": "stream",
     "text": [
      "Processing instances:  81%|████████  | 161/199 [22:59<00:32,  1.17it/s]"
     ]
    },
    {
     "name": "stdout",
     "output_type": "stream",
     "text": [
      "Optimal solution found\n",
      "Optimal solution found\n"
     ]
    },
    {
     "name": "stderr",
     "output_type": "stream",
     "text": [
      "Processing instances:  82%|████████▏ | 163/199 [22:59<00:23,  1.51it/s]"
     ]
    },
    {
     "name": "stdout",
     "output_type": "stream",
     "text": [
      "Optimal solution found\n",
      "Optimal solution found\n"
     ]
    },
    {
     "name": "stderr",
     "output_type": "stream",
     "text": [
      "Processing instances:  82%|████████▏ | 164/199 [23:10<01:18,  2.24s/it]"
     ]
    },
    {
     "name": "stdout",
     "output_type": "stream",
     "text": [
      "Optimal solution found\n"
     ]
    },
    {
     "name": "stderr",
     "output_type": "stream",
     "text": [
      "Processing instances:  83%|████████▎ | 165/199 [23:11<01:07,  1.98s/it]"
     ]
    },
    {
     "name": "stdout",
     "output_type": "stream",
     "text": [
      "Optimal solution found\n",
      "Optimal solution found\n"
     ]
    },
    {
     "name": "stderr",
     "output_type": "stream",
     "text": [
      "Processing instances:  86%|████████▌ | 171/199 [23:11<00:19,  1.40it/s]"
     ]
    },
    {
     "name": "stdout",
     "output_type": "stream",
     "text": [
      "Optimal solution found\n",
      "Optimal solution found\n",
      "Optimal solution found\n",
      "Optimal solution found\n",
      "Optimal solution found\n",
      "Optimal solution found\n",
      "Optimal solution found\n",
      "Optimal solution found\n",
      "Optimal solution found\n"
     ]
    },
    {
     "name": "stderr",
     "output_type": "stream",
     "text": [
      "Processing instances:  88%|████████▊ | 176/199 [23:11<00:08,  2.57it/s]"
     ]
    },
    {
     "name": "stdout",
     "output_type": "stream",
     "text": [
      "Optimal solution found\n",
      "Optimal solution found\n",
      "Optimal solution found\n",
      "Optimal solution found\n",
      "Optimal solution found\n",
      "Optimal solution found\n"
     ]
    },
    {
     "name": "stderr",
     "output_type": "stream",
     "text": [
      "Processing instances:  94%|█████████▍| 187/199 [23:13<00:02,  4.55it/s]"
     ]
    },
    {
     "name": "stdout",
     "output_type": "stream",
     "text": [
      "Optimal solution found\n",
      "Optimal solution found\n",
      "Optimal solution found\n",
      "Optimal solution found\n",
      "Optimal solution found\n",
      "Optimal solution found\n",
      "Optimal solution found\n"
     ]
    },
    {
     "name": "stderr",
     "output_type": "stream",
     "text": [
      "Processing instances:  95%|█████████▌| 190/199 [23:14<00:02,  4.10it/s]"
     ]
    },
    {
     "name": "stdout",
     "output_type": "stream",
     "text": [
      "Optimal solution found\n",
      "Optimal solution found\n",
      "Optimal solution found\n",
      "Optimal solution found\n"
     ]
    },
    {
     "name": "stderr",
     "output_type": "stream",
     "text": [
      "Processing instances:  97%|█████████▋| 193/199 [23:40<00:13,  2.33s/it]"
     ]
    },
    {
     "name": "stdout",
     "output_type": "stream",
     "text": [
      "Optimal solution found\n",
      "Optimal solution found\n",
      "Optimal solution found\n",
      "Optimal solution found\n",
      "Optimal solution found\n"
     ]
    },
    {
     "name": "stderr",
     "output_type": "stream",
     "text": [
      "Processing instances:  99%|█████████▉| 198/199 [23:40<00:01,  1.49s/it]"
     ]
    },
    {
     "name": "stdout",
     "output_type": "stream",
     "text": [
      "Optimal solution found\n"
     ]
    },
    {
     "name": "stderr",
     "output_type": "stream",
     "text": [
      "Processing instances: 100%|██████████| 199/199 [23:41<00:00,  7.14s/it]"
     ]
    },
    {
     "name": "stdout",
     "output_type": "stream",
     "text": [
      "Optimal solution found\n",
      "Merged results saved to ./results_cpp/final_min/or/or_32_256.csv\n"
     ]
    },
    {
     "name": "stderr",
     "output_type": "stream",
     "text": [
      "\n"
     ]
    }
   ],
   "source": [
    "base_directory = \"dataset_200.csv\" #Path of input dataset file\n",
    "output_csv = \"output.csv\" #Path of output file\n",
    "process_knapsack_instances(base_directory, output_csv)"
   ]
  },
  {
   "cell_type": "code",
   "execution_count": null,
   "id": "73fde68f",
   "metadata": {},
   "outputs": [],
   "source": []
  }
 ],
 "metadata": {
  "kernelspec": {
   "display_name": "Python [conda env:torch-gpu]",
   "language": "python",
   "name": "conda-env-torch-gpu-py"
  },
  "language_info": {
   "codemirror_mode": {
    "name": "ipython",
    "version": 3
   },
   "file_extension": ".py",
   "mimetype": "text/x-python",
   "name": "python",
   "nbconvert_exporter": "python",
   "pygments_lexer": "ipython3",
   "version": "3.12.8"
  }
 },
 "nbformat": 4,
 "nbformat_minor": 5
}
